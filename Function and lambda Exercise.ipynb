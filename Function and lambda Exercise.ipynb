{
 "cells": [
  {
   "cell_type": "markdown",
   "id": "97c7d3d7",
   "metadata": {},
   "source": [
    "q1: try to print a prime number in between 1 to 1000.\n",
    "\n",
    "q2: try to write a func which is equivalent to print function in python.\n",
    "\n",
    "q3: try to write a func which is replica of list append, extend and pop function.\n",
    "\n",
    "q4: try to write a lambda func which can return a concatenation of all the string that we will pass.\n",
    "\n",
    "q5: try to write a lambda func which will return list of squares of all the data bw 1-100\n",
    "\n",
    "q6: write a 10 different different lambda func with choice of your task\n",
    "\n",
    "q7: try to write a func which can perform read operation from .txt file"
   ]
  },
  {
   "cell_type": "markdown",
   "id": "ca670088",
   "metadata": {},
   "source": [
    "# q1 : Try to print a prime number in between 1 to 1000"
   ]
  },
  {
   "cell_type": "code",
   "execution_count": 34,
   "id": "82cfdf9d",
   "metadata": {},
   "outputs": [
    {
     "name": "stdout",
     "output_type": "stream",
     "text": [
      "a prime number in between 1 to 1000:  797\n"
     ]
    }
   ],
   "source": [
    "l=[]\n",
    "for num in range(1, 1001):\n",
    "    if num > 1:\n",
    "        for i in range(2, num):\n",
    "            if (num % i) == 0:\n",
    "                break\n",
    "        else:\n",
    "            l.append(num)\n",
    "import random \n",
    "print(\"a prime number in between 1 to 1000: \",random.choice(l))"
   ]
  },
  {
   "cell_type": "markdown",
   "id": "2b60996d",
   "metadata": {},
   "source": [
    "# q2 : Try to write a function which  is equivalent  to print function in python"
   ]
  },
  {
   "cell_type": "code",
   "execution_count": 35,
   "id": "24920cc4",
   "metadata": {},
   "outputs": [],
   "source": [
    "s=\"shubham\""
   ]
  },
  {
   "cell_type": "code",
   "execution_count": 36,
   "id": "73e9d8d9",
   "metadata": {},
   "outputs": [],
   "source": [
    "l=[1,2,3,\"a\"]"
   ]
  },
  {
   "cell_type": "code",
   "execution_count": 37,
   "id": "2ddba905",
   "metadata": {},
   "outputs": [],
   "source": [
    "t=(1,2,\"a\")"
   ]
  },
  {
   "cell_type": "code",
   "execution_count": 38,
   "id": "ffec0b06",
   "metadata": {},
   "outputs": [],
   "source": [
    "se={1,2,\"b\"}"
   ]
  },
  {
   "cell_type": "code",
   "execution_count": 39,
   "id": "21ea2090",
   "metadata": {},
   "outputs": [],
   "source": [
    "d = {\"name\": 1234, \"contact\": 9876}"
   ]
  },
  {
   "cell_type": "code",
   "execution_count": 40,
   "id": "ca380f8d",
   "metadata": {},
   "outputs": [],
   "source": [
    "def printv2(l):\n",
    "        return l"
   ]
  },
  {
   "cell_type": "code",
   "execution_count": 41,
   "id": "54c8a12c",
   "metadata": {},
   "outputs": [
    {
     "data": {
      "text/plain": [
       "2"
      ]
     },
     "execution_count": 41,
     "metadata": {},
     "output_type": "execute_result"
    }
   ],
   "source": [
    "a=2\n",
    "printv2(a)"
   ]
  },
  {
   "cell_type": "code",
   "execution_count": 42,
   "id": "759c5b1a",
   "metadata": {},
   "outputs": [
    {
     "data": {
      "text/plain": [
       "2.56"
      ]
     },
     "execution_count": 42,
     "metadata": {},
     "output_type": "execute_result"
    }
   ],
   "source": [
    "a=2.56\n",
    "printv2(a)"
   ]
  },
  {
   "cell_type": "code",
   "execution_count": 43,
   "id": "6b80228c",
   "metadata": {},
   "outputs": [
    {
     "data": {
      "text/plain": [
       "(3+9j)"
      ]
     },
     "execution_count": 43,
     "metadata": {},
     "output_type": "execute_result"
    }
   ],
   "source": [
    "a= 3+9j\n",
    "printv2(a)"
   ]
  },
  {
   "cell_type": "code",
   "execution_count": 44,
   "id": "daa5bfda",
   "metadata": {},
   "outputs": [
    {
     "data": {
      "text/plain": [
       "'shubham'"
      ]
     },
     "execution_count": 44,
     "metadata": {},
     "output_type": "execute_result"
    }
   ],
   "source": [
    "printv2(s)"
   ]
  },
  {
   "cell_type": "code",
   "execution_count": 45,
   "id": "32af3613",
   "metadata": {},
   "outputs": [
    {
     "data": {
      "text/plain": [
       "[1, 2, 3, 'a']"
      ]
     },
     "execution_count": 45,
     "metadata": {},
     "output_type": "execute_result"
    }
   ],
   "source": [
    "printv2(l)"
   ]
  },
  {
   "cell_type": "code",
   "execution_count": 46,
   "id": "7c53e442",
   "metadata": {},
   "outputs": [
    {
     "data": {
      "text/plain": [
       "(1, 2, 'a')"
      ]
     },
     "execution_count": 46,
     "metadata": {},
     "output_type": "execute_result"
    }
   ],
   "source": [
    "printv2(t)"
   ]
  },
  {
   "cell_type": "code",
   "execution_count": 47,
   "id": "9f537f59",
   "metadata": {},
   "outputs": [
    {
     "data": {
      "text/plain": [
       "{1, 2, 'b'}"
      ]
     },
     "execution_count": 47,
     "metadata": {},
     "output_type": "execute_result"
    }
   ],
   "source": [
    "printv2(se)"
   ]
  },
  {
   "cell_type": "code",
   "execution_count": 48,
   "id": "013bbd1e",
   "metadata": {},
   "outputs": [
    {
     "data": {
      "text/plain": [
       "{'name': 1234, 'contact': 9876}"
      ]
     },
     "execution_count": 48,
     "metadata": {},
     "output_type": "execute_result"
    }
   ],
   "source": [
    "printv2(d)"
   ]
  },
  {
   "cell_type": "markdown",
   "id": "eb7e7b0c",
   "metadata": {},
   "source": [
    "# q3 : Try to write a function which is a replica of list append , extend and pop function"
   ]
  },
  {
   "cell_type": "code",
   "execution_count": 49,
   "id": "77683f5f",
   "metadata": {},
   "outputs": [],
   "source": [
    "l= [1,2,3,4,5,6]"
   ]
  },
  {
   "cell_type": "markdown",
   "id": "6b43970b",
   "metadata": {},
   "source": [
    "# Replica of append()"
   ]
  },
  {
   "cell_type": "code",
   "execution_count": 50,
   "id": "7d0086fb",
   "metadata": {},
   "outputs": [],
   "source": [
    "def appendv2(l,a):\n",
    "    \"\"\"This is a replica of append functions it takes two arguments first is list and \n",
    "    second the object that is required to be appended\"\"\"\n",
    "    l= l + [a]\n",
    "    return l"
   ]
  },
  {
   "cell_type": "code",
   "execution_count": 51,
   "id": "e137b329",
   "metadata": {},
   "outputs": [
    {
     "data": {
      "text/plain": [
       "[1, 2, 3, 4, 5, 6, 3456]"
      ]
     },
     "execution_count": 51,
     "metadata": {},
     "output_type": "execute_result"
    }
   ],
   "source": [
    "appendv2(l,3456)"
   ]
  },
  {
   "cell_type": "code",
   "execution_count": 52,
   "id": "4f5b1c7a",
   "metadata": {},
   "outputs": [
    {
     "data": {
      "text/plain": [
       "[1, 2, 3, 4, 5, 6, 'shubham']"
      ]
     },
     "execution_count": 52,
     "metadata": {},
     "output_type": "execute_result"
    }
   ],
   "source": [
    "appendv2(l,\"shubham\")"
   ]
  },
  {
   "cell_type": "code",
   "execution_count": 53,
   "id": "e1aa5c41",
   "metadata": {},
   "outputs": [
    {
     "data": {
      "text/plain": [
       "[1, 2, 3, 4, 5, 6, [1, 2, 3, 4, 5]]"
      ]
     },
     "execution_count": 53,
     "metadata": {},
     "output_type": "execute_result"
    }
   ],
   "source": [
    "appendv2(l,[1,2,3,4,5])"
   ]
  },
  {
   "cell_type": "markdown",
   "id": "a6b63fb3",
   "metadata": {},
   "source": [
    "# Replica of extend()"
   ]
  },
  {
   "cell_type": "code",
   "execution_count": 54,
   "id": "82d01701",
   "metadata": {},
   "outputs": [],
   "source": [
    "def extendv2(l,l1):\n",
    "    \"\"\"this is a replica of extend function, it takes two argument(iterables),\n",
    "    it expands a list(first argument) by appending elements from iterables(second argument)\"\"\"\n",
    "    l3 = []\n",
    "    if type(l1) == list or type(l1) == str or type(l1) == tuple or type(l1) == set:\n",
    "        for i in l:\n",
    "            l3 = l3 + [i]\n",
    "        for j in l1:\n",
    "                l3 = l3 + [j]\n",
    "    if type(l1) == dict:\n",
    "        for i in l:\n",
    "            l3 = l3 + [i]\n",
    "        for k in l1:\n",
    "            l3 = l3 + [k]\n",
    "    return l3       "
   ]
  },
  {
   "cell_type": "code",
   "execution_count": 55,
   "id": "223e253b",
   "metadata": {},
   "outputs": [],
   "source": [
    "l= [1,2,3,4,5]"
   ]
  },
  {
   "cell_type": "code",
   "execution_count": 56,
   "id": "71e59c8b",
   "metadata": {},
   "outputs": [],
   "source": [
    "s=\"shubham\""
   ]
  },
  {
   "cell_type": "code",
   "execution_count": 57,
   "id": "2722efcc",
   "metadata": {},
   "outputs": [
    {
     "data": {
      "text/plain": [
       "[1, 2, 3, 4, 5, 's', 'h', 'u', 'b', 'h', 'a', 'm']"
      ]
     },
     "execution_count": 57,
     "metadata": {},
     "output_type": "execute_result"
    }
   ],
   "source": [
    "extendv2(l,s)"
   ]
  },
  {
   "cell_type": "code",
   "execution_count": 58,
   "id": "1b4a33f4",
   "metadata": {},
   "outputs": [],
   "source": [
    "l1 = [11,22,33,44,55,66]"
   ]
  },
  {
   "cell_type": "code",
   "execution_count": 59,
   "id": "10d5ca05",
   "metadata": {},
   "outputs": [
    {
     "data": {
      "text/plain": [
       "[1, 2, 3, 4, 5, 11, 22, 33, 44, 55, 66]"
      ]
     },
     "execution_count": 59,
     "metadata": {},
     "output_type": "execute_result"
    }
   ],
   "source": [
    "extendv2(l,l1)"
   ]
  },
  {
   "cell_type": "code",
   "execution_count": 60,
   "id": "379fddc3",
   "metadata": {},
   "outputs": [],
   "source": [
    "t =(55,\"shubh\", 678)"
   ]
  },
  {
   "cell_type": "code",
   "execution_count": 61,
   "id": "70468aad",
   "metadata": {},
   "outputs": [
    {
     "data": {
      "text/plain": [
       "[1, 2, 3, 4, 5, 55, 'shubh', 678]"
      ]
     },
     "execution_count": 61,
     "metadata": {},
     "output_type": "execute_result"
    }
   ],
   "source": [
    "extendv2(l,t)"
   ]
  },
  {
   "cell_type": "code",
   "execution_count": 62,
   "id": "eb06a662",
   "metadata": {},
   "outputs": [],
   "source": [
    "se = {\"a\",\"b\",33,44,66,77}"
   ]
  },
  {
   "cell_type": "code",
   "execution_count": 63,
   "id": "14fb8dc7",
   "metadata": {},
   "outputs": [
    {
     "data": {
      "text/plain": [
       "[1, 2, 3, 4, 5, 33, 66, 77, 'a', 44, 'b']"
      ]
     },
     "execution_count": 63,
     "metadata": {},
     "output_type": "execute_result"
    }
   ],
   "source": [
    "extendv2(l,se)"
   ]
  },
  {
   "cell_type": "code",
   "execution_count": 64,
   "id": "589fcf1a",
   "metadata": {},
   "outputs": [],
   "source": [
    "d = {123:\"shubham\", \"name\": 4565677}"
   ]
  },
  {
   "cell_type": "code",
   "execution_count": 65,
   "id": "c64aefe1",
   "metadata": {},
   "outputs": [
    {
     "data": {
      "text/plain": [
       "[1, 2, 3, 4, 5, 123, 'name']"
      ]
     },
     "execution_count": 65,
     "metadata": {},
     "output_type": "execute_result"
    }
   ],
   "source": [
    "extendv2(l,d)"
   ]
  },
  {
   "cell_type": "markdown",
   "id": "b6073fe7",
   "metadata": {},
   "source": [
    "# replica of pop()"
   ]
  },
  {
   "cell_type": "code",
   "execution_count": 66,
   "id": "295faa64",
   "metadata": {},
   "outputs": [],
   "source": [
    "l=[1,2,3,4,5,6]"
   ]
  },
  {
   "cell_type": "code",
   "execution_count": 67,
   "id": "8f11946d",
   "metadata": {},
   "outputs": [],
   "source": [
    "def popindexv2(l,a):\n",
    "    \"\"\"this is a replica of pop function, it takes two argument, a list and an index to pop, it \n",
    "    retuens a list without the object at specified index \"\"\"\n",
    "    l3 = []\n",
    "    for i in range(0,a):\n",
    "        l3 = l3 +[l[i]]\n",
    "    for i in range(a+1, len(l)):\n",
    "        l3 = l3 + [l[i]]\n",
    "    l = l3\n",
    "    return  l"
   ]
  },
  {
   "cell_type": "code",
   "execution_count": 68,
   "id": "7a48b0a8",
   "metadata": {},
   "outputs": [
    {
     "data": {
      "text/plain": [
       "[1, 2, 4, 5, 6]"
      ]
     },
     "execution_count": 68,
     "metadata": {},
     "output_type": "execute_result"
    }
   ],
   "source": [
    "popindexv2(l, 2)"
   ]
  },
  {
   "cell_type": "code",
   "execution_count": 69,
   "id": "121a4607",
   "metadata": {},
   "outputs": [
    {
     "data": {
      "text/plain": [
       "[1, 2, 3, 4, 5, 6]"
      ]
     },
     "execution_count": 69,
     "metadata": {},
     "output_type": "execute_result"
    }
   ],
   "source": [
    "l"
   ]
  },
  {
   "cell_type": "code",
   "execution_count": 70,
   "id": "e979d1bf",
   "metadata": {},
   "outputs": [],
   "source": [
    "def popv2(l):\n",
    "    \"\"\"This pop function doesnot uses index and removes last \n",
    "    object in list by default\"\"\"\n",
    "    l3 = []\n",
    "    for i in range(0,len(l) - 1):\n",
    "        l3 = l3 + [l[i]]\n",
    "    l = l3\n",
    "    return  l"
   ]
  },
  {
   "cell_type": "code",
   "execution_count": 71,
   "id": "b2cf9324",
   "metadata": {},
   "outputs": [
    {
     "data": {
      "text/plain": [
       "[1, 2, 3, 4, 5]"
      ]
     },
     "execution_count": 71,
     "metadata": {},
     "output_type": "execute_result"
    }
   ],
   "source": [
    "popv2(l)"
   ]
  },
  {
   "cell_type": "markdown",
   "id": "12814815",
   "metadata": {},
   "source": [
    "# q4 : Try to write a lambda function which can return a concatination of all the string that we will pass"
   ]
  },
  {
   "cell_type": "code",
   "execution_count": 72,
   "id": "70fdff8e",
   "metadata": {},
   "outputs": [
    {
     "data": {
      "text/plain": [
       "'shubhamrameshcurrymoglibaghirakirk'"
      ]
     },
     "execution_count": 72,
     "metadata": {},
     "output_type": "execute_result"
    }
   ],
   "source": [
    "sc= lambda a,b,c,d,e,f : a+b+c+d+e+f\n",
    "sc(\"shubham\", \"ramesh\",\"curry\",\"mogli\",\"baghira\",\"kirk\")"
   ]
  },
  {
   "cell_type": "markdown",
   "id": "f8ee25bc",
   "metadata": {},
   "source": [
    "# q5 : Try to write a lambda function which can return list of square of all the data between 1-100 "
   ]
  },
  {
   "cell_type": "code",
   "execution_count": 73,
   "id": "a5086197",
   "metadata": {},
   "outputs": [],
   "source": [
    "n1 = lambda x : [i**2 for i in range(1,x)]"
   ]
  },
  {
   "cell_type": "code",
   "execution_count": 74,
   "id": "8020752f",
   "metadata": {},
   "outputs": [
    {
     "data": {
      "text/plain": [
       "[1, 4, 9, 16, 25, 36, 49, 64, 81]"
      ]
     },
     "execution_count": 74,
     "metadata": {},
     "output_type": "execute_result"
    }
   ],
   "source": [
    "n1(10)"
   ]
  },
  {
   "cell_type": "markdown",
   "id": "cbb664a9",
   "metadata": {},
   "source": [
    "# q6 : Try to write a 10 Different different example of lambda function with a choice of your task "
   ]
  },
  {
   "cell_type": "markdown",
   "id": "2bfa77cb",
   "metadata": {},
   "source": [
    " 1: if string startswith a particular letter."
   ]
  },
  {
   "cell_type": "code",
   "execution_count": 75,
   "id": "7d639306",
   "metadata": {},
   "outputs": [],
   "source": [
    "p1= lambda a : True if a.startswith(\"s\") else False "
   ]
  },
  {
   "cell_type": "code",
   "execution_count": 76,
   "id": "2a314046",
   "metadata": {},
   "outputs": [
    {
     "data": {
      "text/plain": [
       "True"
      ]
     },
     "execution_count": 76,
     "metadata": {},
     "output_type": "execute_result"
    }
   ],
   "source": [
    "p1('shubham')"
   ]
  },
  {
   "cell_type": "code",
   "execution_count": 77,
   "id": "882eafbb",
   "metadata": {},
   "outputs": [
    {
     "data": {
      "text/plain": [
       "False"
      ]
     },
     "execution_count": 77,
     "metadata": {},
     "output_type": "execute_result"
    }
   ],
   "source": [
    "p1(\"curry\")"
   ]
  },
  {
   "cell_type": "markdown",
   "id": "04f9f008",
   "metadata": {},
   "source": [
    "2. if a particular string is numeric"
   ]
  },
  {
   "cell_type": "code",
   "execution_count": 78,
   "id": "3b4f23f5",
   "metadata": {},
   "outputs": [],
   "source": [
    "p2= lambda a : True if a.isnumeric() else False"
   ]
  },
  {
   "cell_type": "code",
   "execution_count": 79,
   "id": "6d9383d8",
   "metadata": {},
   "outputs": [
    {
     "data": {
      "text/plain": [
       "True"
      ]
     },
     "execution_count": 79,
     "metadata": {},
     "output_type": "execute_result"
    }
   ],
   "source": [
    "p2(\"123456\")"
   ]
  },
  {
   "cell_type": "code",
   "execution_count": 80,
   "id": "7dc31b02",
   "metadata": {},
   "outputs": [
    {
     "data": {
      "text/plain": [
       "False"
      ]
     },
     "execution_count": 80,
     "metadata": {},
     "output_type": "execute_result"
    }
   ],
   "source": [
    "p2(\"shubham\")"
   ]
  },
  {
   "cell_type": "markdown",
   "id": "6ff0cca4",
   "metadata": {},
   "source": [
    "3. sort a list of tuples having fruit name and its quantity using Lambda."
   ]
  },
  {
   "cell_type": "code",
   "execution_count": 81,
   "id": "b165cce8",
   "metadata": {},
   "outputs": [
    {
     "name": "stdout",
     "output_type": "stream",
     "text": [
      "sorted data:  [('orange', 80), ('mango', 99), ('grapes', 1000)]\n"
     ]
    }
   ],
   "source": [
    "l=[(\"mango\",99),(\"orange\",80), (\"grapes\", 1000)]\n",
    "l.sort(key= lambda x : x[1])\n",
    "print(\"sorted data: \",l)"
   ]
  },
  {
   "cell_type": "markdown",
   "id": "84d1eb48",
   "metadata": {},
   "source": [
    "4. adding new elements in given tuple"
   ]
  },
  {
   "cell_type": "code",
   "execution_count": 82,
   "id": "85660369",
   "metadata": {},
   "outputs": [],
   "source": [
    "p4 = lambda a, *b : a+b"
   ]
  },
  {
   "cell_type": "code",
   "execution_count": 83,
   "id": "f7629a25",
   "metadata": {},
   "outputs": [
    {
     "data": {
      "text/plain": [
       "(1, 2, 3, 4, 5, 8, 8, 9, 9, 'sam', 'gsw', 99, [1, 'mango'])"
      ]
     },
     "execution_count": 83,
     "metadata": {},
     "output_type": "execute_result"
    }
   ],
   "source": [
    "p4((1,2,3,4,5),8,8,9,9,\"sam\",\"gsw\",99,[1,\"mango\"])"
   ]
  },
  {
   "cell_type": "markdown",
   "id": "9830bbe5",
   "metadata": {},
   "source": [
    "4. find cube root and square root of numbers from 1 to 10"
   ]
  },
  {
   "cell_type": "code",
   "execution_count": 84,
   "id": "cedf6f06",
   "metadata": {},
   "outputs": [
    {
     "data": {
      "text/plain": [
       "[1.0,\n",
       " 1.4142135623730951,\n",
       " 1.7320508075688772,\n",
       " 2.0,\n",
       " 2.23606797749979,\n",
       " 2.449489742783178,\n",
       " 2.6457513110645907,\n",
       " 2.8284271247461903,\n",
       " 3.0,\n",
       " 3.1622776601683795]"
      ]
     },
     "execution_count": 84,
     "metadata": {},
     "output_type": "execute_result"
    }
   ],
   "source": [
    "sr = lambda *x : [i**0.5 for i in x]\n",
    "sr(1,2,3,4,5,6,7,8,9,10)"
   ]
  },
  {
   "cell_type": "code",
   "execution_count": 85,
   "id": "46e6ec94",
   "metadata": {},
   "outputs": [
    {
     "data": {
      "text/plain": [
       "[1.0,\n",
       " 1.259921020784516,\n",
       " 1.4422495174916392,\n",
       " 1.587400978614697,\n",
       " 1.7099758549400288,\n",
       " 1.8171204843040418,\n",
       " 1.9129310586926531,\n",
       " 1.9999998613705687,\n",
       " 2.0800836707048664,\n",
       " 2.154434524672917]"
      ]
     },
     "execution_count": 85,
     "metadata": {},
     "output_type": "execute_result"
    }
   ],
   "source": [
    "cr = lambda *y : [i**0.3333333 for i in y]\n",
    "cr(1,2,3,4,5,6,7,8,9,10)"
   ]
  },
  {
   "cell_type": "markdown",
   "id": "394fb4e1",
   "metadata": {},
   "source": [
    "5. check if given number is even or odd"
   ]
  },
  {
   "cell_type": "code",
   "execution_count": 86,
   "id": "d2edfdd4",
   "metadata": {},
   "outputs": [],
   "source": [
    "even = lambda x : x % 2 == 0"
   ]
  },
  {
   "cell_type": "code",
   "execution_count": 87,
   "id": "9503dc64",
   "metadata": {},
   "outputs": [
    {
     "data": {
      "text/plain": [
       "False"
      ]
     },
     "execution_count": 87,
     "metadata": {},
     "output_type": "execute_result"
    }
   ],
   "source": [
    "even(55)"
   ]
  },
  {
   "cell_type": "code",
   "execution_count": 88,
   "id": "a032af4c",
   "metadata": {},
   "outputs": [
    {
     "data": {
      "text/plain": [
       "True"
      ]
     },
     "execution_count": 88,
     "metadata": {},
     "output_type": "execute_result"
    }
   ],
   "source": [
    "even(54)"
   ]
  },
  {
   "cell_type": "code",
   "execution_count": 89,
   "id": "df70f146",
   "metadata": {},
   "outputs": [],
   "source": [
    "odd = lambda x : x % 2 != 0 "
   ]
  },
  {
   "cell_type": "code",
   "execution_count": 90,
   "id": "042745dc",
   "metadata": {},
   "outputs": [
    {
     "data": {
      "text/plain": [
       "True"
      ]
     },
     "execution_count": 90,
     "metadata": {},
     "output_type": "execute_result"
    }
   ],
   "source": [
    "odd(99)"
   ]
  },
  {
   "cell_type": "code",
   "execution_count": 91,
   "id": "9ecb0ff8",
   "metadata": {},
   "outputs": [
    {
     "data": {
      "text/plain": [
       "False"
      ]
     },
     "execution_count": 91,
     "metadata": {},
     "output_type": "execute_result"
    }
   ],
   "source": [
    "odd(98)"
   ]
  },
  {
   "cell_type": "markdown",
   "id": "a4398438",
   "metadata": {},
   "source": [
    "6. filter Even and Odd no. from a list into different list:"
   ]
  },
  {
   "cell_type": "code",
   "execution_count": 92,
   "id": "88c8954d",
   "metadata": {},
   "outputs": [],
   "source": [
    "def sortlist(l):\n",
    "    \"\"\"Function to get seperate list of Even and Odd Numbers\"\"\"\n",
    "    even = list(filter(lambda x : x % 2 == 0 , l))\n",
    "    print(\"List of Even No is: \",even)\n",
    "    odd = list(filter(lambda x : x % 2 != 0 , l ))\n",
    "    print(\"List of Odd No is: \",odd)"
   ]
  },
  {
   "cell_type": "code",
   "execution_count": 93,
   "id": "55a00c1b",
   "metadata": {},
   "outputs": [
    {
     "name": "stdout",
     "output_type": "stream",
     "text": [
      "List of Even No is:  [2, 4, 6, 8, 10]\n",
      "List of Odd No is:  [1, 3, 5, 7, 9]\n"
     ]
    }
   ],
   "source": [
    "sortlist([1,2,3,4,5,6,7,8,9,10])"
   ]
  },
  {
   "cell_type": "markdown",
   "id": "a121cbc6",
   "metadata": {},
   "source": [
    "7. Multiplication table of any number."
   ]
  },
  {
   "cell_type": "code",
   "execution_count": 94,
   "id": "2234c511",
   "metadata": {},
   "outputs": [],
   "source": [
    "t = lambda n : [i * n for i in range(1,11)]"
   ]
  },
  {
   "cell_type": "code",
   "execution_count": 95,
   "id": "e77aba99",
   "metadata": {},
   "outputs": [
    {
     "data": {
      "text/plain": [
       "[2, 4, 6, 8, 10, 12, 14, 16, 18, 20]"
      ]
     },
     "execution_count": 95,
     "metadata": {},
     "output_type": "execute_result"
    }
   ],
   "source": [
    "t(2)"
   ]
  },
  {
   "cell_type": "code",
   "execution_count": 96,
   "id": "6125e50a",
   "metadata": {},
   "outputs": [
    {
     "data": {
      "text/plain": [
       "[66, 132, 198, 264, 330, 396, 462, 528, 594, 660]"
      ]
     },
     "execution_count": 96,
     "metadata": {},
     "output_type": "execute_result"
    }
   ],
   "source": [
    "t(66)"
   ]
  },
  {
   "cell_type": "markdown",
   "id": "cf50ba28",
   "metadata": {},
   "source": [
    "8. Square and cubes of a list of integers"
   ]
  },
  {
   "cell_type": "code",
   "execution_count": 97,
   "id": "7f98ca3a",
   "metadata": {},
   "outputs": [],
   "source": [
    "def scubes(l):\n",
    "    squares = list(map(lambda x : x**2 , l))\n",
    "    print(\"squares of numbers in given list is: \", squares)\n",
    "    cubes = list(map(lambda x : x**3 , l))\n",
    "    print(\"cubes of numbers in given list is: \", cubes)"
   ]
  },
  {
   "cell_type": "code",
   "execution_count": 98,
   "id": "1c897a06",
   "metadata": {},
   "outputs": [
    {
     "name": "stdout",
     "output_type": "stream",
     "text": [
      "squares of numbers in given list is:  [1, 4, 9, 16, 25, 36, 49, 64, 81, 100]\n",
      "cubes of numbers in given list is:  [1, 8, 27, 64, 125, 216, 343, 512, 729, 1000]\n"
     ]
    }
   ],
   "source": [
    "scubes([1,2,3,4,5,6,7,8,9,10])"
   ]
  },
  {
   "cell_type": "markdown",
   "id": "c68aeaa1",
   "metadata": {},
   "source": [
    "9. sort a list into positive and negative integers"
   ]
  },
  {
   "cell_type": "code",
   "execution_count": 99,
   "id": "dee10e25",
   "metadata": {},
   "outputs": [],
   "source": [
    "def sortint(l):\n",
    "    \"\"\"Function to get seperate list of Even and Odd Numbers\"\"\"\n",
    "    pos = list(filter(lambda x : x if x > 0 else 0, l))\n",
    "    print(\"List of Positive Integers is: \",pos)\n",
    "    neg = list(filter(lambda x : x if x < 0 else 0 , l ))\n",
    "    print(\"List of Negative Integers is: \",neg)"
   ]
  },
  {
   "cell_type": "code",
   "execution_count": 100,
   "id": "7580eebf",
   "metadata": {},
   "outputs": [
    {
     "name": "stdout",
     "output_type": "stream",
     "text": [
      "List of Positive Integers is:  [1, 2, 3, 4, 5, 6]\n",
      "List of Negative Integers is:  [-1, -2, -3, -4, -5]\n"
     ]
    }
   ],
   "source": [
    "sortint([1,2,3,4,5,6,-1,-2,-3,-4,-5,0])"
   ]
  },
  {
   "cell_type": "markdown",
   "id": "4621acb7",
   "metadata": {},
   "source": [
    "10. comparing two numbers and return ing greatest"
   ]
  },
  {
   "cell_type": "code",
   "execution_count": 101,
   "id": "b1953f23",
   "metadata": {},
   "outputs": [],
   "source": [
    "p10 = lambda a,b : a if a > b else b"
   ]
  },
  {
   "cell_type": "code",
   "execution_count": 102,
   "id": "56bc7601",
   "metadata": {},
   "outputs": [
    {
     "data": {
      "text/plain": [
       "1999"
      ]
     },
     "execution_count": 102,
     "metadata": {},
     "output_type": "execute_result"
    }
   ],
   "source": [
    "p10(99,1999)"
   ]
  },
  {
   "cell_type": "code",
   "execution_count": 103,
   "id": "09614c94",
   "metadata": {},
   "outputs": [
    {
     "data": {
      "text/plain": [
       "8888"
      ]
     },
     "execution_count": 103,
     "metadata": {},
     "output_type": "execute_result"
    }
   ],
   "source": [
    "p10(8888,1234)"
   ]
  },
  {
   "cell_type": "markdown",
   "id": "621975e6",
   "metadata": {},
   "source": [
    "# q7 : Try to write a funtion which can perform a read operation from .txt file"
   ]
  },
  {
   "cell_type": "code",
   "execution_count": 104,
   "id": "afb5a5c2",
   "metadata": {},
   "outputs": [
    {
     "data": {
      "text/plain": [
       "'Wardell Stephen \"Steph\" Curry II, born March 14, 1988, is an American professional basketball player for the Golden \\nState Warriors of the National Basketball Association (NBA). Widely regarded as one of the greatest basketball \\nplayers of all time, and as the greatest shooter in NBA history, Curry is credited with revolutionizing the sport \\nby inspiring teams and players to routinely utilize the three-point shot. An eight-time NBA All-Star and eight-time \\nAll-NBA selection, including four times on the first team, he has been named the NBA  Most Valuable Player (MVP) twice\\nand has won three NBA championships.'"
      ]
     },
     "execution_count": 104,
     "metadata": {},
     "output_type": "execute_result"
    }
   ],
   "source": [
    "file = open(r\"C:\\Users\\Shubham\\Downloads\\test\\curry.txt\",\"r\")\n",
    "file.read()"
   ]
  },
  {
   "cell_type": "code",
   "execution_count": 105,
   "id": "cf2a3b57",
   "metadata": {},
   "outputs": [],
   "source": [
    "file.close()"
   ]
  }
 ],
 "metadata": {
  "kernelspec": {
   "display_name": "Python 3 (ipykernel)",
   "language": "python",
   "name": "python3"
  },
  "language_info": {
   "codemirror_mode": {
    "name": "ipython",
    "version": 3
   },
   "file_extension": ".py",
   "mimetype": "text/x-python",
   "name": "python",
   "nbconvert_exporter": "python",
   "pygments_lexer": "ipython3",
   "version": "3.9.12"
  }
 },
 "nbformat": 4,
 "nbformat_minor": 5
}
