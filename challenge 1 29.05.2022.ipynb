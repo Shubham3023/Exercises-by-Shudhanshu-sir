{
 "cells": [
  {
   "cell_type": "code",
   "execution_count": 1,
   "id": "ab2680fc",
   "metadata": {},
   "outputs": [
    {
     "data": {
      "text/plain": [
       "'q1 : Try to print this by using while loop \\n* \\n* * \\n* * * \\n* * * * \\n* * * * * \\n* * * * * * \\n* * * * * * * \\n* * * * * * * * \\n* * * * * * * * * '"
      ]
     },
     "execution_count": 1,
     "metadata": {},
     "output_type": "execute_result"
    }
   ],
   "source": [
    "\"\"\"q1 : Try to print this by using while loop \n",
    "* \n",
    "* * \n",
    "* * * \n",
    "* * * * \n",
    "* * * * * \n",
    "* * * * * * \n",
    "* * * * * * * \n",
    "* * * * * * * * \n",
    "* * * * * * * * * \"\"\""
   ]
  },
  {
   "cell_type": "code",
   "execution_count": 2,
   "id": "37acc0b1",
   "metadata": {},
   "outputs": [
    {
     "name": "stdout",
     "output_type": "stream",
     "text": [
      "*  \n",
      "* *  \n",
      "* * *  \n",
      "* * * *  \n",
      "* * * * *  \n",
      "* * * * * *  \n",
      "* * * * * * *  \n",
      "* * * * * * * *  \n"
     ]
    }
   ],
   "source": [
    "a=0\n",
    "\n",
    "while a <= len(range(7)):\n",
    "    b=0\n",
    "    while b<= a:\n",
    "        print(\"*\", end= \" \")\n",
    "        b += 1\n",
    "    print(\" \")\n",
    "    \n",
    "    a += 1"
   ]
  },
  {
   "cell_type": "code",
   "execution_count": 3,
   "id": "e9bd0ea0",
   "metadata": {},
   "outputs": [
    {
     "name": "stdout",
     "output_type": "stream",
     "text": [
      "\n",
      "* \n",
      "* * \n",
      "* * * \n",
      "* * * * \n",
      "* * * * * \n",
      "* * * * * * \n",
      "* * * * * * * \n",
      "* * * * * * * * \n"
     ]
    }
   ],
   "source": [
    "# using while and for loop\n",
    "# please ignore this solution\n",
    "a=0\n",
    "b=0\n",
    "while a < len(range(9)):\n",
    "    for j in range(a):\n",
    "        print(\"*\", end= \" \")\n",
    "    print(\"\")\n",
    "    a += 1"
   ]
  },
  {
   "cell_type": "code",
   "execution_count": 4,
   "id": "17cc1186",
   "metadata": {},
   "outputs": [
    {
     "data": {
      "text/plain": [
       "'q2 : try to print below by using while loop: \\n        \\nA\\nB H \\nC I N\\nD J O S\\nE K P T W\\nF L Q U X Z\\nG M R V Y \\n'"
      ]
     },
     "execution_count": 4,
     "metadata": {},
     "output_type": "execute_result"
    }
   ],
   "source": [
    "\"\"\"q2 : try to print below by using while loop: \n",
    "        \n",
    "A\n",
    "B H \n",
    "C I N\n",
    "D J O S\n",
    "E K P T W\n",
    "F L Q U X Z\n",
    "G M R V Y \n",
    "\"\"\""
   ]
  },
  {
   "cell_type": "code",
   "execution_count": 5,
   "id": "111c6d1b",
   "metadata": {},
   "outputs": [
    {
     "name": "stdout",
     "output_type": "stream",
     "text": [
      "A \n",
      "B H \n",
      "C I N \n",
      "D J O S \n",
      "E K P T W \n",
      "F L Q U X Z \n",
      "G M R V Y \n"
     ]
    }
   ],
   "source": [
    "l=[\"A\",\"B\",\"C\",\"D\",\"E\",\"F\",\"G\",\"H\",\"I\",\"J\",\"K\",\"L\",\"M\",\"N\",\"O\",\"P\",\"Q\",\"R\",\"S\",\"T\",\"U\",\"V\",\"W\",\"X\",\"Y\",\"Z\"]\n",
    "num= 7\n",
    "\n",
    "for i in range(num):\n",
    "    value = i\n",
    "    differenceincolm = num -1\n",
    "    for j in range(i+1):\n",
    "        print(l[value], end=\" \")\n",
    "        value = value + differenceincolm\n",
    "        differenceincolm = differenceincolm - 1\n",
    "        if value == 26 or value == 27 or value == 28:\n",
    "            break\n",
    "    print()"
   ]
  },
  {
   "cell_type": "markdown",
   "id": "8dc0b02a",
   "metadata": {},
   "source": [
    "# q3 : Try to print all the number divisible by 3 in between a range of 40 - 400"
   ]
  },
  {
   "cell_type": "code",
   "execution_count": 6,
   "id": "d3b8fe62",
   "metadata": {},
   "outputs": [
    {
     "name": "stdout",
     "output_type": "stream",
     "text": [
      "[42, 45, 48, 51, 54, 57, 60, 63, 66, 69, 72, 75, 78, 81, 84, 87, 90, 93, 96, 99, 102, 105, 108, 111, 114, 117, 120, 123, 126, 129, 132, 135, 138, 141, 144, 147, 150, 153, 156, 159, 162, 165, 168, 171, 174, 177, 180, 183, 186, 189, 192, 195, 198, 201, 204, 207, 210, 213, 216, 219, 222, 225, 228, 231, 234, 237, 240, 243, 246, 249, 252, 255, 258, 261, 264, 267, 270, 273, 276, 279, 282, 285, 288, 291, 294, 297, 300, 303, 306, 309, 312, 315, 318, 321, 324, 327, 330, 333, 336, 339, 342, 345, 348, 351, 354, 357, 360, 363, 366, 369, 372, 375, 378, 381, 384, 387, 390, 393, 396, 399]\n"
     ]
    }
   ],
   "source": [
    "l32=[]\n",
    "l31=list(range(40,401))\n",
    "for i in l31 :\n",
    "    if i % 3 == 0:\n",
    "        l32.append(i)\n",
    "print(l32)"
   ]
  },
  {
   "cell_type": "markdown",
   "id": "29662fad",
   "metadata": {},
   "source": [
    "# q4 : Try to filter out all the vowels form below text in string s by using while loop : "
   ]
  },
  {
   "cell_type": "code",
   "execution_count": 7,
   "id": "43321203",
   "metadata": {},
   "outputs": [],
   "source": [
    "s=\"\"\"Python is a high-level, interpreted, general-purpose programming language. Its design philosophy emphasizes code readability with the use of significant indentation.[32]\n",
    "\n",
    "Python is dynamically-typed and garbage-collected. It supports multiple programming paradigms, including structured (particularly procedural), object-oriented and functional programming. It is often described as a \"batteries included\" language due to its comprehensive standard library.[33][34]\n",
    "\n",
    "Guido van Rossum began working on Python in the late 1980s as a successor to the ABC programming language and first released it in 1991 as Python 0.9.0.[35] Python 2.0 was released in 2000 and introduced new features such as list comprehensions, cycle-detecting garbage collection, reference counting, and Unicode support. Python 3.0, released in 2008, was a major revision that is not completely backward-compatible with earlier versions. Python 2 was discontinued with version 2.7.18 in 2020.[36]\n",
    "\n",
    "Python consistently ranks as one of the most popular programming languagesc\"\"\""
   ]
  },
  {
   "cell_type": "code",
   "execution_count": 8,
   "id": "09b03ab0",
   "metadata": {},
   "outputs": [
    {
     "data": {
      "text/plain": [
       "'python is a high-level, interpreted, general-purpose programming language. its design philosophy emphasizes code readability with the use of significant indentation.[32]\\n\\npython is dynamically-typed and garbage-collected. it supports multiple programming paradigms, including structured (particularly procedural), object-oriented and functional programming. it is often described as a \"batteries included\" language due to its comprehensive standard library.[33][34]\\n\\nguido van rossum began working on python in the late 1980s as a successor to the abc programming language and first released it in 1991 as python 0.9.0.[35] python 2.0 was released in 2000 and introduced new features such as list comprehensions, cycle-detecting garbage collection, reference counting, and unicode support. python 3.0, released in 2008, was a major revision that is not completely backward-compatible with earlier versions. python 2 was discontinued with version 2.7.18 in 2020.[36]\\n\\npython consistently ranks as one of the most popular programming languagesc'"
      ]
     },
     "execution_count": 8,
     "metadata": {},
     "output_type": "execute_result"
    }
   ],
   "source": [
    "s.lower()"
   ]
  },
  {
   "cell_type": "code",
   "execution_count": 9,
   "id": "a964b1eb",
   "metadata": {},
   "outputs": [],
   "source": [
    "l=s.split(\" \")\n"
   ]
  },
  {
   "cell_type": "code",
   "execution_count": 10,
   "id": "23a6418b",
   "metadata": {},
   "outputs": [],
   "source": [
    "l1= []"
   ]
  },
  {
   "cell_type": "code",
   "execution_count": 11,
   "id": "eb568f4c",
   "metadata": {},
   "outputs": [
    {
     "name": "stdout",
     "output_type": "stream",
     "text": [
      "['o', 'i', 'a', 'i', 'e', 'e', 'i', 'e', 'e', 'e', 'e', 'e', 'a', 'u', 'o', 'e', 'o', 'a', 'i', 'a', 'u', 'a', 'e', 'e', 'i', 'i', 'o', 'o', 'e', 'a', 'i', 'e', 'o', 'e', 'e', 'a', 'a', 'i', 'i', 'i', 'e', 'u', 'e', 'o', 'i', 'i', 'i', 'a', 'i', 'e', 'a', 'i', 'o', 'o', 'i', 'a', 'i', 'a', 'e', 'a', 'a', 'a', 'e', 'o', 'e', 'e', 'u', 'o', 'u', 'i', 'e', 'o', 'a', 'i', 'a', 'a', 'i', 'i', 'u', 'i', 'u', 'u', 'e', 'a', 'i', 'u', 'a', 'o', 'e', 'u', 'a', 'o', 'e', 'o', 'i', 'e', 'e', 'a', 'u', 'i', 'o', 'a', 'o', 'a', 'i', 'i', 'o', 'e', 'e', 'i', 'e', 'a', 'a', 'a', 'e', 'i', 'e', 'i', 'u', 'e', 'a', 'u', 'a', 'e', 'u', 'e', 'o', 'i', 'o', 'e', 'e', 'i', 'e', 'a', 'a', 'i', 'a', 'u', 'i', 'o', 'a', 'o', 'u', 'e', 'a', 'o', 'i', 'o', 'o', 'i', 'e', 'a', 'e', 'a', 'a', 'u', 'e', 'o', 'o', 'e', 'o', 'a', 'i', 'a', 'u', 'a', 'e', 'a', 'i', 'e', 'e', 'a', 'e', 'i', 'i', 'a', 'o', 'o', 'a', 'e', 'e', 'a', 'e', 'i', 'a', 'i', 'o', 'u', 'e', 'e', 'e', 'a', 'u', 'e', 'u', 'a', 'i', 'o', 'e', 'e', 'i', 'o', 'e', 'e', 'e', 'i', 'a', 'a', 'e', 'o', 'e', 'i', 'o', 'e', 'e', 'e', 'e', 'o', 'u', 'i', 'a', 'i', 'o', 'e', 'u', 'o', 'o', 'e', 'e', 'a', 'e', 'i', 'a', 'a', 'a', 'o', 'e', 'i', 'i', 'o', 'a', 'i', 'o', 'o', 'e', 'e', 'a', 'a', 'o', 'a', 'i', 'e', 'i', 'e', 'a', 'i', 'e', 'e', 'i', 'o', 'o', 'a', 'i', 'o', 'i', 'u', 'e', 'i', 'e', 'i', 'o', 'i', 'o', 'o', 'i', 'e', 'a', 'a', 'o', 'e', 'o', 'e', 'o', 'o', 'u', 'a', 'o', 'a', 'i', 'a', 'u', 'a', 'e']\n"
     ]
    }
   ],
   "source": [
    "k=0\n",
    "\n",
    "while k< len(l):\n",
    "    if type(l[k]) == str:\n",
    "        p=0\n",
    "        while p < len(l[k]):\n",
    "            if l[k][p] == \"a\" or l[k][p] == \"e\" or l[k][p] == \"i\" or l[k][p] == \"o\" or l[k][p] == \"u\":\n",
    "                l1.append(l[k][p])\n",
    "            p += 1\n",
    "    k +=1\n",
    "print(l1)"
   ]
  },
  {
   "cell_type": "markdown",
   "id": "4e0dfd24",
   "metadata": {},
   "source": [
    "# q5 : Try to generate all the even number between 1- 1000"
   ]
  },
  {
   "cell_type": "code",
   "execution_count": 12,
   "id": "c13f81d7",
   "metadata": {},
   "outputs": [
    {
     "name": "stdout",
     "output_type": "stream",
     "text": [
      "[2, 4, 6, 8, 10, 12, 14, 16, 18, 20, 22, 24, 26, 28, 30, 32, 34, 36, 38, 40, 42, 44, 46, 48, 50, 52, 54, 56, 58, 60, 62, 64, 66, 68, 70, 72, 74, 76, 78, 80, 82, 84, 86, 88, 90, 92, 94, 96, 98, 100, 102, 104, 106, 108, 110, 112, 114, 116, 118, 120, 122, 124, 126, 128, 130, 132, 134, 136, 138, 140, 142, 144, 146, 148, 150, 152, 154, 156, 158, 160, 162, 164, 166, 168, 170, 172, 174, 176, 178, 180, 182, 184, 186, 188, 190, 192, 194, 196, 198, 200, 202, 204, 206, 208, 210, 212, 214, 216, 218, 220, 222, 224, 226, 228, 230, 232, 234, 236, 238, 240, 242, 244, 246, 248, 250, 252, 254, 256, 258, 260, 262, 264, 266, 268, 270, 272, 274, 276, 278, 280, 282, 284, 286, 288, 290, 292, 294, 296, 298, 300, 302, 304, 306, 308, 310, 312, 314, 316, 318, 320, 322, 324, 326, 328, 330, 332, 334, 336, 338, 340, 342, 344, 346, 348, 350, 352, 354, 356, 358, 360, 362, 364, 366, 368, 370, 372, 374, 376, 378, 380, 382, 384, 386, 388, 390, 392, 394, 396, 398, 400, 402, 404, 406, 408, 410, 412, 414, 416, 418, 420, 422, 424, 426, 428, 430, 432, 434, 436, 438, 440, 442, 444, 446, 448, 450, 452, 454, 456, 458, 460, 462, 464, 466, 468, 470, 472, 474, 476, 478, 480, 482, 484, 486, 488, 490, 492, 494, 496, 498, 500, 502, 504, 506, 508, 510, 512, 514, 516, 518, 520, 522, 524, 526, 528, 530, 532, 534, 536, 538, 540, 542, 544, 546, 548, 550, 552, 554, 556, 558, 560, 562, 564, 566, 568, 570, 572, 574, 576, 578, 580, 582, 584, 586, 588, 590, 592, 594, 596, 598, 600, 602, 604, 606, 608, 610, 612, 614, 616, 618, 620, 622, 624, 626, 628, 630, 632, 634, 636, 638, 640, 642, 644, 646, 648, 650, 652, 654, 656, 658, 660, 662, 664, 666, 668, 670, 672, 674, 676, 678, 680, 682, 684, 686, 688, 690, 692, 694, 696, 698, 700, 702, 704, 706, 708, 710, 712, 714, 716, 718, 720, 722, 724, 726, 728, 730, 732, 734, 736, 738, 740, 742, 744, 746, 748, 750, 752, 754, 756, 758, 760, 762, 764, 766, 768, 770, 772, 774, 776, 778, 780, 782, 784, 786, 788, 790, 792, 794, 796, 798, 800, 802, 804, 806, 808, 810, 812, 814, 816, 818, 820, 822, 824, 826, 828, 830, 832, 834, 836, 838, 840, 842, 844, 846, 848, 850, 852, 854, 856, 858, 860, 862, 864, 866, 868, 870, 872, 874, 876, 878, 880, 882, 884, 886, 888, 890, 892, 894, 896, 898, 900, 902, 904, 906, 908, 910, 912, 914, 916, 918, 920, 922, 924, 926, 928, 930, 932, 934, 936, 938, 940, 942, 944, 946, 948, 950, 952, 954, 956, 958, 960, 962, 964, 966, 968, 970, 972, 974, 976, 978, 980, 982, 984, 986, 988, 990, 992, 994, 996, 998, 1000]\n"
     ]
    }
   ],
   "source": [
    "l34=[]\n",
    "l33=list(range(1,1001))\n",
    "for i in l33:\n",
    "    if i % 2 == 0:\n",
    "        l34.append(i)\n",
    "print(l34)"
   ]
  },
  {
   "cell_type": "markdown",
   "id": "36c462b4",
   "metadata": {},
   "source": [
    "# q6 : Define a function for all the above problem statememnt. "
   ]
  },
  {
   "cell_type": "markdown",
   "id": "d4faf0ef",
   "metadata": {},
   "source": [
    "Q 1: Try to print this by using while loop"
   ]
  },
  {
   "cell_type": "code",
   "execution_count": 13,
   "id": "745fe9fa",
   "metadata": {},
   "outputs": [],
   "source": [
    "def test1(p):\n",
    "    \n",
    "    a=0\n",
    "    while a < len(range(p)):\n",
    "        b=0\n",
    "        while b<= a:\n",
    "            print(\"*\", end= \" \")\n",
    "            b += 1\n",
    "        print(\" \")\n",
    "    \n",
    "        a += 1"
   ]
  },
  {
   "cell_type": "code",
   "execution_count": 14,
   "id": "74f2ddb3",
   "metadata": {},
   "outputs": [
    {
     "name": "stdout",
     "output_type": "stream",
     "text": [
      "*  \n",
      "* *  \n",
      "* * *  \n",
      "* * * *  \n",
      "* * * * *  \n",
      "* * * * * *  \n",
      "* * * * * * *  \n",
      "* * * * * * * *  \n"
     ]
    }
   ],
   "source": [
    "test1(8)"
   ]
  },
  {
   "cell_type": "markdown",
   "id": "faa91c37",
   "metadata": {},
   "source": [
    "q3 : Try to print all the number divisible by 3 in between a range of 40 - 400"
   ]
  },
  {
   "cell_type": "code",
   "execution_count": 15,
   "id": "c5665d44",
   "metadata": {},
   "outputs": [],
   "source": [
    "def test2(p,q) :\n",
    "    l32=[]\n",
    "    l31=list(range(p,q+1))\n",
    "    for i in l31 :\n",
    "        if i % 3 == 0:\n",
    "            l32.append(i)\n",
    "    return l32"
   ]
  },
  {
   "cell_type": "code",
   "execution_count": 16,
   "id": "728b34ba",
   "metadata": {},
   "outputs": [
    {
     "data": {
      "text/plain": [
       "[42,\n",
       " 45,\n",
       " 48,\n",
       " 51,\n",
       " 54,\n",
       " 57,\n",
       " 60,\n",
       " 63,\n",
       " 66,\n",
       " 69,\n",
       " 72,\n",
       " 75,\n",
       " 78,\n",
       " 81,\n",
       " 84,\n",
       " 87,\n",
       " 90,\n",
       " 93,\n",
       " 96,\n",
       " 99,\n",
       " 102,\n",
       " 105,\n",
       " 108,\n",
       " 111,\n",
       " 114,\n",
       " 117,\n",
       " 120,\n",
       " 123,\n",
       " 126,\n",
       " 129,\n",
       " 132,\n",
       " 135,\n",
       " 138,\n",
       " 141,\n",
       " 144,\n",
       " 147,\n",
       " 150,\n",
       " 153,\n",
       " 156,\n",
       " 159,\n",
       " 162,\n",
       " 165,\n",
       " 168,\n",
       " 171,\n",
       " 174,\n",
       " 177,\n",
       " 180,\n",
       " 183,\n",
       " 186,\n",
       " 189,\n",
       " 192,\n",
       " 195,\n",
       " 198,\n",
       " 201,\n",
       " 204,\n",
       " 207,\n",
       " 210,\n",
       " 213,\n",
       " 216,\n",
       " 219,\n",
       " 222,\n",
       " 225,\n",
       " 228,\n",
       " 231,\n",
       " 234,\n",
       " 237,\n",
       " 240,\n",
       " 243,\n",
       " 246,\n",
       " 249,\n",
       " 252,\n",
       " 255,\n",
       " 258,\n",
       " 261,\n",
       " 264,\n",
       " 267,\n",
       " 270,\n",
       " 273,\n",
       " 276,\n",
       " 279,\n",
       " 282,\n",
       " 285,\n",
       " 288,\n",
       " 291,\n",
       " 294,\n",
       " 297,\n",
       " 300,\n",
       " 303,\n",
       " 306,\n",
       " 309,\n",
       " 312,\n",
       " 315,\n",
       " 318,\n",
       " 321,\n",
       " 324,\n",
       " 327,\n",
       " 330,\n",
       " 333,\n",
       " 336,\n",
       " 339,\n",
       " 342,\n",
       " 345,\n",
       " 348,\n",
       " 351,\n",
       " 354,\n",
       " 357,\n",
       " 360,\n",
       " 363,\n",
       " 366,\n",
       " 369,\n",
       " 372,\n",
       " 375,\n",
       " 378,\n",
       " 381,\n",
       " 384,\n",
       " 387,\n",
       " 390,\n",
       " 393,\n",
       " 396,\n",
       " 399]"
      ]
     },
     "execution_count": 16,
     "metadata": {},
     "output_type": "execute_result"
    }
   ],
   "source": [
    "test2(40,400)"
   ]
  },
  {
   "cell_type": "markdown",
   "id": "75ba6df5",
   "metadata": {},
   "source": [
    "q4 : Try to filter out all the vowels form below text in string s by using while loop : "
   ]
  },
  {
   "cell_type": "code",
   "execution_count": 17,
   "id": "14062e35",
   "metadata": {},
   "outputs": [],
   "source": [
    "def test3(s):\n",
    "    s.lower()\n",
    "    l=s.split(\" \")\n",
    "    l1= []\n",
    "    k=0\n",
    "\n",
    "    while k< len(l):\n",
    "        if type(l[k]) == str:\n",
    "            p=0\n",
    "            while p < len(l[k]):\n",
    "                if l[k][p] == \"a\" or l[k][p] == \"e\" or l[k][p] == \"i\" or l[k][p] == \"o\" or l[k][p] == \"u\":\n",
    "                    l1.append(l[k][p])\n",
    "                p += 1\n",
    "        k +=1\n",
    "    return l1"
   ]
  },
  {
   "cell_type": "code",
   "execution_count": 18,
   "id": "6b00c90f",
   "metadata": {},
   "outputs": [
    {
     "data": {
      "text/plain": [
       "['o',\n",
       " 'i',\n",
       " 'a',\n",
       " 'i',\n",
       " 'e',\n",
       " 'e',\n",
       " 'i',\n",
       " 'e',\n",
       " 'e',\n",
       " 'e',\n",
       " 'e',\n",
       " 'e',\n",
       " 'a',\n",
       " 'u',\n",
       " 'o',\n",
       " 'e',\n",
       " 'o',\n",
       " 'a',\n",
       " 'i',\n",
       " 'a',\n",
       " 'u',\n",
       " 'a',\n",
       " 'e',\n",
       " 'e',\n",
       " 'i',\n",
       " 'i',\n",
       " 'o',\n",
       " 'o',\n",
       " 'e',\n",
       " 'a',\n",
       " 'i',\n",
       " 'e',\n",
       " 'o',\n",
       " 'e',\n",
       " 'e',\n",
       " 'a',\n",
       " 'a',\n",
       " 'i',\n",
       " 'i',\n",
       " 'i',\n",
       " 'e',\n",
       " 'u',\n",
       " 'e',\n",
       " 'o',\n",
       " 'i',\n",
       " 'i',\n",
       " 'i',\n",
       " 'a',\n",
       " 'i',\n",
       " 'e',\n",
       " 'a',\n",
       " 'i',\n",
       " 'o',\n",
       " 'o',\n",
       " 'i',\n",
       " 'a',\n",
       " 'i',\n",
       " 'a',\n",
       " 'e',\n",
       " 'a',\n",
       " 'a',\n",
       " 'a',\n",
       " 'e',\n",
       " 'o',\n",
       " 'e',\n",
       " 'e',\n",
       " 'u',\n",
       " 'o',\n",
       " 'u',\n",
       " 'i',\n",
       " 'e',\n",
       " 'o',\n",
       " 'a',\n",
       " 'i',\n",
       " 'a',\n",
       " 'a',\n",
       " 'i',\n",
       " 'i',\n",
       " 'u',\n",
       " 'i',\n",
       " 'u',\n",
       " 'u',\n",
       " 'e',\n",
       " 'a',\n",
       " 'i',\n",
       " 'u',\n",
       " 'a',\n",
       " 'o',\n",
       " 'e',\n",
       " 'u',\n",
       " 'a',\n",
       " 'o',\n",
       " 'e',\n",
       " 'o',\n",
       " 'i',\n",
       " 'e',\n",
       " 'e',\n",
       " 'a',\n",
       " 'u',\n",
       " 'i',\n",
       " 'o',\n",
       " 'a',\n",
       " 'o',\n",
       " 'a',\n",
       " 'i',\n",
       " 'i',\n",
       " 'o',\n",
       " 'e',\n",
       " 'e',\n",
       " 'i',\n",
       " 'e',\n",
       " 'a',\n",
       " 'a',\n",
       " 'a',\n",
       " 'e',\n",
       " 'i',\n",
       " 'e',\n",
       " 'i',\n",
       " 'u',\n",
       " 'e',\n",
       " 'a',\n",
       " 'u',\n",
       " 'a',\n",
       " 'e',\n",
       " 'u',\n",
       " 'e',\n",
       " 'o',\n",
       " 'i',\n",
       " 'o',\n",
       " 'e',\n",
       " 'e',\n",
       " 'i',\n",
       " 'e',\n",
       " 'a',\n",
       " 'a',\n",
       " 'i',\n",
       " 'a',\n",
       " 'u',\n",
       " 'i',\n",
       " 'o',\n",
       " 'a',\n",
       " 'o',\n",
       " 'u',\n",
       " 'e',\n",
       " 'a',\n",
       " 'o',\n",
       " 'i',\n",
       " 'o',\n",
       " 'o',\n",
       " 'i',\n",
       " 'e',\n",
       " 'a',\n",
       " 'e',\n",
       " 'a',\n",
       " 'a',\n",
       " 'u',\n",
       " 'e',\n",
       " 'o',\n",
       " 'o',\n",
       " 'e',\n",
       " 'o',\n",
       " 'a',\n",
       " 'i',\n",
       " 'a',\n",
       " 'u',\n",
       " 'a',\n",
       " 'e',\n",
       " 'a',\n",
       " 'i',\n",
       " 'e',\n",
       " 'e',\n",
       " 'a',\n",
       " 'e',\n",
       " 'i',\n",
       " 'i',\n",
       " 'a',\n",
       " 'o',\n",
       " 'o',\n",
       " 'a',\n",
       " 'e',\n",
       " 'e',\n",
       " 'a',\n",
       " 'e',\n",
       " 'i',\n",
       " 'a',\n",
       " 'i',\n",
       " 'o',\n",
       " 'u',\n",
       " 'e',\n",
       " 'e',\n",
       " 'e',\n",
       " 'a',\n",
       " 'u',\n",
       " 'e',\n",
       " 'u',\n",
       " 'a',\n",
       " 'i',\n",
       " 'o',\n",
       " 'e',\n",
       " 'e',\n",
       " 'i',\n",
       " 'o',\n",
       " 'e',\n",
       " 'e',\n",
       " 'e',\n",
       " 'i',\n",
       " 'a',\n",
       " 'a',\n",
       " 'e',\n",
       " 'o',\n",
       " 'e',\n",
       " 'i',\n",
       " 'o',\n",
       " 'e',\n",
       " 'e',\n",
       " 'e',\n",
       " 'e',\n",
       " 'o',\n",
       " 'u',\n",
       " 'i',\n",
       " 'a',\n",
       " 'i',\n",
       " 'o',\n",
       " 'e',\n",
       " 'u',\n",
       " 'o',\n",
       " 'o',\n",
       " 'e',\n",
       " 'e',\n",
       " 'a',\n",
       " 'e',\n",
       " 'i',\n",
       " 'a',\n",
       " 'a',\n",
       " 'a',\n",
       " 'o',\n",
       " 'e',\n",
       " 'i',\n",
       " 'i',\n",
       " 'o',\n",
       " 'a',\n",
       " 'i',\n",
       " 'o',\n",
       " 'o',\n",
       " 'e',\n",
       " 'e',\n",
       " 'a',\n",
       " 'a',\n",
       " 'o',\n",
       " 'a',\n",
       " 'i',\n",
       " 'e',\n",
       " 'i',\n",
       " 'e',\n",
       " 'a',\n",
       " 'i',\n",
       " 'e',\n",
       " 'e',\n",
       " 'i',\n",
       " 'o',\n",
       " 'o',\n",
       " 'a',\n",
       " 'i',\n",
       " 'o',\n",
       " 'i',\n",
       " 'u',\n",
       " 'e',\n",
       " 'i',\n",
       " 'e',\n",
       " 'i',\n",
       " 'o',\n",
       " 'i',\n",
       " 'o',\n",
       " 'o',\n",
       " 'i',\n",
       " 'e',\n",
       " 'a',\n",
       " 'a',\n",
       " 'o',\n",
       " 'e',\n",
       " 'o',\n",
       " 'e',\n",
       " 'o',\n",
       " 'o',\n",
       " 'u',\n",
       " 'a',\n",
       " 'o',\n",
       " 'a',\n",
       " 'i',\n",
       " 'a',\n",
       " 'u',\n",
       " 'a',\n",
       " 'e']"
      ]
     },
     "execution_count": 18,
     "metadata": {},
     "output_type": "execute_result"
    }
   ],
   "source": [
    "test3(s)"
   ]
  },
  {
   "cell_type": "markdown",
   "id": "4517c612",
   "metadata": {},
   "source": [
    "q5 : Try to generate all the even number between 1- 1000"
   ]
  },
  {
   "cell_type": "code",
   "execution_count": 19,
   "id": "7adac1d6",
   "metadata": {},
   "outputs": [],
   "source": [
    "def test4(p,q):\n",
    "    l34=[]\n",
    "    l33=list(range(p,q+1))\n",
    "    for i in l33:\n",
    "        if i % 2 == 0:\n",
    "            l34.append(i)\n",
    "    return l34"
   ]
  },
  {
   "cell_type": "code",
   "execution_count": 20,
   "id": "dce7b6ae",
   "metadata": {},
   "outputs": [
    {
     "data": {
      "text/plain": [
       "[2,\n",
       " 4,\n",
       " 6,\n",
       " 8,\n",
       " 10,\n",
       " 12,\n",
       " 14,\n",
       " 16,\n",
       " 18,\n",
       " 20,\n",
       " 22,\n",
       " 24,\n",
       " 26,\n",
       " 28,\n",
       " 30,\n",
       " 32,\n",
       " 34,\n",
       " 36,\n",
       " 38,\n",
       " 40,\n",
       " 42,\n",
       " 44,\n",
       " 46,\n",
       " 48,\n",
       " 50,\n",
       " 52,\n",
       " 54,\n",
       " 56,\n",
       " 58,\n",
       " 60,\n",
       " 62,\n",
       " 64,\n",
       " 66,\n",
       " 68,\n",
       " 70,\n",
       " 72,\n",
       " 74,\n",
       " 76,\n",
       " 78,\n",
       " 80,\n",
       " 82,\n",
       " 84,\n",
       " 86,\n",
       " 88,\n",
       " 90,\n",
       " 92,\n",
       " 94,\n",
       " 96,\n",
       " 98,\n",
       " 100,\n",
       " 102,\n",
       " 104,\n",
       " 106,\n",
       " 108,\n",
       " 110,\n",
       " 112,\n",
       " 114,\n",
       " 116,\n",
       " 118,\n",
       " 120,\n",
       " 122,\n",
       " 124,\n",
       " 126,\n",
       " 128,\n",
       " 130,\n",
       " 132,\n",
       " 134,\n",
       " 136,\n",
       " 138,\n",
       " 140,\n",
       " 142,\n",
       " 144,\n",
       " 146,\n",
       " 148,\n",
       " 150,\n",
       " 152,\n",
       " 154,\n",
       " 156,\n",
       " 158,\n",
       " 160,\n",
       " 162,\n",
       " 164,\n",
       " 166,\n",
       " 168,\n",
       " 170,\n",
       " 172,\n",
       " 174,\n",
       " 176,\n",
       " 178,\n",
       " 180,\n",
       " 182,\n",
       " 184,\n",
       " 186,\n",
       " 188,\n",
       " 190,\n",
       " 192,\n",
       " 194,\n",
       " 196,\n",
       " 198,\n",
       " 200,\n",
       " 202,\n",
       " 204,\n",
       " 206,\n",
       " 208,\n",
       " 210,\n",
       " 212,\n",
       " 214,\n",
       " 216,\n",
       " 218,\n",
       " 220,\n",
       " 222,\n",
       " 224,\n",
       " 226,\n",
       " 228,\n",
       " 230,\n",
       " 232,\n",
       " 234,\n",
       " 236,\n",
       " 238,\n",
       " 240,\n",
       " 242,\n",
       " 244,\n",
       " 246,\n",
       " 248,\n",
       " 250,\n",
       " 252,\n",
       " 254,\n",
       " 256,\n",
       " 258,\n",
       " 260,\n",
       " 262,\n",
       " 264,\n",
       " 266,\n",
       " 268,\n",
       " 270,\n",
       " 272,\n",
       " 274,\n",
       " 276,\n",
       " 278,\n",
       " 280,\n",
       " 282,\n",
       " 284,\n",
       " 286,\n",
       " 288,\n",
       " 290,\n",
       " 292,\n",
       " 294,\n",
       " 296,\n",
       " 298,\n",
       " 300,\n",
       " 302,\n",
       " 304,\n",
       " 306,\n",
       " 308,\n",
       " 310,\n",
       " 312,\n",
       " 314,\n",
       " 316,\n",
       " 318,\n",
       " 320,\n",
       " 322,\n",
       " 324,\n",
       " 326,\n",
       " 328,\n",
       " 330,\n",
       " 332,\n",
       " 334,\n",
       " 336,\n",
       " 338,\n",
       " 340,\n",
       " 342,\n",
       " 344,\n",
       " 346,\n",
       " 348,\n",
       " 350,\n",
       " 352,\n",
       " 354,\n",
       " 356,\n",
       " 358,\n",
       " 360,\n",
       " 362,\n",
       " 364,\n",
       " 366,\n",
       " 368,\n",
       " 370,\n",
       " 372,\n",
       " 374,\n",
       " 376,\n",
       " 378,\n",
       " 380,\n",
       " 382,\n",
       " 384,\n",
       " 386,\n",
       " 388,\n",
       " 390,\n",
       " 392,\n",
       " 394,\n",
       " 396,\n",
       " 398,\n",
       " 400,\n",
       " 402,\n",
       " 404,\n",
       " 406,\n",
       " 408,\n",
       " 410,\n",
       " 412,\n",
       " 414,\n",
       " 416,\n",
       " 418,\n",
       " 420,\n",
       " 422,\n",
       " 424,\n",
       " 426,\n",
       " 428,\n",
       " 430,\n",
       " 432,\n",
       " 434,\n",
       " 436,\n",
       " 438,\n",
       " 440,\n",
       " 442,\n",
       " 444,\n",
       " 446,\n",
       " 448,\n",
       " 450,\n",
       " 452,\n",
       " 454,\n",
       " 456,\n",
       " 458,\n",
       " 460,\n",
       " 462,\n",
       " 464,\n",
       " 466,\n",
       " 468,\n",
       " 470,\n",
       " 472,\n",
       " 474,\n",
       " 476,\n",
       " 478,\n",
       " 480,\n",
       " 482,\n",
       " 484,\n",
       " 486,\n",
       " 488,\n",
       " 490,\n",
       " 492,\n",
       " 494,\n",
       " 496,\n",
       " 498,\n",
       " 500,\n",
       " 502,\n",
       " 504,\n",
       " 506,\n",
       " 508,\n",
       " 510,\n",
       " 512,\n",
       " 514,\n",
       " 516,\n",
       " 518,\n",
       " 520,\n",
       " 522,\n",
       " 524,\n",
       " 526,\n",
       " 528,\n",
       " 530,\n",
       " 532,\n",
       " 534,\n",
       " 536,\n",
       " 538,\n",
       " 540,\n",
       " 542,\n",
       " 544,\n",
       " 546,\n",
       " 548,\n",
       " 550,\n",
       " 552,\n",
       " 554,\n",
       " 556,\n",
       " 558,\n",
       " 560,\n",
       " 562,\n",
       " 564,\n",
       " 566,\n",
       " 568,\n",
       " 570,\n",
       " 572,\n",
       " 574,\n",
       " 576,\n",
       " 578,\n",
       " 580,\n",
       " 582,\n",
       " 584,\n",
       " 586,\n",
       " 588,\n",
       " 590,\n",
       " 592,\n",
       " 594,\n",
       " 596,\n",
       " 598,\n",
       " 600,\n",
       " 602,\n",
       " 604,\n",
       " 606,\n",
       " 608,\n",
       " 610,\n",
       " 612,\n",
       " 614,\n",
       " 616,\n",
       " 618,\n",
       " 620,\n",
       " 622,\n",
       " 624,\n",
       " 626,\n",
       " 628,\n",
       " 630,\n",
       " 632,\n",
       " 634,\n",
       " 636,\n",
       " 638,\n",
       " 640,\n",
       " 642,\n",
       " 644,\n",
       " 646,\n",
       " 648,\n",
       " 650,\n",
       " 652,\n",
       " 654,\n",
       " 656,\n",
       " 658,\n",
       " 660,\n",
       " 662,\n",
       " 664,\n",
       " 666,\n",
       " 668,\n",
       " 670,\n",
       " 672,\n",
       " 674,\n",
       " 676,\n",
       " 678,\n",
       " 680,\n",
       " 682,\n",
       " 684,\n",
       " 686,\n",
       " 688,\n",
       " 690,\n",
       " 692,\n",
       " 694,\n",
       " 696,\n",
       " 698,\n",
       " 700,\n",
       " 702,\n",
       " 704,\n",
       " 706,\n",
       " 708,\n",
       " 710,\n",
       " 712,\n",
       " 714,\n",
       " 716,\n",
       " 718,\n",
       " 720,\n",
       " 722,\n",
       " 724,\n",
       " 726,\n",
       " 728,\n",
       " 730,\n",
       " 732,\n",
       " 734,\n",
       " 736,\n",
       " 738,\n",
       " 740,\n",
       " 742,\n",
       " 744,\n",
       " 746,\n",
       " 748,\n",
       " 750,\n",
       " 752,\n",
       " 754,\n",
       " 756,\n",
       " 758,\n",
       " 760,\n",
       " 762,\n",
       " 764,\n",
       " 766,\n",
       " 768,\n",
       " 770,\n",
       " 772,\n",
       " 774,\n",
       " 776,\n",
       " 778,\n",
       " 780,\n",
       " 782,\n",
       " 784,\n",
       " 786,\n",
       " 788,\n",
       " 790,\n",
       " 792,\n",
       " 794,\n",
       " 796,\n",
       " 798,\n",
       " 800,\n",
       " 802,\n",
       " 804,\n",
       " 806,\n",
       " 808,\n",
       " 810,\n",
       " 812,\n",
       " 814,\n",
       " 816,\n",
       " 818,\n",
       " 820,\n",
       " 822,\n",
       " 824,\n",
       " 826,\n",
       " 828,\n",
       " 830,\n",
       " 832,\n",
       " 834,\n",
       " 836,\n",
       " 838,\n",
       " 840,\n",
       " 842,\n",
       " 844,\n",
       " 846,\n",
       " 848,\n",
       " 850,\n",
       " 852,\n",
       " 854,\n",
       " 856,\n",
       " 858,\n",
       " 860,\n",
       " 862,\n",
       " 864,\n",
       " 866,\n",
       " 868,\n",
       " 870,\n",
       " 872,\n",
       " 874,\n",
       " 876,\n",
       " 878,\n",
       " 880,\n",
       " 882,\n",
       " 884,\n",
       " 886,\n",
       " 888,\n",
       " 890,\n",
       " 892,\n",
       " 894,\n",
       " 896,\n",
       " 898,\n",
       " 900,\n",
       " 902,\n",
       " 904,\n",
       " 906,\n",
       " 908,\n",
       " 910,\n",
       " 912,\n",
       " 914,\n",
       " 916,\n",
       " 918,\n",
       " 920,\n",
       " 922,\n",
       " 924,\n",
       " 926,\n",
       " 928,\n",
       " 930,\n",
       " 932,\n",
       " 934,\n",
       " 936,\n",
       " 938,\n",
       " 940,\n",
       " 942,\n",
       " 944,\n",
       " 946,\n",
       " 948,\n",
       " 950,\n",
       " 952,\n",
       " 954,\n",
       " 956,\n",
       " 958,\n",
       " 960,\n",
       " 962,\n",
       " 964,\n",
       " 966,\n",
       " 968,\n",
       " 970,\n",
       " 972,\n",
       " 974,\n",
       " 976,\n",
       " 978,\n",
       " 980,\n",
       " 982,\n",
       " 984,\n",
       " 986,\n",
       " 988,\n",
       " 990,\n",
       " 992,\n",
       " 994,\n",
       " 996,\n",
       " 998,\n",
       " 1000]"
      ]
     },
     "execution_count": 20,
     "metadata": {},
     "output_type": "execute_result"
    }
   ],
   "source": [
    "test4(1,1000)"
   ]
  },
  {
   "cell_type": "markdown",
   "id": "7cfd0105",
   "metadata": {},
   "source": [
    "# q7: write a code to get time of your system"
   ]
  },
  {
   "cell_type": "code",
   "execution_count": 21,
   "id": "2b16a128",
   "metadata": {},
   "outputs": [],
   "source": [
    "import datetime"
   ]
  },
  {
   "cell_type": "code",
   "execution_count": 22,
   "id": "e93e4c5e",
   "metadata": {},
   "outputs": [],
   "source": [
    "currenttime = datetime.datetime.now().time()"
   ]
  },
  {
   "cell_type": "code",
   "execution_count": 23,
   "id": "978b026e",
   "metadata": {},
   "outputs": [
    {
     "name": "stdout",
     "output_type": "stream",
     "text": [
      "11:25:01.860755\n"
     ]
    }
   ],
   "source": [
    "print(currenttime)"
   ]
  },
  {
   "cell_type": "markdown",
   "id": "659b3d30",
   "metadata": {},
   "source": [
    "# q8: write a code to fetch date from your system"
   ]
  },
  {
   "cell_type": "code",
   "execution_count": 24,
   "id": "6b7908af",
   "metadata": {},
   "outputs": [],
   "source": [
    "currentdate = datetime.date.today()"
   ]
  },
  {
   "cell_type": "code",
   "execution_count": 25,
   "id": "ebc7e74d",
   "metadata": {},
   "outputs": [
    {
     "name": "stdout",
     "output_type": "stream",
     "text": [
      "2022-06-04\n"
     ]
    }
   ],
   "source": [
    "print(currentdate)"
   ]
  },
  {
   "cell_type": "markdown",
   "id": "1fe82247",
   "metadata": {},
   "source": [
    "# q9: write a code to send mail to your friend"
   ]
  },
  {
   "cell_type": "code",
   "execution_count": 26,
   "id": "d500671e",
   "metadata": {},
   "outputs": [],
   "source": [
    "import smtplib"
   ]
  },
  {
   "cell_type": "code",
   "execution_count": 27,
   "id": "6f2ef5b7",
   "metadata": {},
   "outputs": [],
   "source": [
    "newsession = smtplib.SMTP('smtp.gmail.com', 587)"
   ]
  },
  {
   "cell_type": "code",
   "execution_count": 28,
   "id": "0e7f0ab1",
   "metadata": {},
   "outputs": [
    {
     "data": {
      "text/plain": [
       "(220, b'2.0.0 Ready to start TLS')"
      ]
     },
     "execution_count": 28,
     "metadata": {},
     "output_type": "execute_result"
    }
   ],
   "source": [
    "newsession.starttls()"
   ]
  },
  {
   "cell_type": "code",
   "execution_count": 29,
   "id": "8abd3480",
   "metadata": {},
   "outputs": [
    {
     "data": {
      "text/plain": [
       "(235, b'2.7.0 Accepted')"
      ]
     },
     "execution_count": 29,
     "metadata": {},
     "output_type": "execute_result"
    }
   ],
   "source": [
    "newsession.login(\"cmchqwcl@gmail.com\",\"Admin1234$\")# here its gives smtp authentication error 535, to fix that enable less secure apps option in google account"
   ]
  },
  {
   "cell_type": "code",
   "execution_count": 30,
   "id": "b3de7312",
   "metadata": {},
   "outputs": [],
   "source": [
    "message = \"\"\" subject: Regarding Mail,\n",
    "            \n",
    "            Dear Sir,\n",
    "                    this is a Blank Mail\n",
    "                    \n",
    "                    \n",
    "                    regards\"\"\""
   ]
  },
  {
   "cell_type": "code",
   "execution_count": 31,
   "id": "dbf7e949",
   "metadata": {},
   "outputs": [
    {
     "data": {
      "text/plain": [
       "{}"
      ]
     },
     "execution_count": 31,
     "metadata": {},
     "output_type": "execute_result"
    }
   ],
   "source": [
    "newsession.sendmail(\"cmchqwcl@gmail.com\", \"cmchqwcl@gmail.com\", message)"
   ]
  },
  {
   "cell_type": "code",
   "execution_count": 32,
   "id": "7748e859",
   "metadata": {},
   "outputs": [
    {
     "data": {
      "text/plain": [
       "(221,\n",
       " b'2.0.0 closing connection t14-20020a17090a024e00b001e2d2235176sm6120379pje.51 - gsmtp')"
      ]
     },
     "execution_count": 32,
     "metadata": {},
     "output_type": "execute_result"
    }
   ],
   "source": [
    "newsession.quit()"
   ]
  },
  {
   "cell_type": "markdown",
   "id": "203b2e03",
   "metadata": {},
   "source": [
    "# q10: write a code to trigger alarm for you at scheduled time  "
   ]
  },
  {
   "cell_type": "code",
   "execution_count": 33,
   "id": "2ad9c841",
   "metadata": {},
   "outputs": [
    {
     "name": "stdout",
     "output_type": "stream",
     "text": [
      "enter alarm day: 4\n",
      "enter alarm month: 6\n",
      "enter alarm year: 2022\n",
      "enter alarm hour: 11\n",
      " enter alarm minute: 25\n",
      "Alarm shuts down after playing alarm tone.....\n"
     ]
    }
   ],
   "source": [
    "import datetime\n",
    "from playsound import playsound\n",
    "day = int(input(\"enter alarm day: \"))\n",
    "month= int(input(\"enter alarm month: \"))\n",
    "year= int(input(\"enter alarm year: \"))\n",
    "hour=int(input(\"enter alarm hour: \"))\n",
    "minute= int(input(\" enter alarm minute: \"))\n",
    "\n",
    "while True :\n",
    "    if day == datetime.datetime.now().day and month == datetime.datetime.now().month and year == datetime.datetime.now().year and hour == datetime.datetime.now().hour and minute == datetime.datetime.now().minute :\n",
    "        print(\"Alarm shuts down after playing alarm tone.....\")\n",
    "        playsound(\"c:/Users/Shubham/Downloads/music.mp3\")\n",
    "        break\n",
    "         "
   ]
  },
  {
   "cell_type": "markdown",
   "id": "ad6253cf",
   "metadata": {},
   "source": [
    "# q11 : write a code to check ip address of your system "
   ]
  },
  {
   "cell_type": "code",
   "execution_count": 1,
   "id": "431983b0",
   "metadata": {},
   "outputs": [
    {
     "name": "stdout",
     "output_type": "stream",
     "text": [
      "your ip address is  192.168.29.6\n",
      "your computer name is  LAPTOP-1A96D08A\n"
     ]
    }
   ],
   "source": [
    "import socket\n",
    "host= socket.gethostname()\n",
    "ip = socket.gethostbyname(host)\n",
    "print(\"your ip address is \", ip)\n",
    "print(\"your computer name is \", host)"
   ]
  },
  {
   "cell_type": "markdown",
   "id": "804a46c9",
   "metadata": {},
   "source": [
    "# q12 : Write a code to check a particular installation in your system"
   ]
  },
  {
   "cell_type": "code",
   "execution_count": 36,
   "id": "4ef9b6da",
   "metadata": {},
   "outputs": [
    {
     "name": "stdout",
     "output_type": "stream",
     "text": [
      "InstalledApplication(name='VLC media player', version='3.0.12', install_date=None, install_location=WindowsPath('C:/Program Files (x86)/VideoLAN/VLC'), install_source=None, modify_path=None, publisher='VideoLAN', uninstall_string='\"C:\\\\Program Files (x86)\\\\VideoLAN\\\\VLC\\\\uninstall.exe\"')\n"
     ]
    }
   ],
   "source": [
    "import winapps\n",
    "#for items in winapps.list_installed():\n",
    "    #print(items)\n",
    "for items in winapps.search_installed(\"vlc\"):\n",
    "    print(items)"
   ]
  },
  {
   "cell_type": "markdown",
   "id": "e9eeb1a6",
   "metadata": {},
   "source": [
    "\n",
    "# q13 : Write a code to convert any text in to voice"
   ]
  },
  {
   "cell_type": "code",
   "execution_count": 7,
   "id": "ac716f02",
   "metadata": {},
   "outputs": [],
   "source": [
    "import pyttsx3\n",
    "speaker = pyttsx3.init()\n",
    "voices= speaker.getProperty('voices')\n",
    "speaker.setProperty('voice',voices)\n",
    "text=\"Hello! Shubham, how can i help you\"\n",
    "speaker.say(text)\n",
    "speaker.runAndWait()"
   ]
  },
  {
   "cell_type": "markdown",
   "id": "b1c242b7",
   "metadata": {},
   "source": [
    "# q14 : you have to write a fun which will take string and return a len of it without using a inbuilt fun len."
   ]
  },
  {
   "cell_type": "code",
   "execution_count": 3,
   "id": "1194072b",
   "metadata": {},
   "outputs": [
    {
     "name": "stdout",
     "output_type": "stream",
     "text": [
      "51\n"
     ]
    }
   ],
   "source": [
    "s=\"Hello!, I am Shubham, I want to be a data scientist\"\n",
    "count =0\n",
    "for i in s:\n",
    "    count = count +1\n",
    "print(count)"
   ]
  },
  {
   "cell_type": "markdown",
   "id": "f956b7f6",
   "metadata": {},
   "source": [
    "# q15 :write a fun which will be able to print an index of all premitive element which you will pass"
   ]
  },
  {
   "cell_type": "code",
   "execution_count": 40,
   "id": "1f4bda28",
   "metadata": {},
   "outputs": [],
   "source": [
    "def test5(l):\n",
    "    if type(l)== str:\n",
    "        for i in range(len(l)):\n",
    "            print(i)\n",
    "    if type(l)== list:\n",
    "        for i in range(len(l)):\n",
    "            print(i)\n",
    "    if type(l)== tuple:\n",
    "        for i in range(len(l)):\n",
    "            print(i)\n",
    "    if type(l)== set:\n",
    "        for i in range(len(l)):\n",
    "            print(i)\n",
    "    if type(l)== dict:\n",
    "        for i in range(len(l)):\n",
    "            print(i)\n"
   ]
  },
  {
   "cell_type": "code",
   "execution_count": 41,
   "id": "e55d21a1",
   "metadata": {},
   "outputs": [],
   "source": [
    "s=\"shub\""
   ]
  },
  {
   "cell_type": "code",
   "execution_count": 42,
   "id": "392eadc5",
   "metadata": {},
   "outputs": [
    {
     "name": "stdout",
     "output_type": "stream",
     "text": [
      "0\n",
      "1\n",
      "2\n",
      "3\n"
     ]
    }
   ],
   "source": [
    "test5(s)"
   ]
  },
  {
   "cell_type": "code",
   "execution_count": 43,
   "id": "d2418548",
   "metadata": {},
   "outputs": [],
   "source": [
    "l=[1,2,\"shubham\"]"
   ]
  },
  {
   "cell_type": "code",
   "execution_count": 44,
   "id": "bdad14fc",
   "metadata": {},
   "outputs": [
    {
     "name": "stdout",
     "output_type": "stream",
     "text": [
      "0\n",
      "1\n",
      "2\n"
     ]
    }
   ],
   "source": [
    "test5(l)\n"
   ]
  },
  {
   "cell_type": "code",
   "execution_count": 45,
   "id": "9648a122",
   "metadata": {},
   "outputs": [],
   "source": [
    "t=(\"shubham\",\"singapore\", 1,3,{1:4})"
   ]
  },
  {
   "cell_type": "code",
   "execution_count": 46,
   "id": "50f9a074",
   "metadata": {},
   "outputs": [
    {
     "name": "stdout",
     "output_type": "stream",
     "text": [
      "0\n",
      "1\n",
      "2\n",
      "3\n",
      "4\n"
     ]
    }
   ],
   "source": [
    "test5(t)"
   ]
  },
  {
   "cell_type": "code",
   "execution_count": 47,
   "id": "b744367d",
   "metadata": {},
   "outputs": [],
   "source": [
    "se={1,2,3,\"r\"}"
   ]
  },
  {
   "cell_type": "code",
   "execution_count": 48,
   "id": "4435d896",
   "metadata": {},
   "outputs": [
    {
     "name": "stdout",
     "output_type": "stream",
     "text": [
      "0\n",
      "1\n",
      "2\n",
      "3\n"
     ]
    }
   ],
   "source": [
    "test5(se)"
   ]
  },
  {
   "cell_type": "code",
   "execution_count": 49,
   "id": "b7c53e17",
   "metadata": {},
   "outputs": [],
   "source": [
    "d={\"name\":\"shubham\", \"city\":\"nag\", \"state\": \"mah\"}"
   ]
  },
  {
   "cell_type": "code",
   "execution_count": 50,
   "id": "d879fabe",
   "metadata": {},
   "outputs": [
    {
     "name": "stdout",
     "output_type": "stream",
     "text": [
      "0\n",
      "1\n",
      "2\n"
     ]
    }
   ],
   "source": [
    "test5(d)"
   ]
  },
  {
   "cell_type": "markdown",
   "id": "55808eeb",
   "metadata": {},
   "source": [
    "# q16 : Write a fun which will take input as a dict and give me out as a list of all the values even in case of 2 level nesting it should work."
   ]
  },
  {
   "cell_type": "code",
   "execution_count": 51,
   "id": "ffd130b7",
   "metadata": {},
   "outputs": [],
   "source": [
    "def test6(d):\n",
    "    l=[]\n",
    "    for i in d:\n",
    "        if type(d[i]) == str or type(d[i]) == list or type(d[i]) == tuple or type(d[i]) == int or type(d[i]) == set :\n",
    "            l.append(d[i])\n",
    "    for i in d:\n",
    "        p= d[i]\n",
    "        if type(d[i]) == dict:\n",
    "            for j in p:\n",
    "                if type(p[j])== dict:\n",
    "                    q = p[j]\n",
    "                    pass\n",
    "                else:\n",
    "                   l.append(p[j])\n",
    "                if type(p[j]) == dict:\n",
    "                    for k in q:\n",
    "                        l.append(q[k])\n",
    "    return l"
   ]
  },
  {
   "cell_type": "code",
   "execution_count": 52,
   "id": "7507088d",
   "metadata": {},
   "outputs": [],
   "source": [
    "d={\"k1\": 2121 ,1:(1,2,3), 2:[4,5,6], 3: {1,2,3,4}, 45: {\"k2\": 723183, \"k3\": {34:\"sherkhan\",35: \"manoj singh\"}, 12312:\"padma\"}, \"k5\":\"sanjay leela bhansali\"}"
   ]
  },
  {
   "cell_type": "code",
   "execution_count": 53,
   "id": "50f3b653",
   "metadata": {},
   "outputs": [
    {
     "data": {
      "text/plain": [
       "[2121,\n",
       " (1, 2, 3),\n",
       " [4, 5, 6],\n",
       " {1, 2, 3, 4},\n",
       " 'sanjay leela bhansali',\n",
       " 723183,\n",
       " 'sherkhan',\n",
       " 'manoj singh',\n",
       " 'padma']"
      ]
     },
     "execution_count": 53,
     "metadata": {},
     "output_type": "execute_result"
    }
   ],
   "source": [
    "test6(d)"
   ]
  },
  {
   "cell_type": "markdown",
   "id": "ac485954",
   "metadata": {},
   "source": [
    "# q17 : write a function which will take multiple list as a input and give me concatnation of all the element as and output."
   ]
  },
  {
   "cell_type": "code",
   "execution_count": 54,
   "id": "1dd66da1",
   "metadata": {},
   "outputs": [],
   "source": [
    "def test7(l1,l2,l3):\n",
    "    l=[]\n",
    "    for i in l1:\n",
    "        l.append(i)\n",
    "    for i in l2:\n",
    "        l.append(i)\n",
    "    for i in l3:\n",
    "        l.append(i)\n",
    "    return l"
   ]
  },
  {
   "cell_type": "code",
   "execution_count": 55,
   "id": "3814a199",
   "metadata": {},
   "outputs": [],
   "source": [
    "la= [1,2,3,4,5]"
   ]
  },
  {
   "cell_type": "code",
   "execution_count": 56,
   "id": "605b9fb9",
   "metadata": {},
   "outputs": [],
   "source": [
    "lb=[\"a\",\"b\",\"c\",\"d\"]"
   ]
  },
  {
   "cell_type": "code",
   "execution_count": 57,
   "id": "7e4771b7",
   "metadata": {},
   "outputs": [],
   "source": [
    "lc=[(1,2,3),{1,2,3,4},{1:\"shub\", 2:\"mariyam\"}]"
   ]
  },
  {
   "cell_type": "code",
   "execution_count": 58,
   "id": "294a1bf8",
   "metadata": {},
   "outputs": [
    {
     "data": {
      "text/plain": [
       "[1,\n",
       " 2,\n",
       " 3,\n",
       " 4,\n",
       " 5,\n",
       " 'a',\n",
       " 'b',\n",
       " 'c',\n",
       " 'd',\n",
       " (1, 2, 3),\n",
       " {1, 2, 3, 4},\n",
       " {1: 'shub', 2: 'mariyam'}]"
      ]
     },
     "execution_count": 58,
     "metadata": {},
     "output_type": "execute_result"
    }
   ],
   "source": [
    "test7(la,lb,lc)"
   ]
  },
  {
   "cell_type": "markdown",
   "id": "bb441a2c",
   "metadata": {},
   "source": [
    "# q18 : Write a function which will whould return list of all the file name from a directory. "
   ]
  },
  {
   "cell_type": "code",
   "execution_count": 59,
   "id": "c23805ca",
   "metadata": {},
   "outputs": [],
   "source": [
    "def test8(folderaddress):\n",
    "    import os\n",
    "   \n",
    "    l=[]\n",
    "    for path in os.listdir(folderaddress):\n",
    "        if os.path.isfile(os.path.join(folderaddress,path)):\n",
    "            l.append(path)\n",
    "    return l"
   ]
  },
  {
   "cell_type": "code",
   "execution_count": 60,
   "id": "57a906fb",
   "metadata": {},
   "outputs": [
    {
     "data": {
      "text/plain": [
       "['abc.pdf',\n",
       " 'Dec 04, 2021.txt',\n",
       " 'dimmer_v2.0.0.b9.zip',\n",
       " 'for loop practice  (1).ipynb',\n",
       " 'img.jpg',\n",
       " 'MergedPDF.pdf',\n",
       " 'MergedPDF1.pdf',\n",
       " 'MicrosoftEdgeSetup.exe',\n",
       " 'music.mp3',\n",
       " 'PENGANGA TPT 1096 DAYS.docx',\n",
       " 'pqr.pdf',\n",
       " 'PRICEBID61_merged (1).pdf',\n",
       " 'test.mp4']"
      ]
     },
     "execution_count": 60,
     "metadata": {},
     "output_type": "execute_result"
    }
   ],
   "source": [
    "test8(\"c:/Users/Shubham/Downloads/test\")"
   ]
  },
  {
   "cell_type": "markdown",
   "id": "a1895a38",
   "metadata": {},
   "source": [
    "# q19 : write a function which will be able to read a image file and show it to you."
   ]
  },
  {
   "cell_type": "code",
   "execution_count": 61,
   "id": "4316fc82",
   "metadata": {},
   "outputs": [],
   "source": [
    "def test9(p):\n",
    "    import cv2\n",
    "    import glob\n",
    "\n",
    "    path= glob.glob(p)\n",
    "\n",
    "    for file in path:\n",
    "        img = cv2.imread(file,1)\n",
    "        cv2.imshow(\"image\",img)\n",
    "        cv2.waitKey(1000)\n",
    "        cv2.destroyAllWindows()"
   ]
  },
  {
   "cell_type": "code",
   "execution_count": 62,
   "id": "e4efdc3b",
   "metadata": {},
   "outputs": [],
   "source": [
    "test9(\"c:/Users/Shubham/Downloads/*jpg\")"
   ]
  },
  {
   "cell_type": "markdown",
   "id": "19f6e7f2",
   "metadata": {},
   "source": [
    "# q20 : write a function by which you will be able to append two PDF files. \n",
    "The function takes two paths of pdf files and output is saved in c:/Users/Shubham/Downloads/test/ as "
   ]
  },
  {
   "cell_type": "code",
   "execution_count": 63,
   "id": "e5785135",
   "metadata": {},
   "outputs": [],
   "source": [
    "def test10(x,y):\n",
    "    from PyPDF2 import PdfMerger\n",
    "    listpdf=[x, y]\n",
    "    merge= PdfMerger()\n",
    "\n",
    "    for i in listpdf:\n",
    "        merge.append(i)\n",
    "    merge.write(\"c:/Users/Shubham/Downloads/test/MergedPDF.pdf\")\n",
    "    merge.close()"
   ]
  },
  {
   "cell_type": "code",
   "execution_count": 64,
   "id": "c64569fa",
   "metadata": {},
   "outputs": [],
   "source": [
    "test10(\"c:/Users/Shubham/Downloads/test/abc.pdf\",\"c:/Users/Shubham/Downloads/test/pqr.pdf\")"
   ]
  },
  {
   "cell_type": "markdown",
   "id": "d04c8de2",
   "metadata": {},
   "source": [
    "# q21 : write a function which can help you to filter only word file from a directory."
   ]
  },
  {
   "cell_type": "code",
   "execution_count": 65,
   "id": "84ebcc14",
   "metadata": {},
   "outputs": [],
   "source": [
    "def test11(w):\n",
    "    import glob\n",
    "    path = glob.glob(w)\n",
    "    l=[]\n",
    "\n",
    "    for i in path:\n",
    "        l.append(i)\n",
    "    return l"
   ]
  },
  {
   "cell_type": "code",
   "execution_count": 66,
   "id": "97d76ee2",
   "metadata": {},
   "outputs": [
    {
     "data": {
      "text/plain": [
       "['c:/Users/Shubham/Downloads\\\\MKD I SMC+TRANS..docx',\n",
       " 'c:/Users/Shubham/Downloads\\\\PENGANGA TPT 1096 DAYS.docx',\n",
       " 'c:/Users/Shubham/Downloads\\\\user_datasheet.docx']"
      ]
     },
     "execution_count": 66,
     "metadata": {},
     "output_type": "execute_result"
    }
   ],
   "source": [
    "test11(\"c:/Users/Shubham/Downloads/*docx\")"
   ]
  },
  {
   "cell_type": "markdown",
   "id": "bbb1875f",
   "metadata": {},
   "source": [
    "# q22 : write a function which can read video file and play for you. "
   ]
  },
  {
   "cell_type": "code",
   "execution_count": 67,
   "id": "873a0ce5",
   "metadata": {},
   "outputs": [],
   "source": [
    "def test13(p):\n",
    "    import cv2\n",
    "    print(\"press 'q' key on keyboard to quit the video\")\n",
    "    video= cv2.VideoCapture(p)\n",
    "    while video.isOpened():\n",
    "        a,b =video.read()\n",
    "        if a ==True:\n",
    "            cv2.imshow(\"Frame\", b)\n",
    "            key = cv2.waitKey(25)\n",
    "            if key == ord('q'):\n",
    "                break\n",
    "\n",
    "        else:\n",
    "            break\n",
    "    video.release()\n",
    "    cv2.destroyAllWindows()"
   ]
  },
  {
   "cell_type": "code",
   "execution_count": 68,
   "id": "f03cf7b2",
   "metadata": {},
   "outputs": [
    {
     "name": "stdout",
     "output_type": "stream",
     "text": [
      "press 'q' key on keyboard to quit the video\n"
     ]
    }
   ],
   "source": [
    "test13(\"c:/Users/Shubham/Downloads/test/test.mp4\")"
   ]
  },
  {
   "cell_type": "markdown",
   "id": "9d06730d",
   "metadata": {},
   "source": [
    "# q23 : write a function which will be able to shutdown your system."
   ]
  },
  {
   "cell_type": "code",
   "execution_count": 69,
   "id": "f1e7a5b7",
   "metadata": {},
   "outputs": [],
   "source": [
    "def test13(shutdown):\n",
    "    import os\n",
    "    shutdown = input(\"Press yes for shutdown:\",  )\n",
    "    if shutdown == 'no':\n",
    "        exit()\n",
    "    else:\n",
    "        os.system(\"shutdown /s /t 1\")\n"
   ]
  },
  {
   "cell_type": "code",
   "execution_count": 70,
   "id": "46a64081",
   "metadata": {},
   "outputs": [],
   "source": [
    "# test13(\"yes\")  #this shuts down computer and this line is not saved"
   ]
  },
  {
   "cell_type": "markdown",
   "id": "1d9a1585",
   "metadata": {},
   "source": [
    "# q24 : Write a function which will whould return list of all the file name from a directory."
   ]
  },
  {
   "cell_type": "markdown",
   "id": "90c95bd3",
   "metadata": {},
   "source": [
    "This question is same as question no 18."
   ]
  },
  {
   "cell_type": "markdown",
   "id": "ed18d901",
   "metadata": {},
   "source": [
    "# q25 : write a function which will be able to access your mail."
   ]
  },
  {
   "cell_type": "code",
   "execution_count": 71,
   "id": "76d3c9f0",
   "metadata": {},
   "outputs": [],
   "source": [
    "def test14(user,password):\n",
    "    import imaplib\n",
    "    #user = 'cmchqwcl@gmail.com'\n",
    "    #password = 'Admin1234$'\n",
    "    imap_url = 'imap.gmail.com'\n",
    "    con = imaplib.IMAP4_SSL(imap_url)\n",
    "    con.login(user,password)\n",
    "    return \"Account: cmchqwcl@gmail.com authenticated,Successful Login\""
   ]
  },
  {
   "cell_type": "code",
   "execution_count": 72,
   "id": "11c6dfd6",
   "metadata": {},
   "outputs": [
    {
     "data": {
      "text/plain": [
       "'Account: cmchqwcl@gmail.com authenticated,Successful Login'"
      ]
     },
     "execution_count": 72,
     "metadata": {},
     "output_type": "execute_result"
    }
   ],
   "source": [
    "test14(\"cmchqwcl@gmail.com\",\"Admin1234$\")"
   ]
  }
 ],
 "metadata": {
  "kernelspec": {
   "display_name": "Python 3 (ipykernel)",
   "language": "python",
   "name": "python3"
  },
  "language_info": {
   "codemirror_mode": {
    "name": "ipython",
    "version": 3
   },
   "file_extension": ".py",
   "mimetype": "text/x-python",
   "name": "python",
   "nbconvert_exporter": "python",
   "pygments_lexer": "ipython3",
   "version": "3.9.12"
  }
 },
 "nbformat": 4,
 "nbformat_minor": 5
}
