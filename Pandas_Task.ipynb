{
 "cells": [
  {
   "cell_type": "code",
   "execution_count": 1,
   "id": "15c24a7a",
   "metadata": {},
   "outputs": [],
   "source": [
    "import pandas as pd"
   ]
  },
  {
   "cell_type": "code",
   "execution_count": 217,
   "id": "f435c661",
   "metadata": {},
   "outputs": [],
   "source": [
    "df_per = pd.read_excel('Agent_Performance.xlsx')"
   ]
  },
  {
   "cell_type": "code",
   "execution_count": 5,
   "id": "6303ff7e",
   "metadata": {},
   "outputs": [
    {
     "data": {
      "text/html": [
       "<div>\n",
       "<style scoped>\n",
       "    .dataframe tbody tr th:only-of-type {\n",
       "        vertical-align: middle;\n",
       "    }\n",
       "\n",
       "    .dataframe tbody tr th {\n",
       "        vertical-align: top;\n",
       "    }\n",
       "\n",
       "    .dataframe thead th {\n",
       "        text-align: right;\n",
       "    }\n",
       "</style>\n",
       "<table border=\"1\" class=\"dataframe\">\n",
       "  <thead>\n",
       "    <tr style=\"text-align: right;\">\n",
       "      <th></th>\n",
       "      <th>SL No</th>\n",
       "      <th>Date</th>\n",
       "      <th>Agent Name</th>\n",
       "      <th>Total Chats</th>\n",
       "      <th>Average Response Time</th>\n",
       "      <th>Average Resolution Time</th>\n",
       "      <th>Average Rating</th>\n",
       "      <th>Total Feedback</th>\n",
       "    </tr>\n",
       "  </thead>\n",
       "  <tbody>\n",
       "    <tr>\n",
       "      <th>0</th>\n",
       "      <td>1</td>\n",
       "      <td>2022-07-30</td>\n",
       "      <td>Prerna Singh</td>\n",
       "      <td>11</td>\n",
       "      <td>00:00:38</td>\n",
       "      <td>00:04:20</td>\n",
       "      <td>4.11</td>\n",
       "      <td>9</td>\n",
       "    </tr>\n",
       "    <tr>\n",
       "      <th>1</th>\n",
       "      <td>2</td>\n",
       "      <td>2022-07-30</td>\n",
       "      <td>Nandani Gupta</td>\n",
       "      <td>11</td>\n",
       "      <td>00:01:15</td>\n",
       "      <td>00:28:25</td>\n",
       "      <td>3.14</td>\n",
       "      <td>7</td>\n",
       "    </tr>\n",
       "    <tr>\n",
       "      <th>2</th>\n",
       "      <td>3</td>\n",
       "      <td>2022-07-30</td>\n",
       "      <td>Ameya Jain</td>\n",
       "      <td>14</td>\n",
       "      <td>00:00:30</td>\n",
       "      <td>00:11:36</td>\n",
       "      <td>4.55</td>\n",
       "      <td>11</td>\n",
       "    </tr>\n",
       "    <tr>\n",
       "      <th>3</th>\n",
       "      <td>4</td>\n",
       "      <td>2022-07-30</td>\n",
       "      <td>Mahesh Sarade</td>\n",
       "      <td>14</td>\n",
       "      <td>00:01:04</td>\n",
       "      <td>00:15:46</td>\n",
       "      <td>4.71</td>\n",
       "      <td>7</td>\n",
       "    </tr>\n",
       "    <tr>\n",
       "      <th>4</th>\n",
       "      <td>5</td>\n",
       "      <td>2022-07-30</td>\n",
       "      <td>Swati</td>\n",
       "      <td>14</td>\n",
       "      <td>00:01:11</td>\n",
       "      <td>00:16:33</td>\n",
       "      <td>3.67</td>\n",
       "      <td>6</td>\n",
       "    </tr>\n",
       "    <tr>\n",
       "      <th>...</th>\n",
       "      <td>...</td>\n",
       "      <td>...</td>\n",
       "      <td>...</td>\n",
       "      <td>...</td>\n",
       "      <td>...</td>\n",
       "      <td>...</td>\n",
       "      <td>...</td>\n",
       "      <td>...</td>\n",
       "    </tr>\n",
       "    <tr>\n",
       "      <th>2155</th>\n",
       "      <td>2156</td>\n",
       "      <td>2022-07-01</td>\n",
       "      <td>Sowmiya Sivakumar</td>\n",
       "      <td>0</td>\n",
       "      <td>00:00:00</td>\n",
       "      <td>00:00:00</td>\n",
       "      <td>0.00</td>\n",
       "      <td>0</td>\n",
       "    </tr>\n",
       "    <tr>\n",
       "      <th>2156</th>\n",
       "      <td>2157</td>\n",
       "      <td>2022-07-01</td>\n",
       "      <td>Nitin M</td>\n",
       "      <td>0</td>\n",
       "      <td>00:00:00</td>\n",
       "      <td>00:00:00</td>\n",
       "      <td>0.00</td>\n",
       "      <td>0</td>\n",
       "    </tr>\n",
       "    <tr>\n",
       "      <th>2157</th>\n",
       "      <td>2158</td>\n",
       "      <td>2022-07-01</td>\n",
       "      <td>Vivek</td>\n",
       "      <td>0</td>\n",
       "      <td>00:00:00</td>\n",
       "      <td>00:00:00</td>\n",
       "      <td>0.00</td>\n",
       "      <td>0</td>\n",
       "    </tr>\n",
       "    <tr>\n",
       "      <th>2158</th>\n",
       "      <td>2159</td>\n",
       "      <td>2022-07-01</td>\n",
       "      <td>Ayushi Mishra</td>\n",
       "      <td>0</td>\n",
       "      <td>00:00:00</td>\n",
       "      <td>00:00:00</td>\n",
       "      <td>0.00</td>\n",
       "      <td>0</td>\n",
       "    </tr>\n",
       "    <tr>\n",
       "      <th>2159</th>\n",
       "      <td>2160</td>\n",
       "      <td>2022-07-01</td>\n",
       "      <td>Chaitra K Hiremath</td>\n",
       "      <td>0</td>\n",
       "      <td>00:00:00</td>\n",
       "      <td>00:00:00</td>\n",
       "      <td>0.00</td>\n",
       "      <td>0</td>\n",
       "    </tr>\n",
       "  </tbody>\n",
       "</table>\n",
       "<p>2160 rows × 8 columns</p>\n",
       "</div>"
      ],
      "text/plain": [
       "      SL No        Date          Agent Name  Total Chats  \\\n",
       "0         1  2022-07-30        Prerna Singh           11   \n",
       "1         2  2022-07-30       Nandani Gupta           11   \n",
       "2         3  2022-07-30          Ameya Jain           14   \n",
       "3         4  2022-07-30       Mahesh Sarade           14   \n",
       "4         5  2022-07-30              Swati            14   \n",
       "...     ...         ...                 ...          ...   \n",
       "2155   2156  2022-07-01   Sowmiya Sivakumar            0   \n",
       "2156   2157  2022-07-01             Nitin M            0   \n",
       "2157   2158  2022-07-01              Vivek             0   \n",
       "2158   2159  2022-07-01       Ayushi Mishra            0   \n",
       "2159   2160  2022-07-01  Chaitra K Hiremath            0   \n",
       "\n",
       "     Average Response Time Average Resolution Time  Average Rating  \\\n",
       "0                 00:00:38                00:04:20            4.11   \n",
       "1                 00:01:15                00:28:25            3.14   \n",
       "2                 00:00:30                00:11:36            4.55   \n",
       "3                 00:01:04                00:15:46            4.71   \n",
       "4                 00:01:11                00:16:33            3.67   \n",
       "...                    ...                     ...             ...   \n",
       "2155              00:00:00                00:00:00            0.00   \n",
       "2156              00:00:00                00:00:00            0.00   \n",
       "2157              00:00:00                00:00:00            0.00   \n",
       "2158              00:00:00                00:00:00            0.00   \n",
       "2159              00:00:00                00:00:00            0.00   \n",
       "\n",
       "      Total Feedback  \n",
       "0                  9  \n",
       "1                  7  \n",
       "2                 11  \n",
       "3                  7  \n",
       "4                  6  \n",
       "...              ...  \n",
       "2155               0  \n",
       "2156               0  \n",
       "2157               0  \n",
       "2158               0  \n",
       "2159               0  \n",
       "\n",
       "[2160 rows x 8 columns]"
      ]
     },
     "execution_count": 5,
     "metadata": {},
     "output_type": "execute_result"
    }
   ],
   "source": [
    "df_per"
   ]
  },
  {
   "cell_type": "code",
   "execution_count": 253,
   "id": "9df910c7",
   "metadata": {},
   "outputs": [],
   "source": [
    "df_log = pd.read_excel('Agent_Login_Report.xls')"
   ]
  },
  {
   "cell_type": "code",
   "execution_count": 254,
   "id": "371f3876",
   "metadata": {},
   "outputs": [
    {
     "data": {
      "text/html": [
       "<div>\n",
       "<style scoped>\n",
       "    .dataframe tbody tr th:only-of-type {\n",
       "        vertical-align: middle;\n",
       "    }\n",
       "\n",
       "    .dataframe tbody tr th {\n",
       "        vertical-align: top;\n",
       "    }\n",
       "\n",
       "    .dataframe thead th {\n",
       "        text-align: right;\n",
       "    }\n",
       "</style>\n",
       "<table border=\"1\" class=\"dataframe\">\n",
       "  <thead>\n",
       "    <tr style=\"text-align: right;\">\n",
       "      <th></th>\n",
       "      <th>SL No</th>\n",
       "      <th>Agent</th>\n",
       "      <th>Date</th>\n",
       "      <th>Login Time</th>\n",
       "      <th>Logout Time</th>\n",
       "      <th>Duration</th>\n",
       "    </tr>\n",
       "  </thead>\n",
       "  <tbody>\n",
       "    <tr>\n",
       "      <th>0</th>\n",
       "      <td>1</td>\n",
       "      <td>Shivananda Sonwane</td>\n",
       "      <td>30-Jul-22</td>\n",
       "      <td>03:35:29 PM</td>\n",
       "      <td>05:39:39 PM</td>\n",
       "      <td>02:04:10</td>\n",
       "    </tr>\n",
       "    <tr>\n",
       "      <th>1</th>\n",
       "      <td>2</td>\n",
       "      <td>Khushboo Priya</td>\n",
       "      <td>30-Jul-22</td>\n",
       "      <td>03:06:59 PM</td>\n",
       "      <td>03:07:16 PM</td>\n",
       "      <td>00:00:17</td>\n",
       "    </tr>\n",
       "    <tr>\n",
       "      <th>2</th>\n",
       "      <td>3</td>\n",
       "      <td>Nandani Gupta</td>\n",
       "      <td>30-Jul-22</td>\n",
       "      <td>03:04:24 PM</td>\n",
       "      <td>05:31:07 PM</td>\n",
       "      <td>02:26:42</td>\n",
       "    </tr>\n",
       "    <tr>\n",
       "      <th>3</th>\n",
       "      <td>4</td>\n",
       "      <td>Hrisikesh Neogi</td>\n",
       "      <td>30-Jul-22</td>\n",
       "      <td>02:34:29 PM</td>\n",
       "      <td>03:19:35 PM</td>\n",
       "      <td>00:45:06</td>\n",
       "    </tr>\n",
       "    <tr>\n",
       "      <th>4</th>\n",
       "      <td>5</td>\n",
       "      <td>Mukesh</td>\n",
       "      <td>30-Jul-22</td>\n",
       "      <td>02:03:15 PM</td>\n",
       "      <td>03:11:52 PM</td>\n",
       "      <td>01:08:36</td>\n",
       "    </tr>\n",
       "    <tr>\n",
       "      <th>...</th>\n",
       "      <td>...</td>\n",
       "      <td>...</td>\n",
       "      <td>...</td>\n",
       "      <td>...</td>\n",
       "      <td>...</td>\n",
       "      <td>...</td>\n",
       "    </tr>\n",
       "    <tr>\n",
       "      <th>995</th>\n",
       "      <td>996</td>\n",
       "      <td>Manjunatha A</td>\n",
       "      <td>20-Jul-22</td>\n",
       "      <td>09:03:51 AM</td>\n",
       "      <td>03:02:28 PM</td>\n",
       "      <td>05:58:37</td>\n",
       "    </tr>\n",
       "    <tr>\n",
       "      <th>996</th>\n",
       "      <td>997</td>\n",
       "      <td>Bharath</td>\n",
       "      <td>20-Jul-22</td>\n",
       "      <td>09:00:49 AM</td>\n",
       "      <td>03:01:32 PM</td>\n",
       "      <td>06:00:43</td>\n",
       "    </tr>\n",
       "    <tr>\n",
       "      <th>997</th>\n",
       "      <td>998</td>\n",
       "      <td>Khushboo Priya</td>\n",
       "      <td>20-Jul-22</td>\n",
       "      <td>08:59:20 AM</td>\n",
       "      <td>02:26:55 PM</td>\n",
       "      <td>05:27:34</td>\n",
       "    </tr>\n",
       "    <tr>\n",
       "      <th>998</th>\n",
       "      <td>999</td>\n",
       "      <td>Nishtha Jain</td>\n",
       "      <td>20-Jul-22</td>\n",
       "      <td>08:43:55 AM</td>\n",
       "      <td>02:00:33 PM</td>\n",
       "      <td>05:16:38</td>\n",
       "    </tr>\n",
       "    <tr>\n",
       "      <th>999</th>\n",
       "      <td>1000</td>\n",
       "      <td>Tarun</td>\n",
       "      <td>01-Jul-22</td>\n",
       "      <td>01:52:47 AM</td>\n",
       "      <td>12:01:07 PM</td>\n",
       "      <td>514:08:20</td>\n",
       "    </tr>\n",
       "  </tbody>\n",
       "</table>\n",
       "<p>1000 rows × 6 columns</p>\n",
       "</div>"
      ],
      "text/plain": [
       "     SL No               Agent       Date   Login Time  Logout Time   Duration\n",
       "0        1  Shivananda Sonwane  30-Jul-22  03:35:29 PM  05:39:39 PM   02:04:10\n",
       "1        2      Khushboo Priya  30-Jul-22  03:06:59 PM  03:07:16 PM   00:00:17\n",
       "2        3       Nandani Gupta  30-Jul-22  03:04:24 PM  05:31:07 PM   02:26:42\n",
       "3        4     Hrisikesh Neogi  30-Jul-22  02:34:29 PM  03:19:35 PM   00:45:06\n",
       "4        5             Mukesh   30-Jul-22  02:03:15 PM  03:11:52 PM   01:08:36\n",
       "..     ...                 ...        ...          ...          ...        ...\n",
       "995    996        Manjunatha A  20-Jul-22  09:03:51 AM  03:02:28 PM   05:58:37\n",
       "996    997            Bharath   20-Jul-22  09:00:49 AM  03:01:32 PM   06:00:43\n",
       "997    998      Khushboo Priya  20-Jul-22  08:59:20 AM  02:26:55 PM   05:27:34\n",
       "998    999        Nishtha Jain  20-Jul-22  08:43:55 AM  02:00:33 PM   05:16:38\n",
       "999   1000              Tarun   01-Jul-22  01:52:47 AM  12:01:07 PM  514:08:20\n",
       "\n",
       "[1000 rows x 6 columns]"
      ]
     },
     "execution_count": 254,
     "metadata": {},
     "output_type": "execute_result"
    }
   ],
   "source": [
    "df_log"
   ]
  },
  {
   "cell_type": "markdown",
   "id": "d5e9cd42",
   "metadata": {},
   "source": [
    "### converted date into date_type"
   ]
  },
  {
   "cell_type": "code",
   "execution_count": null,
   "id": "141629f1",
   "metadata": {},
   "outputs": [],
   "source": [
    "df_per['converted_date'] = pd.to_datetime(df_per['Date'])"
   ]
  },
  {
   "cell_type": "markdown",
   "id": "1dcc8cb7",
   "metadata": {},
   "source": [
    "### 1 .Find out there avarage rating on weekly basis keep this in a mind that they take two days of leave\n",
    "**here no of weeks is 22/5 = 4.4**"
   ]
  },
  {
   "cell_type": "code",
   "execution_count": 237,
   "id": "fb22d121",
   "metadata": {},
   "outputs": [
    {
     "data": {
      "text/plain": [
       "Agent Name\n",
       "Abhishek          0.000000\n",
       "Aditya            0.000000\n",
       "Aditya Shinde    12.275000\n",
       "Aditya_iot       15.990909\n",
       "Amersh            0.000000\n",
       "                   ...    \n",
       "Uday Mishra       0.000000\n",
       "Vasanth P         0.000000\n",
       "Vivek             3.413636\n",
       "Wasim            16.363636\n",
       "Zeeshan          15.593182\n",
       "Name: Average Rating, Length: 70, dtype: float64"
      ]
     },
     "execution_count": 237,
     "metadata": {},
     "output_type": "execute_result"
    }
   ],
   "source": [
    "df_per.groupby('Agent Name')['Average Rating'].sum()/ 4.4"
   ]
  },
  {
   "cell_type": "code",
   "execution_count": 238,
   "id": "9b725932",
   "metadata": {},
   "outputs": [
    {
     "name": "stdout",
     "output_type": "stream",
     "text": [
      "Agent Name : Average Rating\n",
      "Abhishek  : 0.0\n",
      "Aditya  : 0.0\n",
      "Aditya Shinde : 2.455\n",
      "Aditya_iot  : 3.1981818181818182\n",
      "Amersh  : 0.0\n",
      "Ameya Jain : 3.026818181818182\n",
      "Anirudh  : 0.8795454545454546\n",
      "Ankit Sharma : 0.0\n",
      "Ankitjha  : 0.36363636363636365\n",
      "Anurag Tiwari : 0.25\n",
      "Aravind  : 2.9745454545454546\n",
      "Ashad Nasim : 0.22727272727272727\n",
      "Ashish  : 0.0\n",
      "Ayushi Mishra : 4.748181818181819\n",
      "Bharath  : 4.068636363636364\n",
      "Boktiar Ahmed Bappy : 4.865454545454545\n",
      "Chaitra K Hiremath : 1.179090909090909\n",
      "Deepranjan Gupta : 3.936363636363636\n",
      "Dibyanshu  : 0.0\n",
      "Harikrishnan Shaji : 3.5995454545454546\n",
      "Hitesh Choudhary : 0.0\n",
      "Hrisikesh Neogi : 4.276818181818182\n",
      "Hyder Abbas : 0.0\n",
      "Ineuron Intelligence  : 0.0\n",
      "Ishawant Kumar : 4.831818181818182\n",
      "Jawala Prakash : 4.734545454545454\n",
      "Jayant Kumar : 1.4572727272727273\n",
      "Jaydeep Dixit : 4.318636363636364\n",
      "Khushboo Priya : 5.050454545454546\n",
      "Madhulika G : 4.7709090909090905\n",
      "Mahak  : 0.13636363636363635\n",
      "Mahesh Sarade : 3.2731818181818184\n",
      "Maitry  : 3.9913636363636367\n",
      "Maneesh  : 0.22727272727272727\n",
      "Manjunatha A : 4.901818181818182\n",
      "Mithun S : 3.216818181818182\n",
      "Mukesh  : 0.42227272727272724\n",
      "Mukesh Rao  : 0.34863636363636363\n",
      "Muskan Garg : 0.9713636363636364\n",
      "Nandani Gupta : 3.9868181818181823\n",
      "Nishtha Jain : 4.475909090909091\n",
      "Nitin M : 0.0\n",
      "Prabir Kumar Satapathy : 3.4231818181818183\n",
      "Prateek _iot  : 3.325\n",
      "Prerna Singh : 4.408181818181818\n",
      "Rishav Dash : 3.891363636363636\n",
      "Rohan  : 0.0\n",
      "Saif Khan : 0.0\n",
      "Saikumarreddy N : 2.700454545454545\n",
      "Samprit  : 0.0\n",
      "Sandipan Saha : 0.5850000000000001\n",
      "Sanjeev Kumar : 4.613181818181818\n",
      "Sanjeevan  : 0.0\n",
      "Saurabh Shukla : 0.7577272727272728\n",
      "Shiva Srivastava : 1.288181818181818\n",
      "Shivan K : 3.8745454545454545\n",
      "Shivan_S  : 0.19318181818181818\n",
      "Shivananda Sonwane : 5.771818181818182\n",
      "Shubham Sharma : 4.398181818181818\n",
      "Sowmiya Sivakumar : 1.7181818181818185\n",
      "Spuri  : 0.0\n",
      "Sudhanshu Kumar : 0.45454545454545453\n",
      "Suraj S Bilgi : 0.4254545454545454\n",
      "Swati  : 3.305\n",
      "Tarun  : 0.06818181818181818\n",
      "Uday Mishra : 0.0\n",
      "Vasanth P : 0.0\n",
      "Vivek  : 0.6827272727272727\n",
      "Wasim  : 3.272727272727273\n",
      "Zeeshan  : 3.1186363636363637\n"
     ]
    }
   ],
   "source": [
    "print(\"Agent Name\", \":\", \"Average Rating\")\n",
    "for i, j in zip(sorted(list(df_per['Agent Name'].unique())),df_per.groupby('Agent Name')['Average Rating'].sum()/ 22):\n",
    "    print(i,\":\",j)"
   ]
  },
  {
   "cell_type": "markdown",
   "id": "7ef9db7b",
   "metadata": {},
   "source": [
    "### 2 .Total working days for each agents "
   ]
  },
  {
   "cell_type": "code",
   "execution_count": null,
   "id": "b3904fe2",
   "metadata": {},
   "outputs": [],
   "source": [
    "df_per_1 =  df_per[df_per['Total Chats'] > 0]"
   ]
  },
  {
   "cell_type": "code",
   "execution_count": 80,
   "id": "a6ef2f6b",
   "metadata": {},
   "outputs": [
    {
     "data": {
      "text/plain": [
       "Agent Name\n",
       "Aditya Shinde             12\n",
       "Aditya_iot                17\n",
       "Ameya Jain                15\n",
       "Anirudh                    7\n",
       "Ankitjha                   3\n",
       "Anurag Tiwari              2\n",
       "Aravind                   14\n",
       "Ashad Nasim                2\n",
       "Ayushi Mishra             24\n",
       "Bharath                   19\n",
       "Boktiar Ahmed Bappy       26\n",
       "Chaitra K Hiremath         6\n",
       "Deepranjan Gupta          21\n",
       "Dibyanshu                  1\n",
       "Harikrishnan Shaji        19\n",
       "Hitesh Choudhary           1\n",
       "Hrisikesh Neogi           21\n",
       "Ishawant Kumar            24\n",
       "Jawala Prakash            25\n",
       "Jayant Kumar               8\n",
       "Jaydeep Dixit             21\n",
       "Khushboo Priya            26\n",
       "Madhulika G               24\n",
       "Mahak                      1\n",
       "Mahesh Sarade             18\n",
       "Maitry                    20\n",
       "Maneesh                    3\n",
       "Manjunatha A              25\n",
       "Mithun S                  18\n",
       "Mukesh                     2\n",
       "Mukesh Rao                 3\n",
       "Muskan Garg                5\n",
       "Nandani Gupta             21\n",
       "Nishtha Jain              23\n",
       "Prabir Kumar Satapathy    17\n",
       "Prateek _iot              17\n",
       "Prerna Singh              22\n",
       "Rishav Dash               21\n",
       "Saikumarreddy N           13\n",
       "Samprit                    1\n",
       "Sandipan Saha              3\n",
       "Sanjeev Kumar             23\n",
       "Saurabh Shukla             4\n",
       "Shiva Srivastava           7\n",
       "Shivan K                  22\n",
       "Shivan_S                   1\n",
       "Shivananda Sonwane        28\n",
       "Shubham Sharma            21\n",
       "Sowmiya Sivakumar          9\n",
       "Sudhanshu Kumar            2\n",
       "Suraj S Bilgi              2\n",
       "Swati                     17\n",
       "Tarun                      1\n",
       "Vivek                      5\n",
       "Wasim                     16\n",
       "Zeeshan                   16\n",
       "Name: Total Chats, dtype: int64"
      ]
     },
     "execution_count": 80,
     "metadata": {},
     "output_type": "execute_result"
    }
   ],
   "source": [
    "df_per_1.groupby('Agent Name')['Total Chats'].count()"
   ]
  },
  {
   "cell_type": "markdown",
   "id": "6fd6c87f",
   "metadata": {},
   "source": [
    "### 3. Total query that a agent has taken"
   ]
  },
  {
   "cell_type": "code",
   "execution_count": 23,
   "id": "43788bdd",
   "metadata": {},
   "outputs": [
    {
     "data": {
      "text/plain": [
       "Agent Name\n",
       "Abhishek           0\n",
       "Aditya             0\n",
       "Aditya Shinde    277\n",
       "Aditya_iot       231\n",
       "Amersh             0\n",
       "                ... \n",
       "Uday Mishra        0\n",
       "Vasanth P          0\n",
       "Vivek             44\n",
       "Wasim            433\n",
       "Zeeshan          542\n",
       "Name: Total Chats, Length: 70, dtype: int64"
      ]
     },
     "execution_count": 23,
     "metadata": {},
     "output_type": "execute_result"
    }
   ],
   "source": [
    "df_per.groupby('Agent Name')['Total Chats'].sum()"
   ]
  },
  {
   "cell_type": "markdown",
   "id": "7eb123b3",
   "metadata": {},
   "source": [
    "### 4. total Feedback that a agent has received"
   ]
  },
  {
   "cell_type": "code",
   "execution_count": 24,
   "id": "e746d939",
   "metadata": {},
   "outputs": [
    {
     "data": {
      "text/plain": [
       "Agent Name\n",
       "Abhishek           0\n",
       "Aditya             0\n",
       "Aditya Shinde    153\n",
       "Aditya_iot       131\n",
       "Amersh             0\n",
       "                ... \n",
       "Uday Mishra        0\n",
       "Vasanth P          0\n",
       "Vivek             20\n",
       "Wasim            284\n",
       "Zeeshan          335\n",
       "Name: Total Feedback, Length: 70, dtype: int64"
      ]
     },
     "execution_count": 24,
     "metadata": {},
     "output_type": "execute_result"
    }
   ],
   "source": [
    "df_per.groupby('Agent Name')['Total Feedback'].sum()"
   ]
  },
  {
   "cell_type": "code",
   "execution_count": 100,
   "id": "076cc77b",
   "metadata": {},
   "outputs": [
    {
     "data": {
      "text/plain": [
       "Index(['SL No', 'Date', 'Agent Name', 'Total Chats', 'Average Response Time',\n",
       "       'Average Resolution Time', 'Average Rating', 'Total Feedback',\n",
       "       'converted_date'],\n",
       "      dtype='object')"
      ]
     },
     "execution_count": 100,
     "metadata": {},
     "output_type": "execute_result"
    }
   ],
   "source": [
    "df_per.columns"
   ]
  },
  {
   "cell_type": "markdown",
   "id": "dcb1171b",
   "metadata": {},
   "source": [
    "### 5. agent name who have average rating between 3.5 to 4"
   ]
  },
  {
   "cell_type": "code",
   "execution_count": 127,
   "id": "d9384e2b",
   "metadata": {},
   "outputs": [
    {
     "data": {
      "text/plain": [
       "4                    Swati \n",
       "10             Manjunatha A\n",
       "76            Prateek _iot \n",
       "78            Nandani Gupta\n",
       "80            Jaydeep Dixit\n",
       "               ...         \n",
       "1869    Boktiar Ahmed Bappy\n",
       "1874          Ayushi Mishra\n",
       "1941         Jawala Prakash\n",
       "2021          Aditya Shinde\n",
       "2023       Deepranjan Gupta\n",
       "Name: Agent Name, Length: 78, dtype: object"
      ]
     },
     "execution_count": 127,
     "metadata": {},
     "output_type": "execute_result"
    }
   ],
   "source": [
    "df_per[(df_per['Average Rating'] > 3.5) & (df_per['Average Rating'] < 4)]['Agent Name']"
   ]
  },
  {
   "cell_type": "markdown",
   "id": "f9833f67",
   "metadata": {},
   "source": [
    "### 6 . Agent name who have rating lesss then 3.5 "
   ]
  },
  {
   "cell_type": "code",
   "execution_count": 150,
   "id": "911ad004",
   "metadata": {},
   "outputs": [
    {
     "data": {
      "text/plain": [
       "1            Nandani Gupta\n",
       "19        Hitesh Choudhary\n",
       "20              Sanjeevan \n",
       "21                Anirudh \n",
       "22        Shiva Srivastava\n",
       "               ...        \n",
       "2155     Sowmiya Sivakumar\n",
       "2156               Nitin M\n",
       "2157                Vivek \n",
       "2158         Ayushi Mishra\n",
       "2159    Chaitra K Hiremath\n",
       "Name: Agent Name, Length: 1474, dtype: object"
      ]
     },
     "execution_count": 150,
     "metadata": {},
     "output_type": "execute_result"
    }
   ],
   "source": [
    "df_per[(df_per['Average Rating'] < 3.5) ]['Agent Name']"
   ]
  },
  {
   "cell_type": "markdown",
   "id": "6ad6e8a4",
   "metadata": {},
   "source": [
    "### 7 . agent name who have rating more then 4.5 "
   ]
  },
  {
   "cell_type": "code",
   "execution_count": 151,
   "id": "c772d9b1",
   "metadata": {},
   "outputs": [
    {
     "data": {
      "text/plain": [
       "2               Ameya Jain\n",
       "3            Mahesh Sarade\n",
       "5                  Mukesh \n",
       "6          Saikumarreddy N\n",
       "7            Sanjeev Kumar\n",
       "               ...        \n",
       "2100        Shubham Sharma\n",
       "2101         Jaydeep Dixit\n",
       "2102    Shivananda Sonwane\n",
       "2103        Khushboo Priya\n",
       "2104       Hrisikesh Neogi\n",
       "Name: Agent Name, Length: 307, dtype: object"
      ]
     },
     "execution_count": 151,
     "metadata": {},
     "output_type": "execute_result"
    }
   ],
   "source": [
    "df_per[(df_per['Average Rating'] > 4.5) ]['Agent Name']"
   ]
  },
  {
   "cell_type": "markdown",
   "id": "052821cf",
   "metadata": {},
   "source": [
    "### 8 . how many feedaback agents have received more then 4.5 average"
   ]
  },
  {
   "cell_type": "code",
   "execution_count": 158,
   "id": "4329915d",
   "metadata": {},
   "outputs": [
    {
     "name": "stdout",
     "output_type": "stream",
     "text": [
      "34\n"
     ]
    }
   ],
   "source": [
    "count = 0\n",
    "for i in df_per.groupby('Agent Name')['Total Feedback'].sum()/ 22 > 4.5:\n",
    "    if i == True:\n",
    "        count += 1\n",
    "print(count)"
   ]
  },
  {
   "cell_type": "code",
   "execution_count": 160,
   "id": "84d432b3",
   "metadata": {},
   "outputs": [
    {
     "data": {
      "text/plain": [
       "Index(['SL No', 'Date', 'Agent Name', 'Total Chats', 'Average Response Time',\n",
       "       'Average Resolution Time', 'Average Rating', 'Total Feedback',\n",
       "       'converted_date'],\n",
       "      dtype='object')"
      ]
     },
     "execution_count": 160,
     "metadata": {},
     "output_type": "execute_result"
    }
   ],
   "source": [
    "df_per.columns"
   ]
  },
  {
   "cell_type": "code",
   "execution_count": 219,
   "id": "0dd26820",
   "metadata": {},
   "outputs": [
    {
     "data": {
      "text/plain": [
       "SL No                               int64\n",
       "Date                               object\n",
       "Agent Name                         object\n",
       "Total Chats                         int64\n",
       "Average Response Time              object\n",
       "Average Resolution Time            object\n",
       "Average Rating                    float64\n",
       "Total Feedback                      int64\n",
       "converted_date             datetime64[ns]\n",
       "dtype: object"
      ]
     },
     "execution_count": 219,
     "metadata": {},
     "output_type": "execute_result"
    }
   ],
   "source": [
    "df_per.dtypes"
   ]
  },
  {
   "cell_type": "markdown",
   "id": "bda6266c",
   "metadata": {},
   "source": [
    "### 9 . average weekly response time for each agent"
   ]
  },
  {
   "cell_type": "code",
   "execution_count": 220,
   "id": "3e450c6b",
   "metadata": {},
   "outputs": [],
   "source": [
    "df_per['Average Response Time']=pd.to_datetime(df_per['Average Response Time'])"
   ]
  },
  {
   "cell_type": "code",
   "execution_count": 222,
   "id": "346ad292",
   "metadata": {},
   "outputs": [],
   "source": [
    "df_per['AResponseT_hour'] = df_per['Average Response Time'].dt.hour"
   ]
  },
  {
   "cell_type": "code",
   "execution_count": 224,
   "id": "37edd7c8",
   "metadata": {},
   "outputs": [],
   "source": [
    "df_per['AResponseT_minute'] = df_per['Average Response Time'].dt.minute"
   ]
  },
  {
   "cell_type": "code",
   "execution_count": 225,
   "id": "e09456e2",
   "metadata": {},
   "outputs": [],
   "source": [
    "df_per['AResponseT_second'] = df_per['Average Response Time'].dt.second"
   ]
  },
  {
   "cell_type": "markdown",
   "id": "50c7fddc",
   "metadata": {},
   "source": [
    "**here weekly response time for each agent is in minutes**"
   ]
  },
  {
   "cell_type": "code",
   "execution_count": 235,
   "id": "1635e6f3",
   "metadata": {},
   "outputs": [
    {
     "data": {
      "text/plain": [
       "Agent Name\n",
       "Abhishek           0.000000\n",
       "Aditya             0.000000\n",
       "Aditya Shinde    137.469697\n",
       "Aditya_iot        84.314394\n",
       "Amersh             0.000000\n",
       "                    ...    \n",
       "Uday Mishra        0.000000\n",
       "Vasanth P          0.000000\n",
       "Vivek             55.193182\n",
       "Wasim             83.829545\n",
       "Zeeshan          302.015152\n",
       "Length: 70, dtype: float64"
      ]
     },
     "execution_count": 235,
     "metadata": {},
     "output_type": "execute_result"
    }
   ],
   "source": [
    "\n",
    "((df_per.groupby('Agent Name')['AResponseT_hour'].sum()*3600) +\n",
    "(df_per.groupby('Agent Name')['AResponseT_minute'].sum()*60) +\n",
    "(df_per.groupby('Agent Name')['AResponseT_second'].sum())/60)/4.4"
   ]
  },
  {
   "cell_type": "markdown",
   "id": "a91b04ab",
   "metadata": {},
   "source": [
    "### 10 . average weekely resolution time for each agents "
   ]
  },
  {
   "cell_type": "code",
   "execution_count": 239,
   "id": "2b9461b1",
   "metadata": {},
   "outputs": [],
   "source": [
    "df_per['Average Resolution Time']=pd.to_datetime(df_per['Average Resolution Time'])"
   ]
  },
  {
   "cell_type": "code",
   "execution_count": 240,
   "id": "788e3c1d",
   "metadata": {},
   "outputs": [],
   "source": [
    "df_per['AReslnT_hour'] = df_per['Average Resolution Time'].dt.hour"
   ]
  },
  {
   "cell_type": "code",
   "execution_count": 241,
   "id": "808078d1",
   "metadata": {},
   "outputs": [],
   "source": [
    "df_per['AReslnT_minute'] = df_per['Average Resolution Time'].dt.minute"
   ]
  },
  {
   "cell_type": "code",
   "execution_count": 242,
   "id": "30b2eb60",
   "metadata": {},
   "outputs": [],
   "source": [
    "df_per['AReslnT_second'] = df_per['Average Resolution Time'].dt.second"
   ]
  },
  {
   "cell_type": "markdown",
   "id": "470348fd",
   "metadata": {},
   "source": [
    "**here weekely resolution time for each agents  is in minutes**"
   ]
  },
  {
   "cell_type": "code",
   "execution_count": 244,
   "id": "c687ac40",
   "metadata": {},
   "outputs": [
    {
     "data": {
      "text/plain": [
       "Agent Name\n",
       "Abhishek            0.000000\n",
       "Aditya              0.000000\n",
       "Aditya Shinde    4160.299242\n",
       "Aditya_iot       3888.556818\n",
       "Amersh              0.000000\n",
       "                    ...     \n",
       "Uday Mishra         0.000000\n",
       "Vasanth P           0.000000\n",
       "Vivek            1009.632576\n",
       "Wasim            4583.734848\n",
       "Zeeshan          4310.575758\n",
       "Length: 70, dtype: float64"
      ]
     },
     "execution_count": 244,
     "metadata": {},
     "output_type": "execute_result"
    }
   ],
   "source": [
    "((df_per.groupby('Agent Name')['AReslnT_hour'].sum()*3600) +\n",
    "(df_per.groupby('Agent Name')['AReslnT_minute'].sum()*60) +\n",
    "(df_per.groupby('Agent Name')['AReslnT_second'].sum())/60)/4.4"
   ]
  },
  {
   "cell_type": "markdown",
   "id": "5ab3d3e0",
   "metadata": {},
   "source": [
    "### 11 . list of all agents name"
   ]
  },
  {
   "cell_type": "code",
   "execution_count": 206,
   "id": "5762e06f",
   "metadata": {},
   "outputs": [
    {
     "data": {
      "text/plain": [
       "['Abhishek ',\n",
       " 'Aditya ',\n",
       " 'Aditya Shinde',\n",
       " 'Aditya_iot ',\n",
       " 'Amersh ',\n",
       " 'Ameya Jain',\n",
       " 'Anirudh ',\n",
       " 'Ankit Sharma',\n",
       " 'Ankitjha ',\n",
       " 'Anurag Tiwari',\n",
       " 'Aravind ',\n",
       " 'Ashad Nasim',\n",
       " 'Ashish ',\n",
       " 'Ayushi Mishra',\n",
       " 'Bharath ',\n",
       " 'Boktiar Ahmed Bappy',\n",
       " 'Chaitra K Hiremath',\n",
       " 'Deepranjan Gupta',\n",
       " 'Dibyanshu ',\n",
       " 'Harikrishnan Shaji',\n",
       " 'Hitesh Choudhary',\n",
       " 'Hrisikesh Neogi',\n",
       " 'Hyder Abbas',\n",
       " 'Ineuron Intelligence ',\n",
       " 'Ishawant Kumar',\n",
       " 'Jawala Prakash',\n",
       " 'Jayant Kumar',\n",
       " 'Jaydeep Dixit',\n",
       " 'Khushboo Priya',\n",
       " 'Madhulika G',\n",
       " 'Mahak ',\n",
       " 'Mahesh Sarade',\n",
       " 'Maitry ',\n",
       " 'Maneesh ',\n",
       " 'Manjunatha A',\n",
       " 'Mithun S',\n",
       " 'Mukesh ',\n",
       " 'Mukesh Rao ',\n",
       " 'Muskan Garg',\n",
       " 'Nandani Gupta',\n",
       " 'Nishtha Jain',\n",
       " 'Nitin M',\n",
       " 'Prabir Kumar Satapathy',\n",
       " 'Prateek _iot ',\n",
       " 'Prerna Singh',\n",
       " 'Rishav Dash',\n",
       " 'Rohan ',\n",
       " 'Saif Khan',\n",
       " 'Saikumarreddy N',\n",
       " 'Samprit ',\n",
       " 'Sandipan Saha',\n",
       " 'Sanjeev Kumar',\n",
       " 'Sanjeevan ',\n",
       " 'Saurabh Shukla',\n",
       " 'Shiva Srivastava',\n",
       " 'Shivan K',\n",
       " 'Shivan_S ',\n",
       " 'Shivananda Sonwane',\n",
       " 'Shubham Sharma',\n",
       " 'Sowmiya Sivakumar',\n",
       " 'Spuri ',\n",
       " 'Sudhanshu Kumar',\n",
       " 'Suraj S Bilgi',\n",
       " 'Swati ',\n",
       " 'Tarun ',\n",
       " 'Uday Mishra',\n",
       " 'Vasanth P',\n",
       " 'Vivek ',\n",
       " 'Wasim ',\n",
       " 'Zeeshan ']"
      ]
     },
     "execution_count": 206,
     "metadata": {},
     "output_type": "execute_result"
    }
   ],
   "source": [
    "sorted(list(df_per['Agent Name'].unique()))"
   ]
  },
  {
   "cell_type": "code",
   "execution_count": 207,
   "id": "46671826",
   "metadata": {},
   "outputs": [
    {
     "data": {
      "text/plain": [
       "Index(['SL No', 'Date', 'Agent Name', 'Total Chats', 'Average Response Time',\n",
       "       'Average Resolution Time', 'Average Rating', 'Total Feedback',\n",
       "       'converted_date'],\n",
       "      dtype='object')"
      ]
     },
     "execution_count": 207,
     "metadata": {},
     "output_type": "execute_result"
    }
   ],
   "source": [
    "df_per.columns"
   ]
  },
  {
   "cell_type": "markdown",
   "id": "ca3ab9d3",
   "metadata": {},
   "source": [
    "### 12 . percentage of chat on which they have received a feedback\n",
    "\n",
    "**percentage of chat on which they have received a feedback = ((total chats - total feedbacks)/total chats)*100**"
   ]
  },
  {
   "cell_type": "code",
   "execution_count": 275,
   "id": "18c6884c",
   "metadata": {},
   "outputs": [
    {
     "data": {
      "text/plain": [
       "Agent Name\n",
       "Abhishek               NaN\n",
       "Aditya                 NaN\n",
       "Aditya Shinde    44.765343\n",
       "Aditya_iot       43.290043\n",
       "Amersh                 NaN\n",
       "                   ...    \n",
       "Uday Mishra            NaN\n",
       "Vasanth P              NaN\n",
       "Vivek            54.545455\n",
       "Wasim            34.411085\n",
       "Zeeshan          38.191882\n",
       "Length: 70, dtype: float64"
      ]
     },
     "execution_count": 275,
     "metadata": {},
     "output_type": "execute_result"
    }
   ],
   "source": [
    "((\n",
    "        ((df_per.groupby('Agent Name')['Total Chats'].sum())-(df_per.groupby('Agent Name')['Total Feedback'].sum()))/\n",
    "        (df_per.groupby('Agent Name')['Total Chats'].sum())\n",
    "))*100"
   ]
  },
  {
   "cell_type": "code",
   "execution_count": 247,
   "id": "434f247b",
   "metadata": {},
   "outputs": [
    {
     "data": {
      "text/plain": [
       "SL No           int64\n",
       "Agent          object\n",
       "Date           object\n",
       "Login Time     object\n",
       "Logout Time    object\n",
       "Duration       object\n",
       "dtype: object"
      ]
     },
     "execution_count": 247,
     "metadata": {},
     "output_type": "execute_result"
    }
   ],
   "source": [
    "df_log.dtypes"
   ]
  },
  {
   "cell_type": "markdown",
   "id": "1ccf32ff",
   "metadata": {},
   "source": [
    "### 13 . Total contributation hour for each and every agents weekly basis "
   ]
  },
  {
   "cell_type": "code",
   "execution_count": 256,
   "id": "0b752d59",
   "metadata": {},
   "outputs": [],
   "source": [
    "df_log['modified_Duration']=(pd.to_datetime(df_log.Date) + pd.to_timedelta(df_log.Duration))"
   ]
  },
  {
   "cell_type": "code",
   "execution_count": 257,
   "id": "c24e8ac5",
   "metadata": {},
   "outputs": [],
   "source": [
    "df_log['Duration_hour'] = df_log['modified_Duration'].dt.hour"
   ]
  },
  {
   "cell_type": "code",
   "execution_count": 258,
   "id": "e26634ea",
   "metadata": {},
   "outputs": [],
   "source": [
    "df_log['Duration_minute'] =df_log['modified_Duration'].dt.minute"
   ]
  },
  {
   "cell_type": "code",
   "execution_count": 259,
   "id": "8d471ecd",
   "metadata": {},
   "outputs": [],
   "source": [
    "df_log['Duration_second'] = df_log['modified_Duration'].dt.second"
   ]
  },
  {
   "cell_type": "code",
   "execution_count": 263,
   "id": "9a6ea305",
   "metadata": {},
   "outputs": [
    {
     "data": {
      "text/plain": [
       "Agent\n",
       "Aditya Shinde              0.008207\n",
       "Aditya_iot                 3.575253\n",
       "Amersh                     0.696338\n",
       "Ameya Jain                 9.562626\n",
       "Ankitjha                   0.515215\n",
       "Anurag Tiwari              0.631566\n",
       "Aravind                    5.522538\n",
       "Ayushi Mishra              8.664015\n",
       "Bharath                   10.926515\n",
       "Boktiar Ahmed Bappy        9.151957\n",
       "Chaitra K Hiremath         7.801263\n",
       "Deepranjan Gupta          24.153472\n",
       "Dibyanshu                 11.953598\n",
       "Harikrishnan Shaji        12.207891\n",
       "Hrisikesh Neogi           13.083775\n",
       "Hyder Abbas                0.088194\n",
       "Ineuron Intelligence       0.329230\n",
       "Ishawant Kumar            11.767929\n",
       "Jawala Prakash            10.545960\n",
       "Jaydeep Dixit              8.145581\n",
       "Khushboo Priya             9.899684\n",
       "Madhulika G               10.468245\n",
       "Mahesh Sarade              9.754987\n",
       "Maitry                     7.032955\n",
       "Manjunatha A               9.380619\n",
       "Mithun S                  10.266730\n",
       "Mukesh                     2.023864\n",
       "Muskan Garg                3.939899\n",
       "Nandani Gupta              9.130051\n",
       "Nishtha Jain               9.966540\n",
       "Nitin M                    0.181566\n",
       "Prabir Kumar Satapathy     7.585732\n",
       "Prateek _iot               4.185922\n",
       "Prerna Singh              10.389899\n",
       "Rishav Dash                9.494444\n",
       "Saikumarreddy N            9.803977\n",
       "Sanjeev Kumar             10.156187\n",
       "Saurabh Shukla             3.787058\n",
       "Shiva Srivastava           3.407765\n",
       "Shivan K                   8.205051\n",
       "Shivananda Sonwane        11.201768\n",
       "Shubham Sharma            12.226894\n",
       "Sowmiya Sivakumar         10.171402\n",
       "Sudhanshu Kumar           10.507071\n",
       "Suraj S Bilgi              2.854356\n",
       "Swati                      5.682071\n",
       "Tarun                      2.304293\n",
       "Wasim                     10.949811\n",
       "Zeeshan                   11.156503\n",
       "dtype: float64"
      ]
     },
     "execution_count": 263,
     "metadata": {},
     "output_type": "execute_result"
    }
   ],
   "source": [
    "((df_log.groupby('Agent')['Duration_hour'].sum()) +\n",
    "(df_log.groupby('Agent')['Duration_minute'].sum()/60) +\n",
    "(df_log.groupby('Agent')['Duration_second'].sum())/3600)/4.4"
   ]
  },
  {
   "cell_type": "markdown",
   "id": "e88dae63",
   "metadata": {},
   "source": [
    "### 14. total percentage of active hour for a month \n",
    "\n",
    "**considering 7 active hours in a day so in 22 days total active hours = 154**"
   ]
  },
  {
   "cell_type": "code",
   "execution_count": 264,
   "id": "97a06cf1",
   "metadata": {},
   "outputs": [
    {
     "data": {
      "text/plain": [
       "Agent\n",
       "Aditya Shinde              0.023449\n",
       "Aditya_iot                10.215007\n",
       "Amersh                     1.989538\n",
       "Ameya Jain                27.321789\n",
       "Ankitjha                   1.472042\n",
       "Anurag Tiwari              1.804473\n",
       "Aravind                   15.778680\n",
       "Ayushi Mishra             24.754329\n",
       "Bharath                   31.218615\n",
       "Boktiar Ahmed Bappy       26.148449\n",
       "Chaitra K Hiremath        22.289322\n",
       "Deepranjan Gupta          69.009921\n",
       "Dibyanshu                 34.153139\n",
       "Harikrishnan Shaji        34.879690\n",
       "Hrisikesh Neogi           37.382215\n",
       "Hyder Abbas                0.251984\n",
       "Ineuron Intelligence       0.940657\n",
       "Ishawant Kumar            33.622655\n",
       "Jawala Prakash            30.131313\n",
       "Jaydeep Dixit             23.273088\n",
       "Khushboo Priya            28.284812\n",
       "Madhulika G               29.909271\n",
       "Mahesh Sarade             27.871392\n",
       "Maitry                    20.094156\n",
       "Manjunatha A              26.801768\n",
       "Mithun S                  29.333514\n",
       "Mukesh                     5.782468\n",
       "Muskan Garg               11.256854\n",
       "Nandani Gupta             26.085859\n",
       "Nishtha Jain              28.475830\n",
       "Nitin M                    0.518759\n",
       "Prabir Kumar Satapathy    21.673521\n",
       "Prateek _iot              11.959776\n",
       "Prerna Singh              29.685426\n",
       "Rishav Dash               27.126984\n",
       "Saikumarreddy N           28.011364\n",
       "Sanjeev Kumar             29.017677\n",
       "Saurabh Shukla            10.820166\n",
       "Shiva Srivastava           9.736472\n",
       "Shivan K                  23.443001\n",
       "Shivananda Sonwane        32.005051\n",
       "Shubham Sharma            34.933983\n",
       "Sowmiya Sivakumar         29.061147\n",
       "Sudhanshu Kumar           30.020202\n",
       "Suraj S Bilgi              8.155303\n",
       "Swati                     16.234488\n",
       "Tarun                      6.583694\n",
       "Wasim                     31.285173\n",
       "Zeeshan                   31.875722\n",
       "dtype: float64"
      ]
     },
     "execution_count": 264,
     "metadata": {},
     "output_type": "execute_result"
    }
   ],
   "source": [
    "(((df_log.groupby('Agent')['Duration_hour'].sum()) +\n",
    "(df_log.groupby('Agent')['Duration_minute'].sum()/60) +\n",
    "(df_log.groupby('Agent')['Duration_second'].sum())/3600)/154)*100"
   ]
  }
 ],
 "metadata": {
  "kernelspec": {
   "display_name": "Python 3 (ipykernel)",
   "language": "python",
   "name": "python3"
  },
  "language_info": {
   "codemirror_mode": {
    "name": "ipython",
    "version": 3
   },
   "file_extension": ".py",
   "mimetype": "text/x-python",
   "name": "python",
   "nbconvert_exporter": "python",
   "pygments_lexer": "ipython3",
   "version": "3.9.12"
  }
 },
 "nbformat": 4,
 "nbformat_minor": 5
}
