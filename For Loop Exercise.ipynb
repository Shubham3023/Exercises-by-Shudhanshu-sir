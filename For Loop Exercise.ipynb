{
 "cells": [
  {
   "cell_type": "markdown",
   "id": "6695e938",
   "metadata": {},
   "source": [
    "q1 :\n",
    "\n",
    "ineruon \n",
    "\n",
    "ineruon ineruon\n",
    "\n",
    "ineruon ineruon ineruon\n",
    "\n",
    "ineruon ineruon ineruon ineruon"
   ]
  },
  {
   "cell_type": "code",
   "execution_count": 1,
   "id": "208b5223",
   "metadata": {},
   "outputs": [
    {
     "name": "stdout",
     "output_type": "stream",
     "text": [
      "ineuron \n",
      "\n",
      "ineuron ineuron \n",
      "\n",
      "ineuron ineuron ineuron \n",
      "\n",
      "ineuron ineuron ineuron ineuron \n",
      "\n"
     ]
    }
   ],
   "source": [
    "n=4\n",
    "for i in range(n):\n",
    "    for j in range(i+1):\n",
    "        print(\"ineuron\", end=\" \")\n",
    "    print(\"\\n\")"
   ]
  },
  {
   "cell_type": "code",
   "execution_count": 22,
   "id": "00306691",
   "metadata": {},
   "outputs": [
    {
     "data": {
      "text/plain": [
       "'\\nq2 - \\n\\n          ineruon\\n    ineruon      ineruon\\nineruon\\t\\tineruon \\tineruon\\n\\tineruon\\t\\t ineruon\\n\\t\\t  ineruon\\n'"
      ]
     },
     "execution_count": 22,
     "metadata": {},
     "output_type": "execute_result"
    }
   ],
   "source": [
    "\"\"\"\n",
    "q2 - \n",
    "\n",
    "          ineruon\n",
    "    ineruon      ineruon\n",
    "ineruon\t\tineruon \tineruon\n",
    "\tineruon\t\t ineruon\n",
    "\t\t  ineruon\n",
    "\"\"\""
   ]
  },
  {
   "cell_type": "code",
   "execution_count": 23,
   "id": "07aefa8a",
   "metadata": {},
   "outputs": [
    {
     "name": "stdout",
     "output_type": "stream",
     "text": [
      "              ineuron         \n",
      "\n",
      "       ineuron         ineuron         \n",
      "\n",
      "ineuron         ineuron         ineuron         \n",
      "\n",
      "       ineuron         ineuron         \n",
      "\n",
      "              ineuron         \n",
      "\n",
      "                     \n",
      "\n"
     ]
    }
   ],
   "source": [
    "n=3\n",
    "for i in range(3):\n",
    "    for j in range(i, n-1):\n",
    "        print(\"      \", end=\" \")\n",
    "    for j in range(i+1):\n",
    "        print(\"ineuron\", end=\"         \")\n",
    "    print(\"\\n\")\n",
    "for i in range(3):\n",
    "    for j in range(i+1):\n",
    "         print(\"      \", end=\" \")     \n",
    "    for j in range(i, n-1):\n",
    "        print(\"ineuron\", end=\"         \")  \n",
    "    print(\"\\n\")"
   ]
  },
  {
   "cell_type": "code",
   "execution_count": 24,
   "id": "0c8596a7",
   "metadata": {},
   "outputs": [],
   "source": [
    "l = [[1,2,3,4] , (2,3,4,5,6) , (3,4,5,6,7) , set([23,4,5,45,4,4,5,45,45,4,5]) , {'k1' :\"sudh\" , \"k2\" : \"ineuron\",\"k3\":\"kumar\" , 3:6 , 7:8} , [\"ineuron\" , \"data science \"]]"
   ]
  },
  {
   "cell_type": "code",
   "execution_count": 25,
   "id": "c82e8b5f",
   "metadata": {},
   "outputs": [
    {
     "data": {
      "text/plain": [
       "[[1, 2, 3, 4],\n",
       " (2, 3, 4, 5, 6),\n",
       " (3, 4, 5, 6, 7),\n",
       " {4, 5, 23, 45},\n",
       " {'k1': 'sudh', 'k2': 'ineuron', 'k3': 'kumar', 3: 6, 7: 8},\n",
       " ['ineuron', 'data science ']]"
      ]
     },
     "execution_count": 25,
     "metadata": {},
     "output_type": "execute_result"
    }
   ],
   "source": [
    "l"
   ]
  },
  {
   "cell_type": "markdown",
   "id": "adcff1d0",
   "metadata": {},
   "source": [
    "q3 : Try to extract all the list entity "
   ]
  },
  {
   "cell_type": "code",
   "execution_count": 26,
   "id": "1a14d761",
   "metadata": {},
   "outputs": [
    {
     "name": "stdout",
     "output_type": "stream",
     "text": [
      "[1, 2, 3, 4]\n",
      "['ineuron', 'data science ']\n"
     ]
    }
   ],
   "source": [
    "for i in l:\n",
    "    if type(i) == list:\n",
    "        print(i)"
   ]
  },
  {
   "cell_type": "markdown",
   "id": "ef93f25d",
   "metadata": {},
   "source": [
    "q4 : Try to extract all the dict entities"
   ]
  },
  {
   "cell_type": "code",
   "execution_count": 27,
   "id": "12855a90",
   "metadata": {},
   "outputs": [
    {
     "name": "stdout",
     "output_type": "stream",
     "text": [
      "{'k1': 'sudh', 'k2': 'ineuron', 'k3': 'kumar', 3: 6, 7: 8}\n"
     ]
    }
   ],
   "source": [
    "for i in l:\n",
    "    if type(i)== dict:\n",
    "        print(i)"
   ]
  },
  {
   "cell_type": "markdown",
   "id": "600d6469",
   "metadata": {},
   "source": [
    "q5 : Try to extract all the tuples entities"
   ]
  },
  {
   "cell_type": "code",
   "execution_count": 28,
   "id": "135d1706",
   "metadata": {},
   "outputs": [
    {
     "name": "stdout",
     "output_type": "stream",
     "text": [
      "(2, 3, 4, 5, 6)\n",
      "(3, 4, 5, 6, 7)\n"
     ]
    }
   ],
   "source": [
    "for i in l:\n",
    "    if type(i) == tuple:\n",
    "        print(i)"
   ]
  },
  {
   "cell_type": "markdown",
   "id": "f88565a3",
   "metadata": {},
   "source": [
    "q6 : Try to extract all the numerical data it may b a part of dict key and values "
   ]
  },
  {
   "cell_type": "code",
   "execution_count": 29,
   "id": "8b2bfe5a",
   "metadata": {},
   "outputs": [
    {
     "data": {
      "text/plain": [
       "[[1, 2, 3, 4],\n",
       " (2, 3, 4, 5, 6),\n",
       " (3, 4, 5, 6, 7),\n",
       " {4, 5, 23, 45},\n",
       " {'k1': 'sudh', 'k2': 'ineuron', 'k3': 'kumar', 3: 6, 7: 8},\n",
       " ['ineuron', 'data science ']]"
      ]
     },
     "execution_count": 29,
     "metadata": {},
     "output_type": "execute_result"
    }
   ],
   "source": [
    "l"
   ]
  },
  {
   "cell_type": "code",
   "execution_count": 30,
   "id": "1a441e0f",
   "metadata": {},
   "outputs": [
    {
     "name": "stdout",
     "output_type": "stream",
     "text": [
      "1\n",
      "2\n",
      "3\n",
      "4\n",
      "2\n",
      "3\n",
      "4\n",
      "5\n",
      "6\n",
      "3\n",
      "4\n",
      "5\n",
      "6\n",
      "7\n",
      "45\n",
      "4\n",
      "5\n",
      "23\n",
      "3\n",
      "6\n",
      "7\n",
      "8\n"
     ]
    }
   ],
   "source": [
    "for i in l:\n",
    "    if type(i) == list or type(i) == tuple or type(i)  == set :\n",
    "        for j in i:\n",
    "            if type(j) == int:\n",
    "                print(j)\n",
    "    if type(i) == dict:\n",
    "        for j in i:\n",
    "            if type(j) == int or type(i[j]) == int :\n",
    "                print(j)\n",
    "                print(i[j])"
   ]
  },
  {
   "cell_type": "markdown",
   "id": "dddc577a",
   "metadata": {},
   "source": [
    "q7 : Try to give summation of all the numeric data "
   ]
  },
  {
   "cell_type": "code",
   "execution_count": 31,
   "id": "9a3485dc",
   "metadata": {},
   "outputs": [
    {
     "data": {
      "text/plain": [
       "[[1, 2, 3, 4],\n",
       " (2, 3, 4, 5, 6),\n",
       " (3, 4, 5, 6, 7),\n",
       " {4, 5, 23, 45},\n",
       " {'k1': 'sudh', 'k2': 'ineuron', 'k3': 'kumar', 3: 6, 7: 8},\n",
       " ['ineuron', 'data science ']]"
      ]
     },
     "execution_count": 31,
     "metadata": {},
     "output_type": "execute_result"
    }
   ],
   "source": [
    "l"
   ]
  },
  {
   "cell_type": "code",
   "execution_count": 32,
   "id": "7b7ba8b1",
   "metadata": {},
   "outputs": [],
   "source": [
    "l2=[]"
   ]
  },
  {
   "cell_type": "code",
   "execution_count": 33,
   "id": "f5180a39",
   "metadata": {},
   "outputs": [
    {
     "name": "stdout",
     "output_type": "stream",
     "text": [
      "[1, 2, 3, 4, 2, 3, 4, 5, 6, 3, 4, 5, 6, 7, 45, 4, 5, 23, 3, 6, 7, 8]\n"
     ]
    }
   ],
   "source": [
    "\n",
    "for i in l:\n",
    "    if type(i) == list or type(i) == tuple or type(i)  == set :\n",
    "        for j in i:\n",
    "            if type(j) == int:\n",
    "               l2.append(j)\n",
    "for i in l:\n",
    "    if type(i) == dict:\n",
    "        for j in i:\n",
    "            if type(j) == int or type(i[j]) == int :\n",
    "              l2.append(j)\n",
    "              l2.append(i[j])\n",
    "print(l2)   "
   ]
  },
  {
   "cell_type": "code",
   "execution_count": 34,
   "id": "79e83c01",
   "metadata": {},
   "outputs": [
    {
     "name": "stdout",
     "output_type": "stream",
     "text": [
      "Summation of all the numeric data in list l is 156\n"
     ]
    }
   ],
   "source": [
    "total = 0\n",
    "for j in range(0, len(l2)):\n",
    "    total = total + l2[j]\n",
    "\n",
    "print(\"Summation of all the numeric data in list l is\",total)\n",
    "\n",
    "    "
   ]
  },
  {
   "cell_type": "markdown",
   "id": "67044352",
   "metadata": {},
   "source": [
    "q8 : Try to filter out all the odd values out all numeric data which is a part of a list \n",
    "\n",
    "from previous question i got list of all integers which is l2, now using that l2 list to find all odd numbers in list l"
   ]
  },
  {
   "cell_type": "code",
   "execution_count": 35,
   "id": "b65e4006",
   "metadata": {},
   "outputs": [
    {
     "name": "stdout",
     "output_type": "stream",
     "text": [
      "1\n",
      "3\n",
      "3\n",
      "5\n",
      "3\n",
      "5\n",
      "7\n",
      "45\n",
      "5\n",
      "23\n",
      "3\n",
      "7\n"
     ]
    }
   ],
   "source": [
    "for j in l2:\n",
    "    if j % 2 == 0:\n",
    "        pass\n",
    "    else:\n",
    "        print(j)"
   ]
  },
  {
   "cell_type": "markdown",
   "id": "48137436",
   "metadata": {},
   "source": [
    "q9: Try to extract \"ineruon\" out of this data"
   ]
  },
  {
   "cell_type": "code",
   "execution_count": 36,
   "id": "77ae3c4b",
   "metadata": {},
   "outputs": [
    {
     "data": {
      "text/plain": [
       "[[1, 2, 3, 4],\n",
       " (2, 3, 4, 5, 6),\n",
       " (3, 4, 5, 6, 7),\n",
       " {4, 5, 23, 45},\n",
       " {'k1': 'sudh', 'k2': 'ineuron', 'k3': 'kumar', 3: 6, 7: 8},\n",
       " ['ineuron', 'data science ']]"
      ]
     },
     "execution_count": 36,
     "metadata": {},
     "output_type": "execute_result"
    }
   ],
   "source": [
    "l"
   ]
  },
  {
   "cell_type": "code",
   "execution_count": 37,
   "id": "2735747d",
   "metadata": {},
   "outputs": [
    {
     "name": "stdout",
     "output_type": "stream",
     "text": [
      "ineuron\n",
      "ineuron\n"
     ]
    }
   ],
   "source": [
    "for i in l:\n",
    "    if type(i) == list or type(i) == tuple or type(i)== set :\n",
    "        for j in i:\n",
    "            if j== \"ineuron\":\n",
    "                print(j)\n",
    "for i in l:\n",
    "    if type(i) == dict:\n",
    "        for j,p in i.items():\n",
    "            if j == \"ineuron\" :\n",
    "                print(j)\n",
    "            if p == \"ineuron\" :\n",
    "                print(p)\n",
    "                "
   ]
  },
  {
   "cell_type": "markdown",
   "id": "de65ca76",
   "metadata": {},
   "source": [
    "q10 :Try to find out a number of occurances of all the data"
   ]
  },
  {
   "cell_type": "code",
   "execution_count": 38,
   "id": "5efe7cb7",
   "metadata": {},
   "outputs": [
    {
     "data": {
      "text/plain": [
       "[[1, 2, 3, 4],\n",
       " (2, 3, 4, 5, 6),\n",
       " (3, 4, 5, 6, 7),\n",
       " {4, 5, 23, 45},\n",
       " {'k1': 'sudh', 'k2': 'ineuron', 'k3': 'kumar', 3: 6, 7: 8},\n",
       " ['ineuron', 'data science ']]"
      ]
     },
     "execution_count": 38,
     "metadata": {},
     "output_type": "execute_result"
    }
   ],
   "source": [
    "l"
   ]
  },
  {
   "cell_type": "code",
   "execution_count": 39,
   "id": "8a19829f",
   "metadata": {},
   "outputs": [],
   "source": [
    "l3=[]"
   ]
  },
  {
   "cell_type": "code",
   "execution_count": 40,
   "id": "429da134",
   "metadata": {},
   "outputs": [
    {
     "name": "stdout",
     "output_type": "stream",
     "text": [
      "[1, 2, 3, 4, 2, 3, 4, 5, 6, 3, 4, 5, 6, 7, 45, 4, 5, 23, 'ineuron', 'data science ', 'k1', 'sudh', 'k2', 'ineuron', 'k3', 'kumar', 3, 6, 7, 8]\n"
     ]
    }
   ],
   "source": [
    "for i in l:\n",
    "    if type(i) == list or type(i) == tuple or type(i)  == set :\n",
    "        for j in i:\n",
    "               l3.append(j)\n",
    "for i in l:\n",
    "    if type(i) == dict:\n",
    "        for j in i:\n",
    "              l3.append(j)\n",
    "              l3.append(i[j])\n",
    "print(l3)   "
   ]
  },
  {
   "cell_type": "code",
   "execution_count": 41,
   "id": "fec42d8b",
   "metadata": {},
   "outputs": [
    {
     "name": "stdout",
     "output_type": "stream",
     "text": [
      "1 : 1\n",
      "2 : 2\n",
      "3 : 4\n",
      "4 : 4\n",
      "5 : 3\n",
      "6 : 3\n",
      "7 : 2\n",
      "k1 : 1\n",
      "k3 : 1\n",
      "8 : 1\n",
      "45 : 1\n",
      "sudh : 1\n",
      "k2 : 1\n",
      "kumar : 1\n",
      "data science  : 1\n",
      "23 : 1\n",
      "ineuron : 2\n"
     ]
    }
   ],
   "source": [
    "for i in set(l3):\n",
    "    print(i, \":\", l3.count(i))"
   ]
  },
  {
   "cell_type": "markdown",
   "id": "c5d6766c",
   "metadata": {},
   "source": [
    "q11 : Try to find out number of keys in dict element"
   ]
  },
  {
   "cell_type": "code",
   "execution_count": 42,
   "id": "efa27d55",
   "metadata": {},
   "outputs": [],
   "source": [
    "l4= []"
   ]
  },
  {
   "cell_type": "code",
   "execution_count": 43,
   "id": "c2fd6657",
   "metadata": {},
   "outputs": [
    {
     "name": "stdout",
     "output_type": "stream",
     "text": [
      "['k1', 'k2', 'k3', 3, 7]\n"
     ]
    }
   ],
   "source": [
    "for i in l:\n",
    "    if type(i) == dict:\n",
    "        for j in i:\n",
    "            l4.append(j)\n",
    "print(l4)"
   ]
  },
  {
   "cell_type": "code",
   "execution_count": 44,
   "id": "a13a88af",
   "metadata": {},
   "outputs": [
    {
     "name": "stdout",
     "output_type": "stream",
     "text": [
      "Number of keys in dict element is  5\n"
     ]
    }
   ],
   "source": [
    "number = len(l4)\n",
    "print(\"Number of keys in dict element is \", number)"
   ]
  },
  {
   "cell_type": "markdown",
   "id": "6323913d",
   "metadata": {},
   "source": [
    "q12 : Try to filter out all the string data\n",
    "\n",
    "using list l3 from q10, which contains all the data of list l including keys and values."
   ]
  },
  {
   "cell_type": "code",
   "execution_count": 45,
   "id": "09e942a2",
   "metadata": {},
   "outputs": [
    {
     "data": {
      "text/plain": [
       "[1,\n",
       " 2,\n",
       " 3,\n",
       " 4,\n",
       " 2,\n",
       " 3,\n",
       " 4,\n",
       " 5,\n",
       " 6,\n",
       " 3,\n",
       " 4,\n",
       " 5,\n",
       " 6,\n",
       " 7,\n",
       " 45,\n",
       " 4,\n",
       " 5,\n",
       " 23,\n",
       " 'ineuron',\n",
       " 'data science ',\n",
       " 'k1',\n",
       " 'sudh',\n",
       " 'k2',\n",
       " 'ineuron',\n",
       " 'k3',\n",
       " 'kumar',\n",
       " 3,\n",
       " 6,\n",
       " 7,\n",
       " 8]"
      ]
     },
     "execution_count": 45,
     "metadata": {},
     "output_type": "execute_result"
    }
   ],
   "source": [
    "l3"
   ]
  },
  {
   "cell_type": "code",
   "execution_count": 46,
   "id": "b649e7e3",
   "metadata": {},
   "outputs": [
    {
     "name": "stdout",
     "output_type": "stream",
     "text": [
      "ineuron\n",
      "data science \n",
      "k1\n",
      "sudh\n",
      "k2\n",
      "ineuron\n",
      "k3\n",
      "kumar\n"
     ]
    }
   ],
   "source": [
    "for i in l3:\n",
    "    if type(i) == str:\n",
    "        print(i)\n",
    "    "
   ]
  },
  {
   "cell_type": "markdown",
   "id": "77d6233a",
   "metadata": {},
   "source": [
    "q13 : Try to Find  out alphanum in data\n",
    "\n",
    "here due to limitation of isalnum to return true for both alphabet and numeric data, the desired result cannot be achieved."
   ]
  },
  {
   "cell_type": "code",
   "execution_count": 47,
   "id": "5ec4ec9c",
   "metadata": {},
   "outputs": [
    {
     "data": {
      "text/plain": [
       "[1,\n",
       " 2,\n",
       " 3,\n",
       " 4,\n",
       " 2,\n",
       " 3,\n",
       " 4,\n",
       " 5,\n",
       " 6,\n",
       " 3,\n",
       " 4,\n",
       " 5,\n",
       " 6,\n",
       " 7,\n",
       " 45,\n",
       " 4,\n",
       " 5,\n",
       " 23,\n",
       " 'ineuron',\n",
       " 'data science ',\n",
       " 'k1',\n",
       " 'sudh',\n",
       " 'k2',\n",
       " 'ineuron',\n",
       " 'k3',\n",
       " 'kumar',\n",
       " 3,\n",
       " 6,\n",
       " 7,\n",
       " 8]"
      ]
     },
     "execution_count": 47,
     "metadata": {},
     "output_type": "execute_result"
    }
   ],
   "source": [
    "l3"
   ]
  },
  {
   "cell_type": "code",
   "execution_count": 48,
   "id": "eb487ec7",
   "metadata": {},
   "outputs": [
    {
     "name": "stdout",
     "output_type": "stream",
     "text": [
      "ineuron\n",
      "k1\n",
      "sudh\n",
      "k2\n",
      "ineuron\n",
      "k3\n",
      "kumar\n"
     ]
    }
   ],
   "source": [
    "for i in l3:\n",
    "     if type(i) == str:\n",
    "        if i.isalnum():\n",
    "            print(i)"
   ]
  },
  {
   "cell_type": "markdown",
   "id": "e321c653",
   "metadata": {},
   "source": [
    "q14 : Try to find out multiplication of all numeric value in  the individual collection inside dataset\n",
    "\n",
    "from q7, i got list of all integers which is l2, now using that l2 list to find all odd numbers in list l"
   ]
  },
  {
   "cell_type": "code",
   "execution_count": 49,
   "id": "2ffaa9fb",
   "metadata": {},
   "outputs": [
    {
     "data": {
      "text/plain": [
       "[1, 2, 3, 4, 2, 3, 4, 5, 6, 3, 4, 5, 6, 7, 45, 4, 5, 23, 3, 6, 7, 8]"
      ]
     },
     "execution_count": 49,
     "metadata": {},
     "output_type": "execute_result"
    }
   ],
   "source": [
    "l2"
   ]
  },
  {
   "cell_type": "code",
   "execution_count": 50,
   "id": "00d5246f",
   "metadata": {},
   "outputs": [
    {
     "name": "stdout",
     "output_type": "stream",
     "text": [
      "multiplication of all numeric value in  the individual collection inside dataset is  908605071360000\n"
     ]
    }
   ],
   "source": [
    "product = 1\n",
    "for i in range(len(l2)):\n",
    "    product = product * l2[i]\n",
    "print(\"multiplication of all numeric value in  the individual collection inside dataset is \", product)"
   ]
  },
  {
   "cell_type": "markdown",
   "id": "0b66e61e",
   "metadata": {},
   "source": [
    "q15 : Try to unwrape all the collection inside collection and create a flat list \n",
    "\n",
    "this question is solved as a part of q10 and answer is list l3"
   ]
  },
  {
   "cell_type": "code",
   "execution_count": 51,
   "id": "85e38a34",
   "metadata": {},
   "outputs": [
    {
     "data": {
      "text/plain": [
       "[1,\n",
       " 2,\n",
       " 3,\n",
       " 4,\n",
       " 2,\n",
       " 3,\n",
       " 4,\n",
       " 5,\n",
       " 6,\n",
       " 3,\n",
       " 4,\n",
       " 5,\n",
       " 6,\n",
       " 7,\n",
       " 45,\n",
       " 4,\n",
       " 5,\n",
       " 23,\n",
       " 'ineuron',\n",
       " 'data science ',\n",
       " 'k1',\n",
       " 'sudh',\n",
       " 'k2',\n",
       " 'ineuron',\n",
       " 'k3',\n",
       " 'kumar',\n",
       " 3,\n",
       " 6,\n",
       " 7,\n",
       " 8]"
      ]
     },
     "execution_count": 51,
     "metadata": {},
     "output_type": "execute_result"
    }
   ],
   "source": [
    "l3"
   ]
  }
 ],
 "metadata": {
  "kernelspec": {
   "display_name": "Python 3 (ipykernel)",
   "language": "python",
   "name": "python3"
  },
  "language_info": {
   "codemirror_mode": {
    "name": "ipython",
    "version": 3
   },
   "file_extension": ".py",
   "mimetype": "text/x-python",
   "name": "python",
   "nbconvert_exporter": "python",
   "pygments_lexer": "ipython3",
   "version": "3.9.12"
  }
 },
 "nbformat": 4,
 "nbformat_minor": 5
}
