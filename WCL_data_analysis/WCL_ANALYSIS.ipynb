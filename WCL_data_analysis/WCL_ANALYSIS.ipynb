{
 "cells": [
  {
   "cell_type": "code",
   "execution_count": 1,
   "id": "689422d4",
   "metadata": {},
   "outputs": [],
   "source": [
    "import pandas as pd"
   ]
  },
  {
   "cell_type": "markdown",
   "id": "63b6c448",
   "metadata": {},
   "source": [
    "# Published Tenders Sheet"
   ]
  },
  {
   "cell_type": "code",
   "execution_count": 2,
   "id": "fd890c19",
   "metadata": {},
   "outputs": [],
   "source": [
    "dfpub = pd.read_excel(\"TD2222.xlsx\", sheet_name= 'pub')"
   ]
  },
  {
   "cell_type": "code",
   "execution_count": 3,
   "id": "dc2c7aff",
   "metadata": {},
   "outputs": [
    {
     "data": {
      "text/html": [
       "<div>\n",
       "<style scoped>\n",
       "    .dataframe tbody tr th:only-of-type {\n",
       "        vertical-align: middle;\n",
       "    }\n",
       "\n",
       "    .dataframe tbody tr th {\n",
       "        vertical-align: top;\n",
       "    }\n",
       "\n",
       "    .dataframe thead th {\n",
       "        text-align: right;\n",
       "    }\n",
       "</style>\n",
       "<table border=\"1\" class=\"dataframe\">\n",
       "  <thead>\n",
       "    <tr style=\"text-align: right;\">\n",
       "      <th></th>\n",
       "      <th>S No</th>\n",
       "      <th>No of Covers</th>\n",
       "      <th>Value Of Tender (In Rs)</th>\n",
       "      <th>EMD Amount (In Rs)</th>\n",
       "      <th>No of Bids Received</th>\n",
       "      <th>No of Days b/w Tech and Finance opening</th>\n",
       "      <th>Cycle Time bet. E-Publishing date and opening of price bid (in days)</th>\n",
       "    </tr>\n",
       "  </thead>\n",
       "  <tbody>\n",
       "    <tr>\n",
       "      <th>count</th>\n",
       "      <td>3134.000000</td>\n",
       "      <td>3134.000000</td>\n",
       "      <td>3.134000e+03</td>\n",
       "      <td>3.134000e+03</td>\n",
       "      <td>3134.000000</td>\n",
       "      <td>734.000000</td>\n",
       "      <td>734.000000</td>\n",
       "    </tr>\n",
       "    <tr>\n",
       "      <th>mean</th>\n",
       "      <td>1567.500000</td>\n",
       "      <td>1.287492</td>\n",
       "      <td>4.255584e+07</td>\n",
       "      <td>3.743238e+04</td>\n",
       "      <td>4.595724</td>\n",
       "      <td>27.878747</td>\n",
       "      <td>46.388283</td>\n",
       "    </tr>\n",
       "    <tr>\n",
       "      <th>std</th>\n",
       "      <td>904.852198</td>\n",
       "      <td>0.452665</td>\n",
       "      <td>6.102115e+08</td>\n",
       "      <td>4.768633e+05</td>\n",
       "      <td>3.337719</td>\n",
       "      <td>36.500504</td>\n",
       "      <td>39.309843</td>\n",
       "    </tr>\n",
       "    <tr>\n",
       "      <th>min</th>\n",
       "      <td>1.000000</td>\n",
       "      <td>1.000000</td>\n",
       "      <td>0.000000e+00</td>\n",
       "      <td>0.000000e+00</td>\n",
       "      <td>0.000000</td>\n",
       "      <td>0.000000</td>\n",
       "      <td>6.000000</td>\n",
       "    </tr>\n",
       "    <tr>\n",
       "      <th>25%</th>\n",
       "      <td>784.250000</td>\n",
       "      <td>1.000000</td>\n",
       "      <td>4.796248e+05</td>\n",
       "      <td>0.000000e+00</td>\n",
       "      <td>2.000000</td>\n",
       "      <td>1.000000</td>\n",
       "      <td>20.250000</td>\n",
       "    </tr>\n",
       "    <tr>\n",
       "      <th>50%</th>\n",
       "      <td>1567.500000</td>\n",
       "      <td>1.000000</td>\n",
       "      <td>1.138230e+06</td>\n",
       "      <td>0.000000e+00</td>\n",
       "      <td>4.000000</td>\n",
       "      <td>13.000000</td>\n",
       "      <td>32.000000</td>\n",
       "    </tr>\n",
       "    <tr>\n",
       "      <th>75%</th>\n",
       "      <td>2350.750000</td>\n",
       "      <td>2.000000</td>\n",
       "      <td>3.131816e+06</td>\n",
       "      <td>0.000000e+00</td>\n",
       "      <td>6.000000</td>\n",
       "      <td>45.000000</td>\n",
       "      <td>65.000000</td>\n",
       "    </tr>\n",
       "    <tr>\n",
       "      <th>max</th>\n",
       "      <td>3134.000000</td>\n",
       "      <td>2.000000</td>\n",
       "      <td>2.458480e+10</td>\n",
       "      <td>2.000000e+07</td>\n",
       "      <td>26.000000</td>\n",
       "      <td>258.000000</td>\n",
       "      <td>279.000000</td>\n",
       "    </tr>\n",
       "  </tbody>\n",
       "</table>\n",
       "</div>"
      ],
      "text/plain": [
       "              S No  No of Covers  Value Of Tender (In Rs)  EMD Amount (In Rs)  \\\n",
       "count  3134.000000   3134.000000             3.134000e+03        3.134000e+03   \n",
       "mean   1567.500000      1.287492             4.255584e+07        3.743238e+04   \n",
       "std     904.852198      0.452665             6.102115e+08        4.768633e+05   \n",
       "min       1.000000      1.000000             0.000000e+00        0.000000e+00   \n",
       "25%     784.250000      1.000000             4.796248e+05        0.000000e+00   \n",
       "50%    1567.500000      1.000000             1.138230e+06        0.000000e+00   \n",
       "75%    2350.750000      2.000000             3.131816e+06        0.000000e+00   \n",
       "max    3134.000000      2.000000             2.458480e+10        2.000000e+07   \n",
       "\n",
       "       No of Bids Received  No of Days b/w Tech and Finance opening  \\\n",
       "count          3134.000000                               734.000000   \n",
       "mean              4.595724                                27.878747   \n",
       "std               3.337719                                36.500504   \n",
       "min               0.000000                                 0.000000   \n",
       "25%               2.000000                                 1.000000   \n",
       "50%               4.000000                                13.000000   \n",
       "75%               6.000000                                45.000000   \n",
       "max              26.000000                               258.000000   \n",
       "\n",
       "       Cycle Time bet. E-Publishing date and opening of price bid (in days)  \n",
       "count                                         734.000000                     \n",
       "mean                                           46.388283                     \n",
       "std                                            39.309843                     \n",
       "min                                             6.000000                     \n",
       "25%                                            20.250000                     \n",
       "50%                                            32.000000                     \n",
       "75%                                            65.000000                     \n",
       "max                                           279.000000                     "
      ]
     },
     "execution_count": 3,
     "metadata": {},
     "output_type": "execute_result"
    }
   ],
   "source": [
    "dfpub.describe()"
   ]
  },
  {
   "cell_type": "code",
   "execution_count": 76,
   "id": "d7517350",
   "metadata": {},
   "outputs": [
    {
     "data": {
      "text/html": [
       "<div>\n",
       "<style scoped>\n",
       "    .dataframe tbody tr th:only-of-type {\n",
       "        vertical-align: middle;\n",
       "    }\n",
       "\n",
       "    .dataframe tbody tr th {\n",
       "        vertical-align: top;\n",
       "    }\n",
       "\n",
       "    .dataframe thead th {\n",
       "        text-align: right;\n",
       "    }\n",
       "</style>\n",
       "<table border=\"1\" class=\"dataframe\">\n",
       "  <thead>\n",
       "    <tr style=\"text-align: right;\">\n",
       "      <th></th>\n",
       "      <th>S No</th>\n",
       "      <th>Tender ID</th>\n",
       "      <th>Tender Category</th>\n",
       "      <th>Tender Type</th>\n",
       "      <th>Form of Contract</th>\n",
       "      <th>No of Covers</th>\n",
       "      <th>Value Of Tender (In Rs)</th>\n",
       "      <th>EMD Amount (In Rs)</th>\n",
       "      <th>Tender Status</th>\n",
       "      <th>Tender Stage</th>\n",
       "      <th>No of Bids Received</th>\n",
       "      <th>No of Days b/w Tech and Finance opening</th>\n",
       "      <th>Cycle Time bet. E-Publishing date and opening of price bid (in days)</th>\n",
       "      <th>Organisation Chain</th>\n",
       "    </tr>\n",
       "  </thead>\n",
       "  <tbody>\n",
       "    <tr>\n",
       "      <th>0</th>\n",
       "      <td>1</td>\n",
       "      <td>2021_WCL_203320_1</td>\n",
       "      <td>Works</td>\n",
       "      <td>Open Tender</td>\n",
       "      <td>Item Rate</td>\n",
       "      <td>1</td>\n",
       "      <td>2562665</td>\n",
       "      <td>0</td>\n",
       "      <td>Expired</td>\n",
       "      <td>AOC</td>\n",
       "      <td>6</td>\n",
       "      <td>NaN</td>\n",
       "      <td>NaN</td>\n",
       "      <td>Western Coalfields Limited||CHP||CHP_Civil</td>\n",
       "    </tr>\n",
       "    <tr>\n",
       "      <th>1</th>\n",
       "      <td>2</td>\n",
       "      <td>2021_WCL_203656_1</td>\n",
       "      <td>Goods</td>\n",
       "      <td>Single</td>\n",
       "      <td>Item Wise</td>\n",
       "      <td>2</td>\n",
       "      <td>4085000</td>\n",
       "      <td>0</td>\n",
       "      <td>Published</td>\n",
       "      <td>Financial Bid Opening</td>\n",
       "      <td>1</td>\n",
       "      <td>2.0</td>\n",
       "      <td>10.0</td>\n",
       "      <td>Western Coalfields Limited||NGP||NGP_MM</td>\n",
       "    </tr>\n",
       "    <tr>\n",
       "      <th>2</th>\n",
       "      <td>3</td>\n",
       "      <td>2021_WCL_203659_1</td>\n",
       "      <td>Goods</td>\n",
       "      <td>Single</td>\n",
       "      <td>Item Wise</td>\n",
       "      <td>2</td>\n",
       "      <td>6993000</td>\n",
       "      <td>0</td>\n",
       "      <td>Expired</td>\n",
       "      <td>AOC</td>\n",
       "      <td>1</td>\n",
       "      <td>2.0</td>\n",
       "      <td>10.0</td>\n",
       "      <td>Western Coalfields Limited||NGP||NGP_MM</td>\n",
       "    </tr>\n",
       "    <tr>\n",
       "      <th>3</th>\n",
       "      <td>4</td>\n",
       "      <td>2021_WCL_203661_1</td>\n",
       "      <td>Goods</td>\n",
       "      <td>Single</td>\n",
       "      <td>Item Wise</td>\n",
       "      <td>2</td>\n",
       "      <td>1046772</td>\n",
       "      <td>0</td>\n",
       "      <td>Expired</td>\n",
       "      <td>AOC</td>\n",
       "      <td>1</td>\n",
       "      <td>2.0</td>\n",
       "      <td>10.0</td>\n",
       "      <td>Western Coalfields Limited||NGP||NGP_MM</td>\n",
       "    </tr>\n",
       "    <tr>\n",
       "      <th>4</th>\n",
       "      <td>5</td>\n",
       "      <td>2021_WCL_203680_1</td>\n",
       "      <td>Goods</td>\n",
       "      <td>Open Limited</td>\n",
       "      <td>Item Wise</td>\n",
       "      <td>2</td>\n",
       "      <td>386500</td>\n",
       "      <td>0</td>\n",
       "      <td>Expired</td>\n",
       "      <td>AOC</td>\n",
       "      <td>16</td>\n",
       "      <td>0.0</td>\n",
       "      <td>17.0</td>\n",
       "      <td>Western Coalfields Limited||CHP||CHP_MM</td>\n",
       "    </tr>\n",
       "  </tbody>\n",
       "</table>\n",
       "</div>"
      ],
      "text/plain": [
       "   S No          Tender ID Tender Category   Tender Type Form of Contract  \\\n",
       "0     1  2021_WCL_203320_1           Works   Open Tender        Item Rate   \n",
       "1     2  2021_WCL_203656_1           Goods        Single        Item Wise   \n",
       "2     3  2021_WCL_203659_1           Goods        Single        Item Wise   \n",
       "3     4  2021_WCL_203661_1           Goods        Single        Item Wise   \n",
       "4     5  2021_WCL_203680_1           Goods  Open Limited        Item Wise   \n",
       "\n",
       "   No of Covers  Value Of Tender (In Rs)  EMD Amount (In Rs) Tender Status  \\\n",
       "0             1                  2562665                   0       Expired   \n",
       "1             2                  4085000                   0     Published   \n",
       "2             2                  6993000                   0       Expired   \n",
       "3             2                  1046772                   0       Expired   \n",
       "4             2                   386500                   0       Expired   \n",
       "\n",
       "            Tender Stage  No of Bids Received  \\\n",
       "0                    AOC                    6   \n",
       "1  Financial Bid Opening                    1   \n",
       "2                    AOC                    1   \n",
       "3                    AOC                    1   \n",
       "4                    AOC                   16   \n",
       "\n",
       "   No of Days b/w Tech and Finance opening  \\\n",
       "0                                      NaN   \n",
       "1                                      2.0   \n",
       "2                                      2.0   \n",
       "3                                      2.0   \n",
       "4                                      0.0   \n",
       "\n",
       "   Cycle Time bet. E-Publishing date and opening of price bid (in days)  \\\n",
       "0                                                NaN                      \n",
       "1                                               10.0                      \n",
       "2                                               10.0                      \n",
       "3                                               10.0                      \n",
       "4                                               17.0                      \n",
       "\n",
       "                           Organisation Chain  \n",
       "0  Western Coalfields Limited||CHP||CHP_Civil  \n",
       "1     Western Coalfields Limited||NGP||NGP_MM  \n",
       "2     Western Coalfields Limited||NGP||NGP_MM  \n",
       "3     Western Coalfields Limited||NGP||NGP_MM  \n",
       "4     Western Coalfields Limited||CHP||CHP_MM  "
      ]
     },
     "execution_count": 76,
     "metadata": {},
     "output_type": "execute_result"
    }
   ],
   "source": [
    "dfpub.head(5)"
   ]
  },
  {
   "cell_type": "code",
   "execution_count": 4,
   "id": "d90d401a",
   "metadata": {},
   "outputs": [
    {
     "data": {
      "text/plain": [
       "Tender Category  Tender Category\n",
       "Goods            Goods               407\n",
       "Services         Services            208\n",
       "Works            Works              2519\n",
       "Name: Tender Category, dtype: int64"
      ]
     },
     "execution_count": 4,
     "metadata": {},
     "output_type": "execute_result"
    }
   ],
   "source": [
    "dfpub.groupby('Tender Category')['Tender Category'].value_counts()"
   ]
  },
  {
   "cell_type": "code",
   "execution_count": 5,
   "id": "f574d9e8",
   "metadata": {},
   "outputs": [
    {
     "data": {
      "text/plain": [
       "407"
      ]
     },
     "execution_count": 5,
     "metadata": {},
     "output_type": "execute_result"
    }
   ],
   "source": [
    "len(dfpub[dfpub['Tender Category'] == 'Goods'])"
   ]
  },
  {
   "cell_type": "code",
   "execution_count": 6,
   "id": "5fc437a9",
   "metadata": {},
   "outputs": [
    {
     "data": {
      "text/plain": [
       "208"
      ]
     },
     "execution_count": 6,
     "metadata": {},
     "output_type": "execute_result"
    }
   ],
   "source": [
    "len(dfpub[dfpub['Tender Category'] == 'Services'])"
   ]
  },
  {
   "cell_type": "code",
   "execution_count": 7,
   "id": "eb5c85ba",
   "metadata": {},
   "outputs": [
    {
     "data": {
      "text/plain": [
       "2519"
      ]
     },
     "execution_count": 7,
     "metadata": {},
     "output_type": "execute_result"
    }
   ],
   "source": [
    "len(dfpub[dfpub['Tender Category'] == 'Works'])"
   ]
  },
  {
   "cell_type": "code",
   "execution_count": 8,
   "id": "44134ed1",
   "metadata": {},
   "outputs": [],
   "source": [
    "dfpubg = dfpub[dfpub['Tender Category'] == 'Goods']"
   ]
  },
  {
   "cell_type": "code",
   "execution_count": 9,
   "id": "a89306fa",
   "metadata": {},
   "outputs": [
    {
     "data": {
      "text/plain": [
       "Tender Type   Tender Type \n",
       "Open Limited  Open Limited     84\n",
       "Open Tender   Open Tender     157\n",
       "Single        Single          166\n",
       "Name: Tender Type, dtype: int64"
      ]
     },
     "execution_count": 9,
     "metadata": {},
     "output_type": "execute_result"
    }
   ],
   "source": [
    "dfpubg.groupby('Tender Type')['Tender Type'].value_counts()"
   ]
  },
  {
   "cell_type": "code",
   "execution_count": 10,
   "id": "26af0a2c",
   "metadata": {},
   "outputs": [
    {
     "data": {
      "text/plain": [
       "Form of Contract    Form of Contract  \n",
       "Item Rate           Item Rate               5\n",
       "Item Wise           Item Wise             380\n",
       "Tender cum Auction  Tender cum Auction     22\n",
       "Name: Form of Contract, dtype: int64"
      ]
     },
     "execution_count": 10,
     "metadata": {},
     "output_type": "execute_result"
    }
   ],
   "source": [
    "dfpubg.groupby('Form of Contract')['Form of Contract'].value_counts()"
   ]
  },
  {
   "cell_type": "code",
   "execution_count": 11,
   "id": "151b7f7a",
   "metadata": {},
   "outputs": [],
   "source": [
    "dfpubs = dfpub[dfpub['Tender Category'] == 'Services']"
   ]
  },
  {
   "cell_type": "code",
   "execution_count": 12,
   "id": "2924393d",
   "metadata": {},
   "outputs": [
    {
     "data": {
      "text/plain": [
       "Tender Type   Tender Type \n",
       "Limited       Limited           4\n",
       "Open Limited  Open Limited      1\n",
       "Open Tender   Open Tender     199\n",
       "Single        Single            4\n",
       "Name: Tender Type, dtype: int64"
      ]
     },
     "execution_count": 12,
     "metadata": {},
     "output_type": "execute_result"
    }
   ],
   "source": [
    "dfpubs.groupby('Tender Type')['Tender Type'].value_counts()"
   ]
  },
  {
   "cell_type": "code",
   "execution_count": 13,
   "id": "e0121565",
   "metadata": {},
   "outputs": [
    {
     "data": {
      "text/plain": [
       "Form of Contract    Form of Contract  \n",
       "EOI                 EOI                     1\n",
       "Item Rate           Item Rate              72\n",
       "Item Wise           Item Wise               5\n",
       "Percentage          Percentage            129\n",
       "Tender cum Auction  Tender cum Auction      1\n",
       "Name: Form of Contract, dtype: int64"
      ]
     },
     "execution_count": 13,
     "metadata": {},
     "output_type": "execute_result"
    }
   ],
   "source": [
    "dfpubs.groupby('Form of Contract')['Form of Contract'].value_counts()"
   ]
  },
  {
   "cell_type": "code",
   "execution_count": 14,
   "id": "86a89d60",
   "metadata": {},
   "outputs": [],
   "source": [
    "dfpubw = dfpub[dfpub['Tender Category'] == 'Works']"
   ]
  },
  {
   "cell_type": "code",
   "execution_count": 15,
   "id": "639074da",
   "metadata": {},
   "outputs": [
    {
     "data": {
      "text/plain": [
       "Tender Type  Tender Type\n",
       "Limited      Limited           3\n",
       "Open Tender  Open Tender    2512\n",
       "Single       Single            2\n",
       "Turnkey      Turnkey           2\n",
       "Name: Tender Type, dtype: int64"
      ]
     },
     "execution_count": 15,
     "metadata": {},
     "output_type": "execute_result"
    }
   ],
   "source": [
    "dfpubw.groupby('Tender Type')['Tender Type'].value_counts()"
   ]
  },
  {
   "cell_type": "code",
   "execution_count": 16,
   "id": "db2dfd47",
   "metadata": {},
   "outputs": [
    {
     "data": {
      "text/plain": [
       "Form of Contract  Form of Contract\n",
       "Fixed-rate        Fixed-rate             7\n",
       "Item Rate         Item Rate           2281\n",
       "Item Wise         Item Wise            130\n",
       "Percentage        Percentage           101\n",
       "Name: Form of Contract, dtype: int64"
      ]
     },
     "execution_count": 16,
     "metadata": {},
     "output_type": "execute_result"
    }
   ],
   "source": [
    "dfpubw.groupby('Form of Contract')['Form of Contract'].value_counts()"
   ]
  },
  {
   "cell_type": "code",
   "execution_count": 17,
   "id": "3859f198",
   "metadata": {},
   "outputs": [
    {
     "data": {
      "text/plain": [
       "Tender Category  Tender Status\n",
       "Goods            Published         256\n",
       "                 Expired            94\n",
       "                 Cancelled          53\n",
       "                 Retender            4\n",
       "Services         Expired           117\n",
       "                 Cancelled          49\n",
       "                 Published          42\n",
       "Works            Expired          1633\n",
       "                 Published         598\n",
       "                 Cancelled         282\n",
       "                 Retender            6\n",
       "Name: Tender Status, dtype: int64"
      ]
     },
     "execution_count": 17,
     "metadata": {},
     "output_type": "execute_result"
    }
   ],
   "source": [
    "dfpub.groupby('Tender Category')['Tender Status'].value_counts()"
   ]
  },
  {
   "cell_type": "code",
   "execution_count": 18,
   "id": "98e7fc7a",
   "metadata": {},
   "outputs": [],
   "source": [
    "dfretender = dfpub[dfpub['Tender Status'] == 'Retender']"
   ]
  },
  {
   "cell_type": "code",
   "execution_count": 19,
   "id": "d03f5aa0",
   "metadata": {},
   "outputs": [
    {
     "data": {
      "text/plain": [
       "Tender Category  Form of Contract  \n",
       "Goods            Item Wise             3\n",
       "                 Tender cum Auction    1\n",
       "Works            Item Rate             4\n",
       "                 Percentage            2\n",
       "Name: Form of Contract, dtype: int64"
      ]
     },
     "execution_count": 19,
     "metadata": {},
     "output_type": "execute_result"
    }
   ],
   "source": [
    "dfretender.groupby('Tender Category')['Form of Contract'].value_counts()"
   ]
  },
  {
   "cell_type": "code",
   "execution_count": 20,
   "id": "b04f0a9d",
   "metadata": {},
   "outputs": [
    {
     "data": {
      "text/plain": [
       "Tender Category  Tender Type\n",
       "Goods            Open Tender    2\n",
       "                 Single         2\n",
       "Works            Open Tender    6\n",
       "Name: Tender Type, dtype: int64"
      ]
     },
     "execution_count": 20,
     "metadata": {},
     "output_type": "execute_result"
    }
   ],
   "source": [
    "dfretender.groupby('Tender Category')['Tender Type'].value_counts()"
   ]
  },
  {
   "cell_type": "code",
   "execution_count": 21,
   "id": "3524e704",
   "metadata": {},
   "outputs": [
    {
     "data": {
      "text/plain": [
       "Tender Category  Tender Type \n",
       "Goods            Single           166\n",
       "                 Open Tender      157\n",
       "                 Open Limited      84\n",
       "Services         Open Tender      199\n",
       "                 Limited            4\n",
       "                 Single             4\n",
       "                 Open Limited       1\n",
       "Works            Open Tender     2512\n",
       "                 Limited            3\n",
       "                 Single             2\n",
       "                 Turnkey            2\n",
       "Name: Tender Type, dtype: int64"
      ]
     },
     "execution_count": 21,
     "metadata": {},
     "output_type": "execute_result"
    }
   ],
   "source": [
    "dfpub.groupby('Tender Category')['Tender Type'].value_counts()"
   ]
  },
  {
   "cell_type": "code",
   "execution_count": 22,
   "id": "fce82ef9",
   "metadata": {},
   "outputs": [
    {
     "data": {
      "text/plain": [
       "Tender Category  Form of Contract  \n",
       "Goods            Item Wise              380\n",
       "                 Tender cum Auction      22\n",
       "                 Item Rate                5\n",
       "Services         Percentage             129\n",
       "                 Item Rate               72\n",
       "                 Item Wise                5\n",
       "                 EOI                      1\n",
       "                 Tender cum Auction       1\n",
       "Works            Item Rate             2281\n",
       "                 Item Wise              130\n",
       "                 Percentage             101\n",
       "                 Fixed-rate               7\n",
       "Name: Form of Contract, dtype: int64"
      ]
     },
     "execution_count": 22,
     "metadata": {},
     "output_type": "execute_result"
    }
   ],
   "source": [
    "dfpub.groupby('Tender Category')['Form of Contract'].value_counts()"
   ]
  },
  {
   "cell_type": "code",
   "execution_count": 23,
   "id": "2fb1bec4",
   "metadata": {},
   "outputs": [
    {
     "data": {
      "text/plain": [
       "Tender Category  Tender Status\n",
       "Goods            Published         256\n",
       "                 Expired            94\n",
       "                 Cancelled          53\n",
       "                 Retender            4\n",
       "Services         Expired           117\n",
       "                 Cancelled          49\n",
       "                 Published          42\n",
       "Works            Expired          1633\n",
       "                 Published         598\n",
       "                 Cancelled         282\n",
       "                 Retender            6\n",
       "Name: Tender Status, dtype: int64"
      ]
     },
     "execution_count": 23,
     "metadata": {},
     "output_type": "execute_result"
    }
   ],
   "source": [
    "dfpub.groupby('Tender Category')['Tender Status'].value_counts()"
   ]
  },
  {
   "cell_type": "code",
   "execution_count": 24,
   "id": "3f44f150",
   "metadata": {},
   "outputs": [],
   "source": [
    "dfcancelled = dfpub[dfpub['Tender Status'] == 'Cancelled']"
   ]
  },
  {
   "cell_type": "code",
   "execution_count": 25,
   "id": "33f7a94a",
   "metadata": {},
   "outputs": [
    {
     "data": {
      "text/plain": [
       "Tender Category  Form of Contract  \n",
       "Goods            Item Wise              50\n",
       "                 Tender cum Auction      3\n",
       "Services         Percentage             30\n",
       "                 Item Rate              16\n",
       "                 Item Wise               2\n",
       "                 Tender cum Auction      1\n",
       "Works            Item Rate             258\n",
       "                 Item Wise              17\n",
       "                 Percentage              7\n",
       "Name: Form of Contract, dtype: int64"
      ]
     },
     "execution_count": 25,
     "metadata": {},
     "output_type": "execute_result"
    }
   ],
   "source": [
    "dfcancelled.groupby('Tender Category')['Form of Contract'].value_counts()"
   ]
  },
  {
   "cell_type": "code",
   "execution_count": 26,
   "id": "5d6ebe61",
   "metadata": {},
   "outputs": [
    {
     "data": {
      "text/plain": [
       "Tender Category  Tender Type \n",
       "Goods            Open Tender      32\n",
       "                 Single           12\n",
       "                 Open Limited      9\n",
       "Services         Open Tender      46\n",
       "                 Limited           2\n",
       "                 Open Limited      1\n",
       "Works            Open Tender     281\n",
       "                 Turnkey           1\n",
       "Name: Tender Type, dtype: int64"
      ]
     },
     "execution_count": 26,
     "metadata": {},
     "output_type": "execute_result"
    }
   ],
   "source": [
    "dfcancelled.groupby('Tender Category')['Tender Type'].value_counts()"
   ]
  },
  {
   "cell_type": "code",
   "execution_count": 27,
   "id": "d3b26c7c",
   "metadata": {},
   "outputs": [],
   "source": [
    "#dfcanc_goods = dfcancelled[dfcancelled['Tender Category'] == 'Goods'] not needed solved using above two lines"
   ]
  },
  {
   "cell_type": "markdown",
   "id": "750503b3",
   "metadata": {},
   "source": [
    "# Tenders in Progress"
   ]
  },
  {
   "cell_type": "code",
   "execution_count": 28,
   "id": "da1390fa",
   "metadata": {},
   "outputs": [],
   "source": [
    "dfprog = pd.read_excel(\"TD2222.xlsx\", sheet_name= 'inprog')"
   ]
  },
  {
   "cell_type": "code",
   "execution_count": 78,
   "id": "722e00d1",
   "metadata": {},
   "outputs": [
    {
     "data": {
      "text/html": [
       "<div>\n",
       "<style scoped>\n",
       "    .dataframe tbody tr th:only-of-type {\n",
       "        vertical-align: middle;\n",
       "    }\n",
       "\n",
       "    .dataframe tbody tr th {\n",
       "        vertical-align: top;\n",
       "    }\n",
       "\n",
       "    .dataframe thead th {\n",
       "        text-align: right;\n",
       "    }\n",
       "</style>\n",
       "<table border=\"1\" class=\"dataframe\">\n",
       "  <thead>\n",
       "    <tr style=\"text-align: right;\">\n",
       "      <th></th>\n",
       "      <th>S No</th>\n",
       "      <th>Tender ID</th>\n",
       "      <th>Tender Category</th>\n",
       "      <th>Tender Type</th>\n",
       "      <th>Form of Contract</th>\n",
       "      <th>No of Covers</th>\n",
       "      <th>Value Of Tender (In Rs)</th>\n",
       "      <th>Tender Stage</th>\n",
       "      <th>No of Bids Received</th>\n",
       "      <th>No of Days b/w Tech and Finance opening</th>\n",
       "      <th>Cycle Time bet. E-Publishing date and opening of price bid (in days)</th>\n",
       "      <th>Organisation Chain</th>\n",
       "    </tr>\n",
       "  </thead>\n",
       "  <tbody>\n",
       "    <tr>\n",
       "      <th>0</th>\n",
       "      <td>1</td>\n",
       "      <td>2021_WCL_203656_1</td>\n",
       "      <td>Goods</td>\n",
       "      <td>Single</td>\n",
       "      <td>Item Wise</td>\n",
       "      <td>2</td>\n",
       "      <td>4085000</td>\n",
       "      <td>Financial Bid Opening</td>\n",
       "      <td>1</td>\n",
       "      <td>2.0</td>\n",
       "      <td>10.0</td>\n",
       "      <td>Western Coalfields Limited||NGP||NGP_MM</td>\n",
       "    </tr>\n",
       "    <tr>\n",
       "      <th>1</th>\n",
       "      <td>2</td>\n",
       "      <td>2021_WCL_203682_1</td>\n",
       "      <td>Goods</td>\n",
       "      <td>Open Limited</td>\n",
       "      <td>Item Wise</td>\n",
       "      <td>2</td>\n",
       "      <td>577450</td>\n",
       "      <td>Financial Bid Opening</td>\n",
       "      <td>2</td>\n",
       "      <td>0.0</td>\n",
       "      <td>21.0</td>\n",
       "      <td>Western Coalfields Limited||CHP||CHP_MM</td>\n",
       "    </tr>\n",
       "    <tr>\n",
       "      <th>2</th>\n",
       "      <td>3</td>\n",
       "      <td>2021_WCL_203685_1</td>\n",
       "      <td>Goods</td>\n",
       "      <td>Open Tender</td>\n",
       "      <td>Item Wise</td>\n",
       "      <td>2</td>\n",
       "      <td>827888</td>\n",
       "      <td>Financial Bid Opening</td>\n",
       "      <td>8</td>\n",
       "      <td>0.0</td>\n",
       "      <td>17.0</td>\n",
       "      <td>Western Coalfields Limited||CHP||CHP_MM</td>\n",
       "    </tr>\n",
       "    <tr>\n",
       "      <th>3</th>\n",
       "      <td>4</td>\n",
       "      <td>2021_WCL_203675_1</td>\n",
       "      <td>Works</td>\n",
       "      <td>Open Tender</td>\n",
       "      <td>Item Rate</td>\n",
       "      <td>1</td>\n",
       "      <td>257240</td>\n",
       "      <td>Evaluation</td>\n",
       "      <td>4</td>\n",
       "      <td>NaN</td>\n",
       "      <td>NaN</td>\n",
       "      <td>Western Coalfields Limited||CHP||CHP_E and M</td>\n",
       "    </tr>\n",
       "    <tr>\n",
       "      <th>4</th>\n",
       "      <td>5</td>\n",
       "      <td>2021_WCL_203686_1</td>\n",
       "      <td>Works</td>\n",
       "      <td>Open Tender</td>\n",
       "      <td>Item Wise</td>\n",
       "      <td>2</td>\n",
       "      <td>17119944</td>\n",
       "      <td>Technical Evaluation</td>\n",
       "      <td>3</td>\n",
       "      <td>79.0</td>\n",
       "      <td>99.0</td>\n",
       "      <td>Western Coalfields Limited||Wani N||Wani N_E a...</td>\n",
       "    </tr>\n",
       "  </tbody>\n",
       "</table>\n",
       "</div>"
      ],
      "text/plain": [
       "   S No          Tender ID Tender Category   Tender Type Form of Contract  \\\n",
       "0     1  2021_WCL_203656_1           Goods        Single        Item Wise   \n",
       "1     2  2021_WCL_203682_1           Goods  Open Limited        Item Wise   \n",
       "2     3  2021_WCL_203685_1           Goods   Open Tender        Item Wise   \n",
       "3     4  2021_WCL_203675_1           Works   Open Tender        Item Rate   \n",
       "4     5  2021_WCL_203686_1           Works   Open Tender        Item Wise   \n",
       "\n",
       "   No of Covers  Value Of Tender (In Rs)           Tender Stage  \\\n",
       "0             2                  4085000  Financial Bid Opening   \n",
       "1             2                   577450  Financial Bid Opening   \n",
       "2             2                   827888  Financial Bid Opening   \n",
       "3             1                   257240             Evaluation   \n",
       "4             2                 17119944   Technical Evaluation   \n",
       "\n",
       "   No of Bids Received  No of Days b/w Tech and Finance opening  \\\n",
       "0                    1                                      2.0   \n",
       "1                    2                                      0.0   \n",
       "2                    8                                      0.0   \n",
       "3                    4                                      NaN   \n",
       "4                    3                                     79.0   \n",
       "\n",
       "   Cycle Time bet. E-Publishing date and opening of price bid (in days)  \\\n",
       "0                                               10.0                      \n",
       "1                                               21.0                      \n",
       "2                                               17.0                      \n",
       "3                                                NaN                      \n",
       "4                                               99.0                      \n",
       "\n",
       "                                  Organisation Chain  \n",
       "0            Western Coalfields Limited||NGP||NGP_MM  \n",
       "1            Western Coalfields Limited||CHP||CHP_MM  \n",
       "2            Western Coalfields Limited||CHP||CHP_MM  \n",
       "3       Western Coalfields Limited||CHP||CHP_E and M  \n",
       "4  Western Coalfields Limited||Wani N||Wani N_E a...  "
      ]
     },
     "execution_count": 78,
     "metadata": {},
     "output_type": "execute_result"
    }
   ],
   "source": [
    "dfprog.head()"
   ]
  },
  {
   "cell_type": "code",
   "execution_count": 30,
   "id": "17f72d1c",
   "metadata": {},
   "outputs": [
    {
     "data": {
      "text/plain": [
       "Tender Category  Tender Category\n",
       "Goods            Goods              206\n",
       "Services         Services            35\n",
       "Works            Works              565\n",
       "Name: Tender Category, dtype: int64"
      ]
     },
     "execution_count": 30,
     "metadata": {},
     "output_type": "execute_result"
    }
   ],
   "source": [
    "dfprog.groupby('Tender Category')['Tender Category'].value_counts()"
   ]
  },
  {
   "cell_type": "code",
   "execution_count": 31,
   "id": "0800d113",
   "metadata": {},
   "outputs": [
    {
     "data": {
      "text/plain": [
       "Tender Category  Form of Contract  \n",
       "Goods            Item Wise             199\n",
       "                 Tender cum Auction      5\n",
       "                 Item Rate               2\n",
       "Services         Item Rate              29\n",
       "                 Percentage              5\n",
       "                 EOI                     1\n",
       "Works            Item Rate             468\n",
       "                 Item Wise              78\n",
       "                 Percentage             19\n",
       "Name: Form of Contract, dtype: int64"
      ]
     },
     "execution_count": 31,
     "metadata": {},
     "output_type": "execute_result"
    }
   ],
   "source": [
    "dfprog.groupby('Tender Category')['Form of Contract'].value_counts()"
   ]
  },
  {
   "cell_type": "code",
   "execution_count": 32,
   "id": "6dcb62e0",
   "metadata": {},
   "outputs": [
    {
     "data": {
      "text/plain": [
       "Tender Category  Tender Type \n",
       "Goods            Single           84\n",
       "                 Open Tender      63\n",
       "                 Open Limited     59\n",
       "Services         Open Tender      32\n",
       "                 Single            3\n",
       "Works            Open Tender     562\n",
       "                 Single            2\n",
       "                 Limited           1\n",
       "Name: Tender Type, dtype: int64"
      ]
     },
     "execution_count": 32,
     "metadata": {},
     "output_type": "execute_result"
    }
   ],
   "source": [
    "dfprog.groupby('Tender Category')['Tender Type'].value_counts()"
   ]
  },
  {
   "cell_type": "markdown",
   "id": "77848181",
   "metadata": {},
   "source": [
    "# Awarded tenders"
   ]
  },
  {
   "cell_type": "code",
   "execution_count": 33,
   "id": "3cb6ef1e",
   "metadata": {},
   "outputs": [],
   "source": [
    "dfaward = pd.read_excel('TD2222.xlsx', sheet_name= 'AOC')"
   ]
  },
  {
   "cell_type": "code",
   "execution_count": 79,
   "id": "ff5eb9a9",
   "metadata": {},
   "outputs": [
    {
     "data": {
      "text/html": [
       "<div>\n",
       "<style scoped>\n",
       "    .dataframe tbody tr th:only-of-type {\n",
       "        vertical-align: middle;\n",
       "    }\n",
       "\n",
       "    .dataframe tbody tr th {\n",
       "        vertical-align: top;\n",
       "    }\n",
       "\n",
       "    .dataframe thead th {\n",
       "        text-align: right;\n",
       "    }\n",
       "</style>\n",
       "<table border=\"1\" class=\"dataframe\">\n",
       "  <thead>\n",
       "    <tr style=\"text-align: right;\">\n",
       "      <th></th>\n",
       "      <th>S No</th>\n",
       "      <th>Tender ID</th>\n",
       "      <th>Tender Category</th>\n",
       "      <th>Tender Type</th>\n",
       "      <th>Form of contract</th>\n",
       "      <th>No of Covers</th>\n",
       "      <th>Value Of Tender (In Rs)</th>\n",
       "      <th>Tender Stage</th>\n",
       "      <th>No of Bids Received</th>\n",
       "      <th>Awarded Bidders</th>\n",
       "      <th>Price Bid Opening Date</th>\n",
       "      <th>Date of Award Of Contract</th>\n",
       "      <th>Awarded Price (In Rs)</th>\n",
       "      <th>Diff bet. Est Value &amp; L1 (In Rs)</th>\n",
       "      <th>Work Completion Period (in days)</th>\n",
       "      <th>Organisation Chain</th>\n",
       "    </tr>\n",
       "  </thead>\n",
       "  <tbody>\n",
       "    <tr>\n",
       "      <th>0</th>\n",
       "      <td>1</td>\n",
       "      <td>2021_WCL_203320_1</td>\n",
       "      <td>Works</td>\n",
       "      <td>Open Tender</td>\n",
       "      <td>Item Rate</td>\n",
       "      <td>1</td>\n",
       "      <td>2562665</td>\n",
       "      <td>AOC</td>\n",
       "      <td>6</td>\n",
       "      <td>1</td>\n",
       "      <td>NaN</td>\n",
       "      <td>03-Jun-2021</td>\n",
       "      <td>1425617.0</td>\n",
       "      <td>1137048.0</td>\n",
       "      <td>365</td>\n",
       "      <td>Western Coalfields Limited||CHP||CHP_Civil</td>\n",
       "    </tr>\n",
       "    <tr>\n",
       "      <th>1</th>\n",
       "      <td>2</td>\n",
       "      <td>2021_WCL_203659_1</td>\n",
       "      <td>Goods</td>\n",
       "      <td>Single</td>\n",
       "      <td>Item Wise</td>\n",
       "      <td>2</td>\n",
       "      <td>6993000</td>\n",
       "      <td>AOC</td>\n",
       "      <td>1</td>\n",
       "      <td>1</td>\n",
       "      <td>12-Apr-2021 10:43 AM</td>\n",
       "      <td>04-Jun-2021</td>\n",
       "      <td>6993000.0</td>\n",
       "      <td>0.0</td>\n",
       "      <td>120</td>\n",
       "      <td>Western Coalfields Limited||NGP||NGP_MM</td>\n",
       "    </tr>\n",
       "    <tr>\n",
       "      <th>2</th>\n",
       "      <td>3</td>\n",
       "      <td>2021_WCL_203661_1</td>\n",
       "      <td>Goods</td>\n",
       "      <td>Single</td>\n",
       "      <td>Item Wise</td>\n",
       "      <td>2</td>\n",
       "      <td>1046772</td>\n",
       "      <td>AOC</td>\n",
       "      <td>1</td>\n",
       "      <td>1</td>\n",
       "      <td>12-Apr-2021 10:44 AM</td>\n",
       "      <td>05-Jun-2021</td>\n",
       "      <td>1046772.0</td>\n",
       "      <td>0.0</td>\n",
       "      <td>120</td>\n",
       "      <td>Western Coalfields Limited||NGP||NGP_MM</td>\n",
       "    </tr>\n",
       "    <tr>\n",
       "      <th>3</th>\n",
       "      <td>4</td>\n",
       "      <td>2021_WCL_203680_1</td>\n",
       "      <td>Goods</td>\n",
       "      <td>Open Limited</td>\n",
       "      <td>Item Wise</td>\n",
       "      <td>2</td>\n",
       "      <td>386500</td>\n",
       "      <td>AOC</td>\n",
       "      <td>16</td>\n",
       "      <td>1</td>\n",
       "      <td>19-Apr-2021 04:36 PM</td>\n",
       "      <td>12-Dec-2021</td>\n",
       "      <td>486160.0</td>\n",
       "      <td>-99660.0</td>\n",
       "      <td>60</td>\n",
       "      <td>Western Coalfields Limited||CHP||CHP_MM</td>\n",
       "    </tr>\n",
       "    <tr>\n",
       "      <th>4</th>\n",
       "      <td>5</td>\n",
       "      <td>2021_WCL_203689_1</td>\n",
       "      <td>Goods</td>\n",
       "      <td>Single</td>\n",
       "      <td>Item Wise</td>\n",
       "      <td>2</td>\n",
       "      <td>503000</td>\n",
       "      <td>AOC</td>\n",
       "      <td>1</td>\n",
       "      <td>1</td>\n",
       "      <td>12-Apr-2021 10:44 AM</td>\n",
       "      <td>02-Jun-2021</td>\n",
       "      <td>503000.0</td>\n",
       "      <td>0.0</td>\n",
       "      <td>120</td>\n",
       "      <td>Western Coalfields Limited||NGP||NGP_MM</td>\n",
       "    </tr>\n",
       "  </tbody>\n",
       "</table>\n",
       "</div>"
      ],
      "text/plain": [
       "   S No          Tender ID Tender Category   Tender Type Form of contract  \\\n",
       "0     1  2021_WCL_203320_1           Works   Open Tender        Item Rate   \n",
       "1     2  2021_WCL_203659_1           Goods        Single        Item Wise   \n",
       "2     3  2021_WCL_203661_1           Goods        Single        Item Wise   \n",
       "3     4  2021_WCL_203680_1           Goods  Open Limited        Item Wise   \n",
       "4     5  2021_WCL_203689_1           Goods        Single        Item Wise   \n",
       "\n",
       "   No of Covers  Value Of Tender (In Rs) Tender Stage  No of Bids Received  \\\n",
       "0             1                  2562665          AOC                    6   \n",
       "1             2                  6993000          AOC                    1   \n",
       "2             2                  1046772          AOC                    1   \n",
       "3             2                   386500          AOC                   16   \n",
       "4             2                   503000          AOC                    1   \n",
       "\n",
       "   Awarded Bidders Price Bid Opening Date Date of Award Of Contract  \\\n",
       "0                1                    NaN               03-Jun-2021   \n",
       "1                1   12-Apr-2021 10:43 AM               04-Jun-2021   \n",
       "2                1   12-Apr-2021 10:44 AM               05-Jun-2021   \n",
       "3                1   19-Apr-2021 04:36 PM               12-Dec-2021   \n",
       "4                1   12-Apr-2021 10:44 AM               02-Jun-2021   \n",
       "\n",
       "   Awarded Price (In Rs)  Diff bet. Est Value & L1 (In Rs)  \\\n",
       "0              1425617.0                         1137048.0   \n",
       "1              6993000.0                               0.0   \n",
       "2              1046772.0                               0.0   \n",
       "3               486160.0                          -99660.0   \n",
       "4               503000.0                               0.0   \n",
       "\n",
       "   Work Completion Period (in days)  \\\n",
       "0                               365   \n",
       "1                               120   \n",
       "2                               120   \n",
       "3                                60   \n",
       "4                               120   \n",
       "\n",
       "                           Organisation Chain  \n",
       "0  Western Coalfields Limited||CHP||CHP_Civil  \n",
       "1     Western Coalfields Limited||NGP||NGP_MM  \n",
       "2     Western Coalfields Limited||NGP||NGP_MM  \n",
       "3     Western Coalfields Limited||CHP||CHP_MM  \n",
       "4     Western Coalfields Limited||NGP||NGP_MM  "
      ]
     },
     "execution_count": 79,
     "metadata": {},
     "output_type": "execute_result"
    }
   ],
   "source": [
    "dfaward.head()"
   ]
  },
  {
   "cell_type": "code",
   "execution_count": 35,
   "id": "6f414990",
   "metadata": {},
   "outputs": [
    {
     "data": {
      "text/plain": [
       "Tender Category  Tender Category\n",
       "Goods            Goods                94\n",
       "Services         Services            117\n",
       "Works            Works              1633\n",
       "Name: Tender Category, dtype: int64"
      ]
     },
     "execution_count": 35,
     "metadata": {},
     "output_type": "execute_result"
    }
   ],
   "source": [
    "dfaward.groupby('Tender Category')['Tender Category'].value_counts()"
   ]
  },
  {
   "cell_type": "code",
   "execution_count": 36,
   "id": "a87d6039",
   "metadata": {},
   "outputs": [
    {
     "data": {
      "text/plain": [
       "Tender Category  Tender Type \n",
       "Goods            Single            49\n",
       "                 Open Tender       36\n",
       "                 Open Limited       9\n",
       "Services         Open Tender      115\n",
       "                 Limited            2\n",
       "Works            Open Tender     1630\n",
       "                 Limited            2\n",
       "                 Turnkey            1\n",
       "Name: Tender Type, dtype: int64"
      ]
     },
     "execution_count": 36,
     "metadata": {},
     "output_type": "execute_result"
    }
   ],
   "source": [
    "dfaward.groupby('Tender Category')['Tender Type'].value_counts()"
   ]
  },
  {
   "cell_type": "code",
   "execution_count": 37,
   "id": "162eb4a7",
   "metadata": {},
   "outputs": [
    {
     "data": {
      "text/plain": [
       "Tender Category  Form of contract  \n",
       "Goods            Item Wise               79\n",
       "                 Tender cum Auction      12\n",
       "                 Item Rate                3\n",
       "Services         Percentage              94\n",
       "                 Item Rate               20\n",
       "                 Item Wise                3\n",
       "Works            Item Rate             1519\n",
       "                 Percentage              72\n",
       "                 Item Wise               35\n",
       "                 Fixed-rate               7\n",
       "Name: Form of contract, dtype: int64"
      ]
     },
     "execution_count": 37,
     "metadata": {},
     "output_type": "execute_result"
    }
   ],
   "source": [
    "dfaward.groupby('Tender Category')['Form of contract'].value_counts()"
   ]
  },
  {
   "cell_type": "markdown",
   "id": "2b1df595",
   "metadata": {},
   "source": [
    "# No response"
   ]
  },
  {
   "cell_type": "code",
   "execution_count": 38,
   "id": "c371aa25",
   "metadata": {},
   "outputs": [],
   "source": [
    "dfnr = pd.read_excel('TD2222.xlsx', sheet_name= 'noresponsse')"
   ]
  },
  {
   "cell_type": "code",
   "execution_count": 80,
   "id": "b16f58cf",
   "metadata": {},
   "outputs": [
    {
     "data": {
      "text/html": [
       "<div>\n",
       "<style scoped>\n",
       "    .dataframe tbody tr th:only-of-type {\n",
       "        vertical-align: middle;\n",
       "    }\n",
       "\n",
       "    .dataframe tbody tr th {\n",
       "        vertical-align: top;\n",
       "    }\n",
       "\n",
       "    .dataframe thead th {\n",
       "        text-align: right;\n",
       "    }\n",
       "</style>\n",
       "<table border=\"1\" class=\"dataframe\">\n",
       "  <thead>\n",
       "    <tr style=\"text-align: right;\">\n",
       "      <th></th>\n",
       "      <th>S No</th>\n",
       "      <th>Tender ID</th>\n",
       "      <th>Tender Category</th>\n",
       "      <th>Tender Type</th>\n",
       "      <th>Form of contract</th>\n",
       "      <th>Value Of Tender (In Rs</th>\n",
       "      <th>Tender Status</th>\n",
       "      <th>Reason for Cancel/Retender</th>\n",
       "      <th>No. of Corrigendums Issued</th>\n",
       "      <th>Tender Stage</th>\n",
       "      <th>Bid Opening Date</th>\n",
       "      <th>Organisation Chain</th>\n",
       "    </tr>\n",
       "  </thead>\n",
       "  <tbody>\n",
       "    <tr>\n",
       "      <th>0</th>\n",
       "      <td>1</td>\n",
       "      <td>2021_WCL_203731_1</td>\n",
       "      <td>Goods</td>\n",
       "      <td>Open Tender</td>\n",
       "      <td>Item Wise</td>\n",
       "      <td>331500</td>\n",
       "      <td>Published</td>\n",
       "      <td>NaN</td>\n",
       "      <td>1</td>\n",
       "      <td>To be Opened</td>\n",
       "      <td>28-Apr-2021 04:00 PM</td>\n",
       "      <td>Western Coalfields Limited||Pench||Pench_MM</td>\n",
       "    </tr>\n",
       "    <tr>\n",
       "      <th>1</th>\n",
       "      <td>2</td>\n",
       "      <td>2021_WCL_203856_1</td>\n",
       "      <td>Goods</td>\n",
       "      <td>Single</td>\n",
       "      <td>Item Wise</td>\n",
       "      <td>976338</td>\n",
       "      <td>Published</td>\n",
       "      <td>NaN</td>\n",
       "      <td>1</td>\n",
       "      <td>To be Opened</td>\n",
       "      <td>18-Apr-2021 11:00 AM</td>\n",
       "      <td>Western Coalfields Limited||Wani N||Wani N_MM</td>\n",
       "    </tr>\n",
       "    <tr>\n",
       "      <th>2</th>\n",
       "      <td>3</td>\n",
       "      <td>2021_WCL_203884_1</td>\n",
       "      <td>Goods</td>\n",
       "      <td>Single</td>\n",
       "      <td>Item Wise</td>\n",
       "      <td>155232</td>\n",
       "      <td>Published</td>\n",
       "      <td>NaN</td>\n",
       "      <td>1</td>\n",
       "      <td>To be Opened</td>\n",
       "      <td>17-Apr-2021 04:00 PM</td>\n",
       "      <td>Western Coalfields Limited||CHP||CHP_MM</td>\n",
       "    </tr>\n",
       "    <tr>\n",
       "      <th>3</th>\n",
       "      <td>4</td>\n",
       "      <td>2021_WCL_203966_1</td>\n",
       "      <td>Goods</td>\n",
       "      <td>Open Limited</td>\n",
       "      <td>Item Wise</td>\n",
       "      <td>59472</td>\n",
       "      <td>Published</td>\n",
       "      <td>NaN</td>\n",
       "      <td>1</td>\n",
       "      <td>To be Opened</td>\n",
       "      <td>04-May-2021 11:00 AM</td>\n",
       "      <td>Western Coalfields Limited||UMR||UMR_MM</td>\n",
       "    </tr>\n",
       "    <tr>\n",
       "      <th>4</th>\n",
       "      <td>5</td>\n",
       "      <td>2021_WCL_203932_1</td>\n",
       "      <td>Goods</td>\n",
       "      <td>Open Limited</td>\n",
       "      <td>Tender cum Auction</td>\n",
       "      <td>88736467</td>\n",
       "      <td>Published</td>\n",
       "      <td>NaN</td>\n",
       "      <td>1</td>\n",
       "      <td>To be Opened</td>\n",
       "      <td>17-May-2021 11:00 AM</td>\n",
       "      <td>Western Coalfields Limited||WCL_CRITICAL TENDERS</td>\n",
       "    </tr>\n",
       "  </tbody>\n",
       "</table>\n",
       "</div>"
      ],
      "text/plain": [
       "   S No          Tender ID Tender Category   Tender Type    Form of contract  \\\n",
       "0     1  2021_WCL_203731_1           Goods   Open Tender           Item Wise   \n",
       "1     2  2021_WCL_203856_1           Goods        Single           Item Wise   \n",
       "2     3  2021_WCL_203884_1           Goods        Single           Item Wise   \n",
       "3     4  2021_WCL_203966_1           Goods  Open Limited           Item Wise   \n",
       "4     5  2021_WCL_203932_1           Goods  Open Limited  Tender cum Auction   \n",
       "\n",
       "   Value Of Tender (In Rs Tender Status  Reason for Cancel/Retender  \\\n",
       "0                  331500     Published                         NaN   \n",
       "1                  976338     Published                         NaN   \n",
       "2                  155232     Published                         NaN   \n",
       "3                   59472     Published                         NaN   \n",
       "4                88736467     Published                         NaN   \n",
       "\n",
       "   No. of Corrigendums Issued  Tender Stage      Bid Opening Date  \\\n",
       "0                           1  To be Opened  28-Apr-2021 04:00 PM   \n",
       "1                           1  To be Opened  18-Apr-2021 11:00 AM   \n",
       "2                           1  To be Opened  17-Apr-2021 04:00 PM   \n",
       "3                           1  To be Opened  04-May-2021 11:00 AM   \n",
       "4                           1  To be Opened  17-May-2021 11:00 AM   \n",
       "\n",
       "                                 Organisation Chain  \n",
       "0       Western Coalfields Limited||Pench||Pench_MM  \n",
       "1     Western Coalfields Limited||Wani N||Wani N_MM  \n",
       "2           Western Coalfields Limited||CHP||CHP_MM  \n",
       "3           Western Coalfields Limited||UMR||UMR_MM  \n",
       "4  Western Coalfields Limited||WCL_CRITICAL TENDERS  "
      ]
     },
     "execution_count": 80,
     "metadata": {},
     "output_type": "execute_result"
    }
   ],
   "source": [
    "dfnr.head()"
   ]
  },
  {
   "cell_type": "code",
   "execution_count": 40,
   "id": "6df1237a",
   "metadata": {},
   "outputs": [
    {
     "data": {
      "text/plain": [
       "Tender Category  Tender Category\n",
       "Goods            Goods              48\n",
       "Works            Works              18\n",
       "Name: Tender Category, dtype: int64"
      ]
     },
     "execution_count": 40,
     "metadata": {},
     "output_type": "execute_result"
    }
   ],
   "source": [
    "dfnr.groupby('Tender Category')['Tender Category'].value_counts()"
   ]
  },
  {
   "cell_type": "code",
   "execution_count": 41,
   "id": "601d76a5",
   "metadata": {},
   "outputs": [
    {
     "data": {
      "text/plain": [
       "Tender Category  Form of contract  \n",
       "Goods            Item Wise             47\n",
       "                 Tender cum Auction     1\n",
       "Works            Item Rate             15\n",
       "                 Item Wise              2\n",
       "                 Percentage             1\n",
       "Name: Form of contract, dtype: int64"
      ]
     },
     "execution_count": 41,
     "metadata": {},
     "output_type": "execute_result"
    }
   ],
   "source": [
    "dfnr.groupby('Tender Category')['Form of contract'].value_counts()"
   ]
  },
  {
   "cell_type": "code",
   "execution_count": 42,
   "id": "af74836b",
   "metadata": {},
   "outputs": [
    {
     "data": {
      "text/plain": [
       "Tender Category  Tender Type \n",
       "Goods            Open Tender     22\n",
       "                 Single          19\n",
       "                 Open Limited     7\n",
       "Works            Open Tender     17\n",
       "                 Single           1\n",
       "Name: Tender Type, dtype: int64"
      ]
     },
     "execution_count": 42,
     "metadata": {},
     "output_type": "execute_result"
    }
   ],
   "source": [
    "dfnr.groupby('Tender Category')['Tender Type'].value_counts()"
   ]
  },
  {
   "cell_type": "markdown",
   "id": "d66eb4b0",
   "metadata": {},
   "source": [
    "# Tender values Analysis on published tenders"
   ]
  },
  {
   "cell_type": "code",
   "execution_count": 81,
   "id": "1cb1b7db",
   "metadata": {},
   "outputs": [
    {
     "data": {
      "text/html": [
       "<div>\n",
       "<style scoped>\n",
       "    .dataframe tbody tr th:only-of-type {\n",
       "        vertical-align: middle;\n",
       "    }\n",
       "\n",
       "    .dataframe tbody tr th {\n",
       "        vertical-align: top;\n",
       "    }\n",
       "\n",
       "    .dataframe thead th {\n",
       "        text-align: right;\n",
       "    }\n",
       "</style>\n",
       "<table border=\"1\" class=\"dataframe\">\n",
       "  <thead>\n",
       "    <tr style=\"text-align: right;\">\n",
       "      <th></th>\n",
       "      <th>S No</th>\n",
       "      <th>Tender ID</th>\n",
       "      <th>Tender Category</th>\n",
       "      <th>Tender Type</th>\n",
       "      <th>Form of Contract</th>\n",
       "      <th>No of Covers</th>\n",
       "      <th>Value Of Tender (In Rs)</th>\n",
       "      <th>EMD Amount (In Rs)</th>\n",
       "      <th>Tender Status</th>\n",
       "      <th>Tender Stage</th>\n",
       "      <th>No of Bids Received</th>\n",
       "      <th>No of Days b/w Tech and Finance opening</th>\n",
       "      <th>Cycle Time bet. E-Publishing date and opening of price bid (in days)</th>\n",
       "      <th>Organisation Chain</th>\n",
       "    </tr>\n",
       "  </thead>\n",
       "  <tbody>\n",
       "    <tr>\n",
       "      <th>0</th>\n",
       "      <td>1</td>\n",
       "      <td>2021_WCL_203320_1</td>\n",
       "      <td>Works</td>\n",
       "      <td>Open Tender</td>\n",
       "      <td>Item Rate</td>\n",
       "      <td>1</td>\n",
       "      <td>2562665</td>\n",
       "      <td>0</td>\n",
       "      <td>Expired</td>\n",
       "      <td>AOC</td>\n",
       "      <td>6</td>\n",
       "      <td>NaN</td>\n",
       "      <td>NaN</td>\n",
       "      <td>Western Coalfields Limited||CHP||CHP_Civil</td>\n",
       "    </tr>\n",
       "    <tr>\n",
       "      <th>1</th>\n",
       "      <td>2</td>\n",
       "      <td>2021_WCL_203656_1</td>\n",
       "      <td>Goods</td>\n",
       "      <td>Single</td>\n",
       "      <td>Item Wise</td>\n",
       "      <td>2</td>\n",
       "      <td>4085000</td>\n",
       "      <td>0</td>\n",
       "      <td>Published</td>\n",
       "      <td>Financial Bid Opening</td>\n",
       "      <td>1</td>\n",
       "      <td>2.0</td>\n",
       "      <td>10.0</td>\n",
       "      <td>Western Coalfields Limited||NGP||NGP_MM</td>\n",
       "    </tr>\n",
       "    <tr>\n",
       "      <th>2</th>\n",
       "      <td>3</td>\n",
       "      <td>2021_WCL_203659_1</td>\n",
       "      <td>Goods</td>\n",
       "      <td>Single</td>\n",
       "      <td>Item Wise</td>\n",
       "      <td>2</td>\n",
       "      <td>6993000</td>\n",
       "      <td>0</td>\n",
       "      <td>Expired</td>\n",
       "      <td>AOC</td>\n",
       "      <td>1</td>\n",
       "      <td>2.0</td>\n",
       "      <td>10.0</td>\n",
       "      <td>Western Coalfields Limited||NGP||NGP_MM</td>\n",
       "    </tr>\n",
       "    <tr>\n",
       "      <th>3</th>\n",
       "      <td>4</td>\n",
       "      <td>2021_WCL_203661_1</td>\n",
       "      <td>Goods</td>\n",
       "      <td>Single</td>\n",
       "      <td>Item Wise</td>\n",
       "      <td>2</td>\n",
       "      <td>1046772</td>\n",
       "      <td>0</td>\n",
       "      <td>Expired</td>\n",
       "      <td>AOC</td>\n",
       "      <td>1</td>\n",
       "      <td>2.0</td>\n",
       "      <td>10.0</td>\n",
       "      <td>Western Coalfields Limited||NGP||NGP_MM</td>\n",
       "    </tr>\n",
       "    <tr>\n",
       "      <th>4</th>\n",
       "      <td>5</td>\n",
       "      <td>2021_WCL_203680_1</td>\n",
       "      <td>Goods</td>\n",
       "      <td>Open Limited</td>\n",
       "      <td>Item Wise</td>\n",
       "      <td>2</td>\n",
       "      <td>386500</td>\n",
       "      <td>0</td>\n",
       "      <td>Expired</td>\n",
       "      <td>AOC</td>\n",
       "      <td>16</td>\n",
       "      <td>0.0</td>\n",
       "      <td>17.0</td>\n",
       "      <td>Western Coalfields Limited||CHP||CHP_MM</td>\n",
       "    </tr>\n",
       "  </tbody>\n",
       "</table>\n",
       "</div>"
      ],
      "text/plain": [
       "   S No          Tender ID Tender Category   Tender Type Form of Contract  \\\n",
       "0     1  2021_WCL_203320_1           Works   Open Tender        Item Rate   \n",
       "1     2  2021_WCL_203656_1           Goods        Single        Item Wise   \n",
       "2     3  2021_WCL_203659_1           Goods        Single        Item Wise   \n",
       "3     4  2021_WCL_203661_1           Goods        Single        Item Wise   \n",
       "4     5  2021_WCL_203680_1           Goods  Open Limited        Item Wise   \n",
       "\n",
       "   No of Covers  Value Of Tender (In Rs)  EMD Amount (In Rs) Tender Status  \\\n",
       "0             1                  2562665                   0       Expired   \n",
       "1             2                  4085000                   0     Published   \n",
       "2             2                  6993000                   0       Expired   \n",
       "3             2                  1046772                   0       Expired   \n",
       "4             2                   386500                   0       Expired   \n",
       "\n",
       "            Tender Stage  No of Bids Received  \\\n",
       "0                    AOC                    6   \n",
       "1  Financial Bid Opening                    1   \n",
       "2                    AOC                    1   \n",
       "3                    AOC                    1   \n",
       "4                    AOC                   16   \n",
       "\n",
       "   No of Days b/w Tech and Finance opening  \\\n",
       "0                                      NaN   \n",
       "1                                      2.0   \n",
       "2                                      2.0   \n",
       "3                                      2.0   \n",
       "4                                      0.0   \n",
       "\n",
       "   Cycle Time bet. E-Publishing date and opening of price bid (in days)  \\\n",
       "0                                                NaN                      \n",
       "1                                               10.0                      \n",
       "2                                               10.0                      \n",
       "3                                               10.0                      \n",
       "4                                               17.0                      \n",
       "\n",
       "                           Organisation Chain  \n",
       "0  Western Coalfields Limited||CHP||CHP_Civil  \n",
       "1     Western Coalfields Limited||NGP||NGP_MM  \n",
       "2     Western Coalfields Limited||NGP||NGP_MM  \n",
       "3     Western Coalfields Limited||NGP||NGP_MM  \n",
       "4     Western Coalfields Limited||CHP||CHP_MM  "
      ]
     },
     "execution_count": 81,
     "metadata": {},
     "output_type": "execute_result"
    }
   ],
   "source": [
    "dfpub.head()"
   ]
  },
  {
   "cell_type": "code",
   "execution_count": 49,
   "id": "e9f53e2a",
   "metadata": {},
   "outputs": [
    {
     "data": {
      "text/plain": [
       "Tender Category\n",
       "Goods         2747149788\n",
       "Services    121248616913\n",
       "Works         9374240312\n",
       "Name: Value Of Tender (In Rs), dtype: int64"
      ]
     },
     "execution_count": 49,
     "metadata": {},
     "output_type": "execute_result"
    }
   ],
   "source": [
    "dfpub.groupby('Tender Category')['Value Of Tender (In Rs)'].sum()"
   ]
  },
  {
   "cell_type": "code",
   "execution_count": 82,
   "id": "bb2187b3",
   "metadata": {},
   "outputs": [
    {
     "data": {
      "text/html": [
       "<div>\n",
       "<style scoped>\n",
       "    .dataframe tbody tr th:only-of-type {\n",
       "        vertical-align: middle;\n",
       "    }\n",
       "\n",
       "    .dataframe tbody tr th {\n",
       "        vertical-align: top;\n",
       "    }\n",
       "\n",
       "    .dataframe thead th {\n",
       "        text-align: right;\n",
       "    }\n",
       "</style>\n",
       "<table border=\"1\" class=\"dataframe\">\n",
       "  <thead>\n",
       "    <tr style=\"text-align: right;\">\n",
       "      <th></th>\n",
       "      <th>S No</th>\n",
       "      <th>Tender ID</th>\n",
       "      <th>Tender Category</th>\n",
       "      <th>Tender Type</th>\n",
       "      <th>Form of Contract</th>\n",
       "      <th>No of Covers</th>\n",
       "      <th>Value Of Tender (In Rs)</th>\n",
       "      <th>EMD Amount (In Rs)</th>\n",
       "      <th>Tender Status</th>\n",
       "      <th>Tender Stage</th>\n",
       "      <th>No of Bids Received</th>\n",
       "      <th>No of Days b/w Tech and Finance opening</th>\n",
       "      <th>Cycle Time bet. E-Publishing date and opening of price bid (in days)</th>\n",
       "      <th>Organisation Chain</th>\n",
       "    </tr>\n",
       "  </thead>\n",
       "  <tbody>\n",
       "    <tr>\n",
       "      <th>1</th>\n",
       "      <td>2</td>\n",
       "      <td>2021_WCL_203656_1</td>\n",
       "      <td>Goods</td>\n",
       "      <td>Single</td>\n",
       "      <td>Item Wise</td>\n",
       "      <td>2</td>\n",
       "      <td>4085000</td>\n",
       "      <td>0</td>\n",
       "      <td>Published</td>\n",
       "      <td>Financial Bid Opening</td>\n",
       "      <td>1</td>\n",
       "      <td>2.0</td>\n",
       "      <td>10.0</td>\n",
       "      <td>Western Coalfields Limited||NGP||NGP_MM</td>\n",
       "    </tr>\n",
       "    <tr>\n",
       "      <th>2</th>\n",
       "      <td>3</td>\n",
       "      <td>2021_WCL_203659_1</td>\n",
       "      <td>Goods</td>\n",
       "      <td>Single</td>\n",
       "      <td>Item Wise</td>\n",
       "      <td>2</td>\n",
       "      <td>6993000</td>\n",
       "      <td>0</td>\n",
       "      <td>Expired</td>\n",
       "      <td>AOC</td>\n",
       "      <td>1</td>\n",
       "      <td>2.0</td>\n",
       "      <td>10.0</td>\n",
       "      <td>Western Coalfields Limited||NGP||NGP_MM</td>\n",
       "    </tr>\n",
       "    <tr>\n",
       "      <th>3</th>\n",
       "      <td>4</td>\n",
       "      <td>2021_WCL_203661_1</td>\n",
       "      <td>Goods</td>\n",
       "      <td>Single</td>\n",
       "      <td>Item Wise</td>\n",
       "      <td>2</td>\n",
       "      <td>1046772</td>\n",
       "      <td>0</td>\n",
       "      <td>Expired</td>\n",
       "      <td>AOC</td>\n",
       "      <td>1</td>\n",
       "      <td>2.0</td>\n",
       "      <td>10.0</td>\n",
       "      <td>Western Coalfields Limited||NGP||NGP_MM</td>\n",
       "    </tr>\n",
       "    <tr>\n",
       "      <th>4</th>\n",
       "      <td>5</td>\n",
       "      <td>2021_WCL_203680_1</td>\n",
       "      <td>Goods</td>\n",
       "      <td>Open Limited</td>\n",
       "      <td>Item Wise</td>\n",
       "      <td>2</td>\n",
       "      <td>386500</td>\n",
       "      <td>0</td>\n",
       "      <td>Expired</td>\n",
       "      <td>AOC</td>\n",
       "      <td>16</td>\n",
       "      <td>0.0</td>\n",
       "      <td>17.0</td>\n",
       "      <td>Western Coalfields Limited||CHP||CHP_MM</td>\n",
       "    </tr>\n",
       "    <tr>\n",
       "      <th>5</th>\n",
       "      <td>6</td>\n",
       "      <td>2021_WCL_203682_1</td>\n",
       "      <td>Goods</td>\n",
       "      <td>Open Limited</td>\n",
       "      <td>Item Wise</td>\n",
       "      <td>2</td>\n",
       "      <td>577450</td>\n",
       "      <td>0</td>\n",
       "      <td>Published</td>\n",
       "      <td>Financial Bid Opening</td>\n",
       "      <td>2</td>\n",
       "      <td>0.0</td>\n",
       "      <td>21.0</td>\n",
       "      <td>Western Coalfields Limited||CHP||CHP_MM</td>\n",
       "    </tr>\n",
       "  </tbody>\n",
       "</table>\n",
       "</div>"
      ],
      "text/plain": [
       "   S No          Tender ID Tender Category   Tender Type Form of Contract  \\\n",
       "1     2  2021_WCL_203656_1           Goods        Single        Item Wise   \n",
       "2     3  2021_WCL_203659_1           Goods        Single        Item Wise   \n",
       "3     4  2021_WCL_203661_1           Goods        Single        Item Wise   \n",
       "4     5  2021_WCL_203680_1           Goods  Open Limited        Item Wise   \n",
       "5     6  2021_WCL_203682_1           Goods  Open Limited        Item Wise   \n",
       "\n",
       "   No of Covers  Value Of Tender (In Rs)  EMD Amount (In Rs) Tender Status  \\\n",
       "1             2                  4085000                   0     Published   \n",
       "2             2                  6993000                   0       Expired   \n",
       "3             2                  1046772                   0       Expired   \n",
       "4             2                   386500                   0       Expired   \n",
       "5             2                   577450                   0     Published   \n",
       "\n",
       "            Tender Stage  No of Bids Received  \\\n",
       "1  Financial Bid Opening                    1   \n",
       "2                    AOC                    1   \n",
       "3                    AOC                    1   \n",
       "4                    AOC                   16   \n",
       "5  Financial Bid Opening                    2   \n",
       "\n",
       "   No of Days b/w Tech and Finance opening  \\\n",
       "1                                      2.0   \n",
       "2                                      2.0   \n",
       "3                                      2.0   \n",
       "4                                      0.0   \n",
       "5                                      0.0   \n",
       "\n",
       "   Cycle Time bet. E-Publishing date and opening of price bid (in days)  \\\n",
       "1                                               10.0                      \n",
       "2                                               10.0                      \n",
       "3                                               10.0                      \n",
       "4                                               17.0                      \n",
       "5                                               21.0                      \n",
       "\n",
       "                        Organisation Chain  \n",
       "1  Western Coalfields Limited||NGP||NGP_MM  \n",
       "2  Western Coalfields Limited||NGP||NGP_MM  \n",
       "3  Western Coalfields Limited||NGP||NGP_MM  \n",
       "4  Western Coalfields Limited||CHP||CHP_MM  \n",
       "5  Western Coalfields Limited||CHP||CHP_MM  "
      ]
     },
     "execution_count": 82,
     "metadata": {},
     "output_type": "execute_result"
    }
   ],
   "source": [
    "dfpubg.head()"
   ]
  },
  {
   "cell_type": "code",
   "execution_count": 51,
   "id": "874479cd",
   "metadata": {},
   "outputs": [
    {
     "data": {
      "text/plain": [
       "Form of Contract\n",
       "Item Rate                7467066\n",
       "Item Wise              518861845\n",
       "Tender cum Auction    2220820877\n",
       "Name: Value Of Tender (In Rs), dtype: int64"
      ]
     },
     "execution_count": 51,
     "metadata": {},
     "output_type": "execute_result"
    }
   ],
   "source": [
    "dfpubg.groupby('Form of Contract')['Value Of Tender (In Rs)'].sum()"
   ]
  },
  {
   "cell_type": "code",
   "execution_count": 52,
   "id": "28020890",
   "metadata": {},
   "outputs": [
    {
     "data": {
      "text/plain": [
       "Tender Type\n",
       "Open Limited     179692298\n",
       "Open Tender     2310649347\n",
       "Single           256808143\n",
       "Name: Value Of Tender (In Rs), dtype: int64"
      ]
     },
     "execution_count": 52,
     "metadata": {},
     "output_type": "execute_result"
    }
   ],
   "source": [
    "dfpubg.groupby('Tender Type')['Value Of Tender (In Rs)'].sum()"
   ]
  },
  {
   "cell_type": "code",
   "execution_count": 83,
   "id": "cc575f5e",
   "metadata": {},
   "outputs": [
    {
     "data": {
      "text/html": [
       "<div>\n",
       "<style scoped>\n",
       "    .dataframe tbody tr th:only-of-type {\n",
       "        vertical-align: middle;\n",
       "    }\n",
       "\n",
       "    .dataframe tbody tr th {\n",
       "        vertical-align: top;\n",
       "    }\n",
       "\n",
       "    .dataframe thead th {\n",
       "        text-align: right;\n",
       "    }\n",
       "</style>\n",
       "<table border=\"1\" class=\"dataframe\">\n",
       "  <thead>\n",
       "    <tr style=\"text-align: right;\">\n",
       "      <th></th>\n",
       "      <th>S No</th>\n",
       "      <th>Tender ID</th>\n",
       "      <th>Tender Category</th>\n",
       "      <th>Tender Type</th>\n",
       "      <th>Form of Contract</th>\n",
       "      <th>No of Covers</th>\n",
       "      <th>Value Of Tender (In Rs)</th>\n",
       "      <th>EMD Amount (In Rs)</th>\n",
       "      <th>Tender Status</th>\n",
       "      <th>Tender Stage</th>\n",
       "      <th>No of Bids Received</th>\n",
       "      <th>No of Days b/w Tech and Finance opening</th>\n",
       "      <th>Cycle Time bet. E-Publishing date and opening of price bid (in days)</th>\n",
       "      <th>Organisation Chain</th>\n",
       "    </tr>\n",
       "  </thead>\n",
       "  <tbody>\n",
       "    <tr>\n",
       "      <th>47</th>\n",
       "      <td>48</td>\n",
       "      <td>2021_WCL_203832_1</td>\n",
       "      <td>Services</td>\n",
       "      <td>Open Tender</td>\n",
       "      <td>Item Rate</td>\n",
       "      <td>2</td>\n",
       "      <td>31063159</td>\n",
       "      <td>0</td>\n",
       "      <td>Expired</td>\n",
       "      <td>AOC</td>\n",
       "      <td>6</td>\n",
       "      <td>17.0</td>\n",
       "      <td>34.0</td>\n",
       "      <td>Western Coalfields Limited||CHP||CHP_Mining</td>\n",
       "    </tr>\n",
       "    <tr>\n",
       "      <th>48</th>\n",
       "      <td>49</td>\n",
       "      <td>2021_WCL_203858_1</td>\n",
       "      <td>Services</td>\n",
       "      <td>Open Tender</td>\n",
       "      <td>Item Rate</td>\n",
       "      <td>2</td>\n",
       "      <td>20509200</td>\n",
       "      <td>0</td>\n",
       "      <td>Expired</td>\n",
       "      <td>AOC</td>\n",
       "      <td>6</td>\n",
       "      <td>12.0</td>\n",
       "      <td>28.0</td>\n",
       "      <td>Western Coalfields Limited||UMR||UMR_Mining</td>\n",
       "    </tr>\n",
       "    <tr>\n",
       "      <th>53</th>\n",
       "      <td>54</td>\n",
       "      <td>2021_WCL_203875_1</td>\n",
       "      <td>Services</td>\n",
       "      <td>Open Tender</td>\n",
       "      <td>Item Rate</td>\n",
       "      <td>2</td>\n",
       "      <td>26413800</td>\n",
       "      <td>0</td>\n",
       "      <td>Cancelled</td>\n",
       "      <td>To be Opened</td>\n",
       "      <td>0</td>\n",
       "      <td>NaN</td>\n",
       "      <td>NaN</td>\n",
       "      <td>Western Coalfields Limited||Wani N||Wani N_Mining</td>\n",
       "    </tr>\n",
       "    <tr>\n",
       "      <th>56</th>\n",
       "      <td>57</td>\n",
       "      <td>2021_WCL_203916_1</td>\n",
       "      <td>Services</td>\n",
       "      <td>Open Tender</td>\n",
       "      <td>Item Wise</td>\n",
       "      <td>2</td>\n",
       "      <td>3766902672</td>\n",
       "      <td>0</td>\n",
       "      <td>Cancelled</td>\n",
       "      <td>To be Opened</td>\n",
       "      <td>0</td>\n",
       "      <td>NaN</td>\n",
       "      <td>NaN</td>\n",
       "      <td>Western Coalfields Limited||HQ||HQ_Mining</td>\n",
       "    </tr>\n",
       "    <tr>\n",
       "      <th>59</th>\n",
       "      <td>60</td>\n",
       "      <td>2021_WCL_203910_1</td>\n",
       "      <td>Services</td>\n",
       "      <td>Open Tender</td>\n",
       "      <td>Item Rate</td>\n",
       "      <td>2</td>\n",
       "      <td>12348286</td>\n",
       "      <td>0</td>\n",
       "      <td>Expired</td>\n",
       "      <td>AOC</td>\n",
       "      <td>3</td>\n",
       "      <td>15.0</td>\n",
       "      <td>32.0</td>\n",
       "      <td>Western Coalfields Limited||BLP||BLP_Mining</td>\n",
       "    </tr>\n",
       "  </tbody>\n",
       "</table>\n",
       "</div>"
      ],
      "text/plain": [
       "    S No          Tender ID Tender Category  Tender Type Form of Contract  \\\n",
       "47    48  2021_WCL_203832_1        Services  Open Tender        Item Rate   \n",
       "48    49  2021_WCL_203858_1        Services  Open Tender        Item Rate   \n",
       "53    54  2021_WCL_203875_1        Services  Open Tender        Item Rate   \n",
       "56    57  2021_WCL_203916_1        Services  Open Tender        Item Wise   \n",
       "59    60  2021_WCL_203910_1        Services  Open Tender        Item Rate   \n",
       "\n",
       "    No of Covers  Value Of Tender (In Rs)  EMD Amount (In Rs) Tender Status  \\\n",
       "47             2                 31063159                   0       Expired   \n",
       "48             2                 20509200                   0       Expired   \n",
       "53             2                 26413800                   0     Cancelled   \n",
       "56             2               3766902672                   0     Cancelled   \n",
       "59             2                 12348286                   0       Expired   \n",
       "\n",
       "    Tender Stage  No of Bids Received  \\\n",
       "47           AOC                    6   \n",
       "48           AOC                    6   \n",
       "53  To be Opened                    0   \n",
       "56  To be Opened                    0   \n",
       "59           AOC                    3   \n",
       "\n",
       "    No of Days b/w Tech and Finance opening  \\\n",
       "47                                     17.0   \n",
       "48                                     12.0   \n",
       "53                                      NaN   \n",
       "56                                      NaN   \n",
       "59                                     15.0   \n",
       "\n",
       "    Cycle Time bet. E-Publishing date and opening of price bid (in days)  \\\n",
       "47                                               34.0                      \n",
       "48                                               28.0                      \n",
       "53                                                NaN                      \n",
       "56                                                NaN                      \n",
       "59                                               32.0                      \n",
       "\n",
       "                                   Organisation Chain  \n",
       "47        Western Coalfields Limited||CHP||CHP_Mining  \n",
       "48        Western Coalfields Limited||UMR||UMR_Mining  \n",
       "53  Western Coalfields Limited||Wani N||Wani N_Mining  \n",
       "56          Western Coalfields Limited||HQ||HQ_Mining  \n",
       "59        Western Coalfields Limited||BLP||BLP_Mining  "
      ]
     },
     "execution_count": 83,
     "metadata": {},
     "output_type": "execute_result"
    }
   ],
   "source": [
    "dfpubs.head()"
   ]
  },
  {
   "cell_type": "code",
   "execution_count": 54,
   "id": "22f8f39a",
   "metadata": {},
   "outputs": [
    {
     "data": {
      "text/plain": [
       "Form of Contract\n",
       "EOI                             0\n",
       "Item Rate             25240611633\n",
       "Item Wise              7538163001\n",
       "Percentage            88385283279\n",
       "Tender cum Auction       84559000\n",
       "Name: Value Of Tender (In Rs), dtype: int64"
      ]
     },
     "execution_count": 54,
     "metadata": {},
     "output_type": "execute_result"
    }
   ],
   "source": [
    "dfpubs.groupby('Form of Contract')['Value Of Tender (In Rs)'].sum()"
   ]
  },
  {
   "cell_type": "code",
   "execution_count": 55,
   "id": "3321d237",
   "metadata": {},
   "outputs": [
    {
     "data": {
      "text/plain": [
       "Tender Type\n",
       "Limited             83755791\n",
       "Open Limited        30345840\n",
       "Open Tender     121131618146\n",
       "Single               2897136\n",
       "Name: Value Of Tender (In Rs), dtype: int64"
      ]
     },
     "execution_count": 55,
     "metadata": {},
     "output_type": "execute_result"
    }
   ],
   "source": [
    "dfpubs.groupby('Tender Type')['Value Of Tender (In Rs)'].sum()"
   ]
  },
  {
   "cell_type": "code",
   "execution_count": 84,
   "id": "4cbeeb3c",
   "metadata": {},
   "outputs": [
    {
     "data": {
      "text/html": [
       "<div>\n",
       "<style scoped>\n",
       "    .dataframe tbody tr th:only-of-type {\n",
       "        vertical-align: middle;\n",
       "    }\n",
       "\n",
       "    .dataframe tbody tr th {\n",
       "        vertical-align: top;\n",
       "    }\n",
       "\n",
       "    .dataframe thead th {\n",
       "        text-align: right;\n",
       "    }\n",
       "</style>\n",
       "<table border=\"1\" class=\"dataframe\">\n",
       "  <thead>\n",
       "    <tr style=\"text-align: right;\">\n",
       "      <th></th>\n",
       "      <th>S No</th>\n",
       "      <th>Tender ID</th>\n",
       "      <th>Tender Category</th>\n",
       "      <th>Tender Type</th>\n",
       "      <th>Form of Contract</th>\n",
       "      <th>No of Covers</th>\n",
       "      <th>Value Of Tender (In Rs)</th>\n",
       "      <th>EMD Amount (In Rs)</th>\n",
       "      <th>Tender Status</th>\n",
       "      <th>Tender Stage</th>\n",
       "      <th>No of Bids Received</th>\n",
       "      <th>No of Days b/w Tech and Finance opening</th>\n",
       "      <th>Cycle Time bet. E-Publishing date and opening of price bid (in days)</th>\n",
       "      <th>Organisation Chain</th>\n",
       "    </tr>\n",
       "  </thead>\n",
       "  <tbody>\n",
       "    <tr>\n",
       "      <th>0</th>\n",
       "      <td>1</td>\n",
       "      <td>2021_WCL_203320_1</td>\n",
       "      <td>Works</td>\n",
       "      <td>Open Tender</td>\n",
       "      <td>Item Rate</td>\n",
       "      <td>1</td>\n",
       "      <td>2562665</td>\n",
       "      <td>0</td>\n",
       "      <td>Expired</td>\n",
       "      <td>AOC</td>\n",
       "      <td>6</td>\n",
       "      <td>NaN</td>\n",
       "      <td>NaN</td>\n",
       "      <td>Western Coalfields Limited||CHP||CHP_Civil</td>\n",
       "    </tr>\n",
       "    <tr>\n",
       "      <th>8</th>\n",
       "      <td>9</td>\n",
       "      <td>2021_WCL_203704_1</td>\n",
       "      <td>Works</td>\n",
       "      <td>Open Tender</td>\n",
       "      <td>Item Rate</td>\n",
       "      <td>1</td>\n",
       "      <td>1154000</td>\n",
       "      <td>0</td>\n",
       "      <td>Expired</td>\n",
       "      <td>AOC</td>\n",
       "      <td>9</td>\n",
       "      <td>NaN</td>\n",
       "      <td>NaN</td>\n",
       "      <td>Western Coalfields Limited||BLP||BLP_Civil</td>\n",
       "    </tr>\n",
       "    <tr>\n",
       "      <th>9</th>\n",
       "      <td>10</td>\n",
       "      <td>2021_WCL_203707_1</td>\n",
       "      <td>Works</td>\n",
       "      <td>Open Tender</td>\n",
       "      <td>Item Rate</td>\n",
       "      <td>1</td>\n",
       "      <td>2305000</td>\n",
       "      <td>0</td>\n",
       "      <td>Expired</td>\n",
       "      <td>AOC</td>\n",
       "      <td>5</td>\n",
       "      <td>NaN</td>\n",
       "      <td>NaN</td>\n",
       "      <td>Western Coalfields Limited||BLP||BLP_Civil</td>\n",
       "    </tr>\n",
       "    <tr>\n",
       "      <th>10</th>\n",
       "      <td>11</td>\n",
       "      <td>2021_WCL_203675_1</td>\n",
       "      <td>Works</td>\n",
       "      <td>Open Tender</td>\n",
       "      <td>Item Rate</td>\n",
       "      <td>1</td>\n",
       "      <td>257240</td>\n",
       "      <td>0</td>\n",
       "      <td>Published</td>\n",
       "      <td>Evaluation</td>\n",
       "      <td>4</td>\n",
       "      <td>NaN</td>\n",
       "      <td>NaN</td>\n",
       "      <td>Western Coalfields Limited||CHP||CHP_E and M</td>\n",
       "    </tr>\n",
       "    <tr>\n",
       "      <th>14</th>\n",
       "      <td>15</td>\n",
       "      <td>2021_WCL_203686_1</td>\n",
       "      <td>Works</td>\n",
       "      <td>Open Tender</td>\n",
       "      <td>Item Wise</td>\n",
       "      <td>2</td>\n",
       "      <td>17119944</td>\n",
       "      <td>0</td>\n",
       "      <td>Published</td>\n",
       "      <td>Technical Evaluation</td>\n",
       "      <td>3</td>\n",
       "      <td>79.0</td>\n",
       "      <td>99.0</td>\n",
       "      <td>Western Coalfields Limited||Wani N||Wani N_E a...</td>\n",
       "    </tr>\n",
       "  </tbody>\n",
       "</table>\n",
       "</div>"
      ],
      "text/plain": [
       "    S No          Tender ID Tender Category  Tender Type Form of Contract  \\\n",
       "0      1  2021_WCL_203320_1           Works  Open Tender        Item Rate   \n",
       "8      9  2021_WCL_203704_1           Works  Open Tender        Item Rate   \n",
       "9     10  2021_WCL_203707_1           Works  Open Tender        Item Rate   \n",
       "10    11  2021_WCL_203675_1           Works  Open Tender        Item Rate   \n",
       "14    15  2021_WCL_203686_1           Works  Open Tender        Item Wise   \n",
       "\n",
       "    No of Covers  Value Of Tender (In Rs)  EMD Amount (In Rs) Tender Status  \\\n",
       "0              1                  2562665                   0       Expired   \n",
       "8              1                  1154000                   0       Expired   \n",
       "9              1                  2305000                   0       Expired   \n",
       "10             1                   257240                   0     Published   \n",
       "14             2                 17119944                   0     Published   \n",
       "\n",
       "            Tender Stage  No of Bids Received  \\\n",
       "0                    AOC                    6   \n",
       "8                    AOC                    9   \n",
       "9                    AOC                    5   \n",
       "10            Evaluation                    4   \n",
       "14  Technical Evaluation                    3   \n",
       "\n",
       "    No of Days b/w Tech and Finance opening  \\\n",
       "0                                       NaN   \n",
       "8                                       NaN   \n",
       "9                                       NaN   \n",
       "10                                      NaN   \n",
       "14                                     79.0   \n",
       "\n",
       "    Cycle Time bet. E-Publishing date and opening of price bid (in days)  \\\n",
       "0                                                 NaN                      \n",
       "8                                                 NaN                      \n",
       "9                                                 NaN                      \n",
       "10                                                NaN                      \n",
       "14                                               99.0                      \n",
       "\n",
       "                                   Organisation Chain  \n",
       "0          Western Coalfields Limited||CHP||CHP_Civil  \n",
       "8          Western Coalfields Limited||BLP||BLP_Civil  \n",
       "9          Western Coalfields Limited||BLP||BLP_Civil  \n",
       "10       Western Coalfields Limited||CHP||CHP_E and M  \n",
       "14  Western Coalfields Limited||Wani N||Wani N_E a...  "
      ]
     },
     "execution_count": 84,
     "metadata": {},
     "output_type": "execute_result"
    }
   ],
   "source": [
    "dfpubw.head()"
   ]
  },
  {
   "cell_type": "code",
   "execution_count": 57,
   "id": "a606cbf1",
   "metadata": {},
   "outputs": [
    {
     "data": {
      "text/plain": [
       "Form of Contract\n",
       "Fixed-rate       3052822\n",
       "Item Rate     8406050201\n",
       "Item Wise      772731035\n",
       "Percentage     192406254\n",
       "Name: Value Of Tender (In Rs), dtype: int64"
      ]
     },
     "execution_count": 57,
     "metadata": {},
     "output_type": "execute_result"
    }
   ],
   "source": [
    "dfpubw.groupby('Form of Contract')['Value Of Tender (In Rs)'].sum()"
   ]
  },
  {
   "cell_type": "code",
   "execution_count": 58,
   "id": "4fccc9ed",
   "metadata": {},
   "outputs": [
    {
     "data": {
      "text/plain": [
       "Tender Type\n",
       "Limited           5983031\n",
       "Open Tender    6930903611\n",
       "Single            1225336\n",
       "Turnkey        2436128334\n",
       "Name: Value Of Tender (In Rs), dtype: int64"
      ]
     },
     "execution_count": 58,
     "metadata": {},
     "output_type": "execute_result"
    }
   ],
   "source": [
    "dfpubw.groupby('Tender Type')['Value Of Tender (In Rs)'].sum()"
   ]
  },
  {
   "cell_type": "markdown",
   "id": "9f0456a0",
   "metadata": {},
   "source": [
    "# value of tenders in progress"
   ]
  },
  {
   "cell_type": "code",
   "execution_count": 68,
   "id": "08bfbd06",
   "metadata": {},
   "outputs": [
    {
     "data": {
      "text/html": [
       "<div>\n",
       "<style scoped>\n",
       "    .dataframe tbody tr th:only-of-type {\n",
       "        vertical-align: middle;\n",
       "    }\n",
       "\n",
       "    .dataframe tbody tr th {\n",
       "        vertical-align: top;\n",
       "    }\n",
       "\n",
       "    .dataframe thead th {\n",
       "        text-align: right;\n",
       "    }\n",
       "</style>\n",
       "<table border=\"1\" class=\"dataframe\">\n",
       "  <thead>\n",
       "    <tr style=\"text-align: right;\">\n",
       "      <th></th>\n",
       "      <th>S No</th>\n",
       "      <th>Tender ID</th>\n",
       "      <th>Tender Category</th>\n",
       "      <th>Tender Type</th>\n",
       "      <th>Form of Contract</th>\n",
       "      <th>No of Covers</th>\n",
       "      <th>Value Of Tender (In Rs)</th>\n",
       "      <th>Tender Stage</th>\n",
       "      <th>No of Bids Received</th>\n",
       "      <th>No of Days b/w Tech and Finance opening</th>\n",
       "      <th>Cycle Time bet. E-Publishing date and opening of price bid (in days)</th>\n",
       "      <th>Organisation Chain</th>\n",
       "    </tr>\n",
       "  </thead>\n",
       "  <tbody>\n",
       "    <tr>\n",
       "      <th>0</th>\n",
       "      <td>1</td>\n",
       "      <td>2021_WCL_203656_1</td>\n",
       "      <td>Goods</td>\n",
       "      <td>Single</td>\n",
       "      <td>Item Wise</td>\n",
       "      <td>2</td>\n",
       "      <td>4085000</td>\n",
       "      <td>Financial Bid Opening</td>\n",
       "      <td>1</td>\n",
       "      <td>2.0</td>\n",
       "      <td>10.0</td>\n",
       "      <td>Western Coalfields Limited||NGP||NGP_MM</td>\n",
       "    </tr>\n",
       "    <tr>\n",
       "      <th>1</th>\n",
       "      <td>2</td>\n",
       "      <td>2021_WCL_203682_1</td>\n",
       "      <td>Goods</td>\n",
       "      <td>Open Limited</td>\n",
       "      <td>Item Wise</td>\n",
       "      <td>2</td>\n",
       "      <td>577450</td>\n",
       "      <td>Financial Bid Opening</td>\n",
       "      <td>2</td>\n",
       "      <td>0.0</td>\n",
       "      <td>21.0</td>\n",
       "      <td>Western Coalfields Limited||CHP||CHP_MM</td>\n",
       "    </tr>\n",
       "    <tr>\n",
       "      <th>2</th>\n",
       "      <td>3</td>\n",
       "      <td>2021_WCL_203685_1</td>\n",
       "      <td>Goods</td>\n",
       "      <td>Open Tender</td>\n",
       "      <td>Item Wise</td>\n",
       "      <td>2</td>\n",
       "      <td>827888</td>\n",
       "      <td>Financial Bid Opening</td>\n",
       "      <td>8</td>\n",
       "      <td>0.0</td>\n",
       "      <td>17.0</td>\n",
       "      <td>Western Coalfields Limited||CHP||CHP_MM</td>\n",
       "    </tr>\n",
       "    <tr>\n",
       "      <th>3</th>\n",
       "      <td>4</td>\n",
       "      <td>2021_WCL_203675_1</td>\n",
       "      <td>Works</td>\n",
       "      <td>Open Tender</td>\n",
       "      <td>Item Rate</td>\n",
       "      <td>1</td>\n",
       "      <td>257240</td>\n",
       "      <td>Evaluation</td>\n",
       "      <td>4</td>\n",
       "      <td>NaN</td>\n",
       "      <td>NaN</td>\n",
       "      <td>Western Coalfields Limited||CHP||CHP_E and M</td>\n",
       "    </tr>\n",
       "    <tr>\n",
       "      <th>4</th>\n",
       "      <td>5</td>\n",
       "      <td>2021_WCL_203686_1</td>\n",
       "      <td>Works</td>\n",
       "      <td>Open Tender</td>\n",
       "      <td>Item Wise</td>\n",
       "      <td>2</td>\n",
       "      <td>17119944</td>\n",
       "      <td>Technical Evaluation</td>\n",
       "      <td>3</td>\n",
       "      <td>79.0</td>\n",
       "      <td>99.0</td>\n",
       "      <td>Western Coalfields Limited||Wani N||Wani N_E a...</td>\n",
       "    </tr>\n",
       "  </tbody>\n",
       "</table>\n",
       "</div>"
      ],
      "text/plain": [
       "   S No          Tender ID Tender Category   Tender Type Form of Contract  \\\n",
       "0     1  2021_WCL_203656_1           Goods        Single        Item Wise   \n",
       "1     2  2021_WCL_203682_1           Goods  Open Limited        Item Wise   \n",
       "2     3  2021_WCL_203685_1           Goods   Open Tender        Item Wise   \n",
       "3     4  2021_WCL_203675_1           Works   Open Tender        Item Rate   \n",
       "4     5  2021_WCL_203686_1           Works   Open Tender        Item Wise   \n",
       "\n",
       "   No of Covers  Value Of Tender (In Rs)           Tender Stage  \\\n",
       "0             2                  4085000  Financial Bid Opening   \n",
       "1             2                   577450  Financial Bid Opening   \n",
       "2             2                   827888  Financial Bid Opening   \n",
       "3             1                   257240             Evaluation   \n",
       "4             2                 17119944   Technical Evaluation   \n",
       "\n",
       "   No of Bids Received  No of Days b/w Tech and Finance opening  \\\n",
       "0                    1                                      2.0   \n",
       "1                    2                                      0.0   \n",
       "2                    8                                      0.0   \n",
       "3                    4                                      NaN   \n",
       "4                    3                                     79.0   \n",
       "\n",
       "   Cycle Time bet. E-Publishing date and opening of price bid (in days)  \\\n",
       "0                                               10.0                      \n",
       "1                                               21.0                      \n",
       "2                                               17.0                      \n",
       "3                                                NaN                      \n",
       "4                                               99.0                      \n",
       "\n",
       "                                  Organisation Chain  \n",
       "0            Western Coalfields Limited||NGP||NGP_MM  \n",
       "1            Western Coalfields Limited||CHP||CHP_MM  \n",
       "2            Western Coalfields Limited||CHP||CHP_MM  \n",
       "3       Western Coalfields Limited||CHP||CHP_E and M  \n",
       "4  Western Coalfields Limited||Wani N||Wani N_E a...  "
      ]
     },
     "execution_count": 68,
     "metadata": {},
     "output_type": "execute_result"
    }
   ],
   "source": [
    "dfprog.head()"
   ]
  },
  {
   "cell_type": "code",
   "execution_count": 60,
   "id": "70fba21b",
   "metadata": {},
   "outputs": [
    {
     "data": {
      "text/plain": [
       "Tender Category\n",
       "Goods       1148564586\n",
       "Services     638713618\n",
       "Works       1305235032\n",
       "Name: Value Of Tender (In Rs), dtype: int64"
      ]
     },
     "execution_count": 60,
     "metadata": {},
     "output_type": "execute_result"
    }
   ],
   "source": [
    "dfprog.groupby('Tender Category')['Value Of Tender (In Rs)'].sum()"
   ]
  },
  {
   "cell_type": "code",
   "execution_count": 64,
   "id": "6ab457a0",
   "metadata": {},
   "outputs": [
    {
     "data": {
      "text/plain": [
       "Form of Contract\n",
       "Item Rate               3167952\n",
       "Item Wise             318620977\n",
       "Tender cum Auction    826775657\n",
       "Name: Value Of Tender (In Rs), dtype: int64"
      ]
     },
     "execution_count": 64,
     "metadata": {},
     "output_type": "execute_result"
    }
   ],
   "source": [
    "# for goods\n",
    "\n",
    "dfprog[dfprog['Tender Category'] == 'Goods'].groupby('Form of Contract')['Value Of Tender (In Rs)'].sum()"
   ]
  },
  {
   "cell_type": "code",
   "execution_count": 65,
   "id": "e95e2775",
   "metadata": {},
   "outputs": [
    {
     "data": {
      "text/plain": [
       "Tender Type\n",
       "Open Limited     68102886\n",
       "Open Tender     956753582\n",
       "Single          123708118\n",
       "Name: Value Of Tender (In Rs), dtype: int64"
      ]
     },
     "execution_count": 65,
     "metadata": {},
     "output_type": "execute_result"
    }
   ],
   "source": [
    "dfprog[dfprog['Tender Category'] == 'Goods'].groupby('Tender Type')['Value Of Tender (In Rs)'].sum()"
   ]
  },
  {
   "cell_type": "code",
   "execution_count": 69,
   "id": "5e8d4a55",
   "metadata": {},
   "outputs": [
    {
     "data": {
      "text/plain": [
       "Form of Contract\n",
       "EOI                   0\n",
       "Item Rate     152060878\n",
       "Percentage    486652740\n",
       "Name: Value Of Tender (In Rs), dtype: int64"
      ]
     },
     "execution_count": 69,
     "metadata": {},
     "output_type": "execute_result"
    }
   ],
   "source": [
    "# for services\n",
    "\n",
    "dfprog[dfprog['Tender Category'] == 'Services'].groupby('Form of Contract')['Value Of Tender (In Rs)'].sum()"
   ]
  },
  {
   "cell_type": "code",
   "execution_count": 70,
   "id": "0f3387d8",
   "metadata": {},
   "outputs": [
    {
     "data": {
      "text/plain": [
       "Tender Type\n",
       "Open Tender    636540766\n",
       "Single           2172852\n",
       "Name: Value Of Tender (In Rs), dtype: int64"
      ]
     },
     "execution_count": 70,
     "metadata": {},
     "output_type": "execute_result"
    }
   ],
   "source": [
    "dfprog[dfprog['Tender Category'] == 'Services'].groupby('Tender Type')['Value Of Tender (In Rs)'].sum()"
   ]
  },
  {
   "cell_type": "code",
   "execution_count": 71,
   "id": "148f6729",
   "metadata": {},
   "outputs": [
    {
     "data": {
      "text/plain": [
       "Form of Contract\n",
       "Item Rate     823572806\n",
       "Item Wise     460725150\n",
       "Percentage     20937076\n",
       "Name: Value Of Tender (In Rs), dtype: int64"
      ]
     },
     "execution_count": 71,
     "metadata": {},
     "output_type": "execute_result"
    }
   ],
   "source": [
    "# for works\n",
    "\n",
    "dfprog[dfprog['Tender Category'] == 'Works'].groupby('Form of Contract')['Value Of Tender (In Rs)'].sum()"
   ]
  },
  {
   "cell_type": "code",
   "execution_count": 72,
   "id": "9f7109e8",
   "metadata": {},
   "outputs": [
    {
     "data": {
      "text/plain": [
       "Tender Type\n",
       "Limited           2832000\n",
       "Open Tender    1301177696\n",
       "Single            1225336\n",
       "Name: Value Of Tender (In Rs), dtype: int64"
      ]
     },
     "execution_count": 72,
     "metadata": {},
     "output_type": "execute_result"
    }
   ],
   "source": [
    "dfprog[dfprog['Tender Category'] == 'Works'].groupby('Tender Type')['Value Of Tender (In Rs)'].sum()"
   ]
  },
  {
   "cell_type": "markdown",
   "id": "b20f51e9",
   "metadata": {},
   "source": [
    "# Value of cancelled tenders"
   ]
  },
  {
   "cell_type": "code",
   "execution_count": 85,
   "id": "ce7c6397",
   "metadata": {},
   "outputs": [
    {
     "data": {
      "text/html": [
       "<div>\n",
       "<style scoped>\n",
       "    .dataframe tbody tr th:only-of-type {\n",
       "        vertical-align: middle;\n",
       "    }\n",
       "\n",
       "    .dataframe tbody tr th {\n",
       "        vertical-align: top;\n",
       "    }\n",
       "\n",
       "    .dataframe thead th {\n",
       "        text-align: right;\n",
       "    }\n",
       "</style>\n",
       "<table border=\"1\" class=\"dataframe\">\n",
       "  <thead>\n",
       "    <tr style=\"text-align: right;\">\n",
       "      <th></th>\n",
       "      <th>S No</th>\n",
       "      <th>Tender ID</th>\n",
       "      <th>Tender Category</th>\n",
       "      <th>Tender Type</th>\n",
       "      <th>Form of Contract</th>\n",
       "      <th>No of Covers</th>\n",
       "      <th>Value Of Tender (In Rs)</th>\n",
       "      <th>EMD Amount (In Rs)</th>\n",
       "      <th>Tender Status</th>\n",
       "      <th>Tender Stage</th>\n",
       "      <th>No of Bids Received</th>\n",
       "      <th>No of Days b/w Tech and Finance opening</th>\n",
       "      <th>Cycle Time bet. E-Publishing date and opening of price bid (in days)</th>\n",
       "      <th>Organisation Chain</th>\n",
       "    </tr>\n",
       "  </thead>\n",
       "  <tbody>\n",
       "    <tr>\n",
       "      <th>18</th>\n",
       "      <td>19</td>\n",
       "      <td>2021_WCL_203750_1</td>\n",
       "      <td>Goods</td>\n",
       "      <td>Open Tender</td>\n",
       "      <td>Item Wise</td>\n",
       "      <td>2</td>\n",
       "      <td>408279</td>\n",
       "      <td>0</td>\n",
       "      <td>Cancelled</td>\n",
       "      <td>Financial Bid Opening</td>\n",
       "      <td>4</td>\n",
       "      <td>0.0</td>\n",
       "      <td>21.0</td>\n",
       "      <td>Western Coalfields Limited||Majri||Majri_MM</td>\n",
       "    </tr>\n",
       "    <tr>\n",
       "      <th>26</th>\n",
       "      <td>27</td>\n",
       "      <td>2021_WCL_203795_1</td>\n",
       "      <td>Works</td>\n",
       "      <td>Open Tender</td>\n",
       "      <td>Item Rate</td>\n",
       "      <td>2</td>\n",
       "      <td>6473702</td>\n",
       "      <td>0</td>\n",
       "      <td>Cancelled</td>\n",
       "      <td>To be Opened</td>\n",
       "      <td>3</td>\n",
       "      <td>NaN</td>\n",
       "      <td>NaN</td>\n",
       "      <td>Western Coalfields Limited||Pench||Pench_E and M</td>\n",
       "    </tr>\n",
       "    <tr>\n",
       "      <th>39</th>\n",
       "      <td>40</td>\n",
       "      <td>2021_WCL_203845_1</td>\n",
       "      <td>Goods</td>\n",
       "      <td>Open Tender</td>\n",
       "      <td>Item Wise</td>\n",
       "      <td>2</td>\n",
       "      <td>9277455</td>\n",
       "      <td>185550</td>\n",
       "      <td>Cancelled</td>\n",
       "      <td>To be Opened</td>\n",
       "      <td>0</td>\n",
       "      <td>NaN</td>\n",
       "      <td>NaN</td>\n",
       "      <td>Western Coalfields Limited||Pench||Pench_MM</td>\n",
       "    </tr>\n",
       "    <tr>\n",
       "      <th>46</th>\n",
       "      <td>47</td>\n",
       "      <td>2021_WCL_203674_7</td>\n",
       "      <td>Works</td>\n",
       "      <td>Open Tender</td>\n",
       "      <td>Item Rate</td>\n",
       "      <td>1</td>\n",
       "      <td>248647</td>\n",
       "      <td>0</td>\n",
       "      <td>Cancelled</td>\n",
       "      <td>Bid Opening</td>\n",
       "      <td>6</td>\n",
       "      <td>NaN</td>\n",
       "      <td>NaN</td>\n",
       "      <td>Western Coalfields Limited||NGP||NGP_Civil</td>\n",
       "    </tr>\n",
       "    <tr>\n",
       "      <th>53</th>\n",
       "      <td>54</td>\n",
       "      <td>2021_WCL_203875_1</td>\n",
       "      <td>Services</td>\n",
       "      <td>Open Tender</td>\n",
       "      <td>Item Rate</td>\n",
       "      <td>2</td>\n",
       "      <td>26413800</td>\n",
       "      <td>0</td>\n",
       "      <td>Cancelled</td>\n",
       "      <td>To be Opened</td>\n",
       "      <td>0</td>\n",
       "      <td>NaN</td>\n",
       "      <td>NaN</td>\n",
       "      <td>Western Coalfields Limited||Wani N||Wani N_Mining</td>\n",
       "    </tr>\n",
       "  </tbody>\n",
       "</table>\n",
       "</div>"
      ],
      "text/plain": [
       "    S No          Tender ID Tender Category  Tender Type Form of Contract  \\\n",
       "18    19  2021_WCL_203750_1           Goods  Open Tender        Item Wise   \n",
       "26    27  2021_WCL_203795_1           Works  Open Tender        Item Rate   \n",
       "39    40  2021_WCL_203845_1           Goods  Open Tender        Item Wise   \n",
       "46    47  2021_WCL_203674_7           Works  Open Tender        Item Rate   \n",
       "53    54  2021_WCL_203875_1        Services  Open Tender        Item Rate   \n",
       "\n",
       "    No of Covers  Value Of Tender (In Rs)  EMD Amount (In Rs) Tender Status  \\\n",
       "18             2                   408279                   0     Cancelled   \n",
       "26             2                  6473702                   0     Cancelled   \n",
       "39             2                  9277455              185550     Cancelled   \n",
       "46             1                   248647                   0     Cancelled   \n",
       "53             2                 26413800                   0     Cancelled   \n",
       "\n",
       "             Tender Stage  No of Bids Received  \\\n",
       "18  Financial Bid Opening                    4   \n",
       "26           To be Opened                    3   \n",
       "39           To be Opened                    0   \n",
       "46            Bid Opening                    6   \n",
       "53           To be Opened                    0   \n",
       "\n",
       "    No of Days b/w Tech and Finance opening  \\\n",
       "18                                      0.0   \n",
       "26                                      NaN   \n",
       "39                                      NaN   \n",
       "46                                      NaN   \n",
       "53                                      NaN   \n",
       "\n",
       "    Cycle Time bet. E-Publishing date and opening of price bid (in days)  \\\n",
       "18                                               21.0                      \n",
       "26                                                NaN                      \n",
       "39                                                NaN                      \n",
       "46                                                NaN                      \n",
       "53                                                NaN                      \n",
       "\n",
       "                                   Organisation Chain  \n",
       "18        Western Coalfields Limited||Majri||Majri_MM  \n",
       "26   Western Coalfields Limited||Pench||Pench_E and M  \n",
       "39        Western Coalfields Limited||Pench||Pench_MM  \n",
       "46         Western Coalfields Limited||NGP||NGP_Civil  \n",
       "53  Western Coalfields Limited||Wani N||Wani N_Mining  "
      ]
     },
     "execution_count": 85,
     "metadata": {},
     "output_type": "execute_result"
    }
   ],
   "source": [
    "dfcancelled.head()"
   ]
  },
  {
   "cell_type": "code",
   "execution_count": 86,
   "id": "9932d400",
   "metadata": {},
   "outputs": [
    {
     "data": {
      "text/plain": [
       "Tender Category\n",
       "Goods         286915945\n",
       "Services    41538447291\n",
       "Works        1213568682\n",
       "Name: Value Of Tender (In Rs), dtype: int64"
      ]
     },
     "execution_count": 86,
     "metadata": {},
     "output_type": "execute_result"
    }
   ],
   "source": [
    "dfcancelled.groupby('Tender Category')['Value Of Tender (In Rs)'].sum()"
   ]
  },
  {
   "cell_type": "code",
   "execution_count": 87,
   "id": "840135a0",
   "metadata": {},
   "outputs": [
    {
     "data": {
      "text/plain": [
       "Form of Contract\n",
       "Item Wise              46481888\n",
       "Tender cum Auction    240434057\n",
       "Name: Value Of Tender (In Rs), dtype: int64"
      ]
     },
     "execution_count": 87,
     "metadata": {},
     "output_type": "execute_result"
    }
   ],
   "source": [
    "# for goods\n",
    "dfcancelled[dfcancelled['Tender Category'] == 'Goods'].groupby('Form of Contract')['Value Of Tender (In Rs)'].sum()"
   ]
  },
  {
   "cell_type": "code",
   "execution_count": 88,
   "id": "9b9a9b03",
   "metadata": {},
   "outputs": [
    {
     "data": {
      "text/plain": [
       "Tender Type\n",
       "Open Limited      5041868\n",
       "Open Tender     270508857\n",
       "Single           11365220\n",
       "Name: Value Of Tender (In Rs), dtype: int64"
      ]
     },
     "execution_count": 88,
     "metadata": {},
     "output_type": "execute_result"
    }
   ],
   "source": [
    "dfcancelled[dfcancelled['Tender Category'] == 'Goods'].groupby('Tender Type')['Value Of Tender (In Rs)'].sum()"
   ]
  },
  {
   "cell_type": "code",
   "execution_count": 89,
   "id": "52bd2ba8",
   "metadata": {},
   "outputs": [
    {
     "data": {
      "text/plain": [
       "Form of Contract\n",
       "Item Rate             24743515355\n",
       "Item Wise              3766921172\n",
       "Percentage            12943451764\n",
       "Tender cum Auction       84559000\n",
       "Name: Value Of Tender (In Rs), dtype: int64"
      ]
     },
     "execution_count": 89,
     "metadata": {},
     "output_type": "execute_result"
    }
   ],
   "source": [
    "# for services\n",
    "dfcancelled[dfcancelled['Tender Category'] == 'Services'].groupby('Form of Contract')['Value Of Tender (In Rs)'].sum()"
   ]
  },
  {
   "cell_type": "code",
   "execution_count": 90,
   "id": "39f2a60d",
   "metadata": {},
   "outputs": [
    {
     "data": {
      "text/plain": [
       "Tender Type\n",
       "Limited            39775266\n",
       "Open Limited       30345840\n",
       "Open Tender     41468326185\n",
       "Name: Value Of Tender (In Rs), dtype: int64"
      ]
     },
     "execution_count": 90,
     "metadata": {},
     "output_type": "execute_result"
    }
   ],
   "source": [
    "dfcancelled[dfcancelled['Tender Category'] == 'Services'].groupby('Tender Type')['Value Of Tender (In Rs)'].sum()"
   ]
  },
  {
   "cell_type": "code",
   "execution_count": 91,
   "id": "6ca20a50",
   "metadata": {},
   "outputs": [
    {
     "data": {
      "text/plain": [
       "Form of Contract\n",
       "Item Rate     1025452464\n",
       "Item Wise      160788669\n",
       "Percentage      27327549\n",
       "Name: Value Of Tender (In Rs), dtype: int64"
      ]
     },
     "execution_count": 91,
     "metadata": {},
     "output_type": "execute_result"
    }
   ],
   "source": [
    "# for works\n",
    "dfcancelled[dfcancelled['Tender Category'] == 'Works'].groupby('Form of Contract')['Value Of Tender (In Rs)'].sum()"
   ]
  },
  {
   "cell_type": "code",
   "execution_count": 93,
   "id": "7b431574",
   "metadata": {},
   "outputs": [
    {
     "data": {
      "text/plain": [
       "Tender Type\n",
       "Open Tender    1205088348\n",
       "Turnkey           8480334\n",
       "Name: Value Of Tender (In Rs), dtype: int64"
      ]
     },
     "execution_count": 93,
     "metadata": {},
     "output_type": "execute_result"
    }
   ],
   "source": [
    "dfcancelled[dfcancelled['Tender Category'] == 'Works'].groupby('Tender Type')['Value Of Tender (In Rs)'].sum()"
   ]
  },
  {
   "cell_type": "code",
   "execution_count": null,
   "id": "ead466ed",
   "metadata": {},
   "outputs": [],
   "source": []
  }
 ],
 "metadata": {
  "kernelspec": {
   "display_name": "Python 3 (ipykernel)",
   "language": "python",
   "name": "python3"
  },
  "language_info": {
   "codemirror_mode": {
    "name": "ipython",
    "version": 3
   },
   "file_extension": ".py",
   "mimetype": "text/x-python",
   "name": "python",
   "nbconvert_exporter": "python",
   "pygments_lexer": "ipython3",
   "version": "3.9.12"
  }
 },
 "nbformat": 4,
 "nbformat_minor": 5
}
