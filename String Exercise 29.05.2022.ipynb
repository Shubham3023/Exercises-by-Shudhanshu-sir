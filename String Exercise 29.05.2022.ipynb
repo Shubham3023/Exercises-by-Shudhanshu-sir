{
 "cells": [
  {
   "cell_type": "markdown",
   "id": "c3b378fb",
   "metadata": {},
   "source": [
    "Exercise: Strings basic:\n",
    "\n",
    "s = \"this is My First Python programming class and i am learNING python string and its function\"\n",
    "\n",
    "1 . Try to extract data from index one to index 300 with a jump of 3\n",
    "\n",
    "2. Try to reverse a string without using reverse function \n",
    "\n",
    "3. Try to split a string after conversion of entire string in uppercase \n",
    "\n",
    "4. try to convert the whole string into lower case \n",
    "\n",
    "5 . Try to capitalize the whole string\n",
    "\n",
    "6 . Write a diference between isalnum() and isalpha()\n",
    "\n",
    "7. Try to give an example of expand tab\n",
    "\n",
    "8 . Give an example of strip , lstrip and rstrip \n",
    "\n",
    "9.  Replace a string charecter by another charector by taking your own example \n",
    "\"sudhanshu\"\n",
    "\n",
    "10 . Try  to give a defination of string center function with and exmple \n",
    "\n",
    "11 . Write your own definition of compiler and interpretor without copy paste form internet in your own language\n",
    "\n",
    "12 . Python is a interpreted of compiled language give a clear ans with your understanding \n",
    "\n",
    "13 . Try to write a usecase of python with your understanding .\n",
    "\n",
    "\n",
    "you have to send a jupyter notebook to shivan@ineuron.ai before next saturday class 21st of may . \n"
   ]
  },
  {
   "cell_type": "code",
   "execution_count": 1,
   "id": "ee9d27ad",
   "metadata": {},
   "outputs": [],
   "source": [
    "s = \"this is My First Python programming class and i am learNING python string and its function\""
   ]
  },
  {
   "cell_type": "markdown",
   "id": "0f77d0fb",
   "metadata": {},
   "source": [
    "Q1: Try to extract data from index one to index 300 with a jump of 3 "
   ]
  },
  {
   "cell_type": "code",
   "execution_count": 2,
   "id": "bfb401d6",
   "metadata": {},
   "outputs": [
    {
     "data": {
      "text/plain": [
       "'h   r tnrrmglsnimeNGyosi dtfco'"
      ]
     },
     "execution_count": 2,
     "metadata": {},
     "output_type": "execute_result"
    }
   ],
   "source": [
    "s[1:300:3]"
   ]
  },
  {
   "cell_type": "markdown",
   "id": "c64dfa84",
   "metadata": {},
   "source": [
    "Q2: Try to reverse a string without using reverse function"
   ]
  },
  {
   "cell_type": "code",
   "execution_count": 3,
   "id": "b5e02bd6",
   "metadata": {},
   "outputs": [
    {
     "data": {
      "text/plain": [
       "'noitcnuf sti dna gnirts nohtyp GNINrael ma i dna ssalc gnimmargorp nohtyP tsriF yM si siht'"
      ]
     },
     "execution_count": 3,
     "metadata": {},
     "output_type": "execute_result"
    }
   ],
   "source": [
    "s[::-1]"
   ]
  },
  {
   "cell_type": "markdown",
   "id": "37f095d6",
   "metadata": {},
   "source": [
    "Q3: Try to split a string after conversion of entire string in uppercase"
   ]
  },
  {
   "cell_type": "code",
   "execution_count": 9,
   "id": "5c983819",
   "metadata": {},
   "outputs": [],
   "source": [
    "p = s.upper()"
   ]
  },
  {
   "cell_type": "code",
   "execution_count": 10,
   "id": "c4fe9c55",
   "metadata": {},
   "outputs": [
    {
     "data": {
      "text/plain": [
       "['THIS',\n",
       " 'IS',\n",
       " 'MY',\n",
       " 'FIRST',\n",
       " 'PYTHON',\n",
       " 'PROGRAMMING',\n",
       " 'CLASS',\n",
       " 'AND',\n",
       " 'I',\n",
       " 'AM',\n",
       " 'LEARNING',\n",
       " 'PYTHON',\n",
       " 'STRING',\n",
       " 'AND',\n",
       " 'ITS',\n",
       " 'FUNCTION']"
      ]
     },
     "execution_count": 10,
     "metadata": {},
     "output_type": "execute_result"
    }
   ],
   "source": [
    "p.split(\" \")"
   ]
  },
  {
   "cell_type": "markdown",
   "id": "3fb26054",
   "metadata": {},
   "source": [
    "Q4: try to convert the whole string into lower case"
   ]
  },
  {
   "cell_type": "code",
   "execution_count": 11,
   "id": "ddd52761",
   "metadata": {},
   "outputs": [
    {
     "data": {
      "text/plain": [
       "'this is my first python programming class and i am learning python string and its function'"
      ]
     },
     "execution_count": 11,
     "metadata": {},
     "output_type": "execute_result"
    }
   ],
   "source": [
    "s.lower()"
   ]
  },
  {
   "cell_type": "markdown",
   "id": "572bf569",
   "metadata": {},
   "source": [
    "Q5: Try to capitalize the whole string "
   ]
  },
  {
   "cell_type": "code",
   "execution_count": 12,
   "id": "5dc1fecb",
   "metadata": {},
   "outputs": [
    {
     "data": {
      "text/plain": [
       "'This Is My First Python Programming Class And I Am Learning Python String And Its Function'"
      ]
     },
     "execution_count": 12,
     "metadata": {},
     "output_type": "execute_result"
    }
   ],
   "source": [
    "s.title() "
   ]
  },
  {
   "cell_type": "markdown",
   "id": "87481e82",
   "metadata": {},
   "source": [
    "Q6: Write a difference between isalnum() and isalpha()"
   ]
  },
  {
   "cell_type": "markdown",
   "id": "89c0091a",
   "metadata": {},
   "source": [
    "isalnum() will return True for a string containing both alphabet and numeric value and also for a string containing only alphabet......whereas isalpha() will only return True for a string containing only alphabets."
   ]
  },
  {
   "cell_type": "markdown",
   "id": "9c784a3b",
   "metadata": {},
   "source": [
    "Q7: Try to give an example of expand tab"
   ]
  },
  {
   "cell_type": "code",
   "execution_count": 27,
   "id": "b0e6b360",
   "metadata": {},
   "outputs": [],
   "source": [
    "s1=\"My\\tname\\tis\\tShubham\\tVerma\\tand\\tI\\twant\\tto\\tbecome\\ta\\tdata\\tscientist\""
   ]
  },
  {
   "cell_type": "code",
   "execution_count": 28,
   "id": "d98810de",
   "metadata": {},
   "outputs": [
    {
     "data": {
      "text/plain": [
       "'My      name    is      Shubham Verma   and     I       want    to      become  a       data    scientist'"
      ]
     },
     "execution_count": 28,
     "metadata": {},
     "output_type": "execute_result"
    }
   ],
   "source": [
    "s1.expandtabs()"
   ]
  },
  {
   "cell_type": "markdown",
   "id": "3ec8445b",
   "metadata": {},
   "source": [
    "Q8: Give an example of strip , lstrip and rstrip "
   ]
  },
  {
   "cell_type": "code",
   "execution_count": 31,
   "id": "e186be7e",
   "metadata": {},
   "outputs": [],
   "source": [
    "s2=\"   Shubham   \""
   ]
  },
  {
   "cell_type": "code",
   "execution_count": 32,
   "id": "ed4c0ff2",
   "metadata": {},
   "outputs": [
    {
     "data": {
      "text/plain": [
       "'Shubham'"
      ]
     },
     "execution_count": 32,
     "metadata": {},
     "output_type": "execute_result"
    }
   ],
   "source": [
    "s2.strip()"
   ]
  },
  {
   "cell_type": "code",
   "execution_count": 33,
   "id": "f86d8a7a",
   "metadata": {},
   "outputs": [
    {
     "data": {
      "text/plain": [
       "'Shubham   '"
      ]
     },
     "execution_count": 33,
     "metadata": {},
     "output_type": "execute_result"
    }
   ],
   "source": [
    "s2.lstrip()"
   ]
  },
  {
   "cell_type": "code",
   "execution_count": 34,
   "id": "ef391dda",
   "metadata": {},
   "outputs": [
    {
     "data": {
      "text/plain": [
       "'   Shubham'"
      ]
     },
     "execution_count": 34,
     "metadata": {},
     "output_type": "execute_result"
    }
   ],
   "source": [
    "s2.rstrip()"
   ]
  },
  {
   "cell_type": "markdown",
   "id": "4dc086d2",
   "metadata": {},
   "source": [
    "Q9: Replace a string charecter by another charector by taking your own example \"shubham \""
   ]
  },
  {
   "cell_type": "code",
   "execution_count": 51,
   "id": "54e59ae2",
   "metadata": {},
   "outputs": [],
   "source": [
    "s3=\"Shubham \""
   ]
  },
  {
   "cell_type": "code",
   "execution_count": 52,
   "id": "3fe4dab0",
   "metadata": {},
   "outputs": [
    {
     "data": {
      "text/plain": [
       "8"
      ]
     },
     "execution_count": 52,
     "metadata": {},
     "output_type": "execute_result"
    }
   ],
   "source": [
    "len(s3)"
   ]
  },
  {
   "cell_type": "code",
   "execution_count": 53,
   "id": "5d64f34c",
   "metadata": {},
   "outputs": [
    {
     "data": {
      "text/plain": [
       "'ShubhamVerma'"
      ]
     },
     "execution_count": 53,
     "metadata": {},
     "output_type": "execute_result"
    }
   ],
   "source": [
    "s3.replace(\" \",\"Verma\")"
   ]
  },
  {
   "cell_type": "markdown",
   "id": "76cc3ec1",
   "metadata": {},
   "source": [
    "Q10: Try to give a defination of string center function with and exmple"
   ]
  },
  {
   "cell_type": "markdown",
   "id": "f8f6808b",
   "metadata": {},
   "source": [
    "s.center() : it requires two arguments, first a width and second is fill character which is used to fill the spaces.\n",
    "    for example, consider string s5=\"RAM\" consider width to be 19 and fill character \"*\" then the output of s5.center(19,\"*\") will be a string of width 19 with eight * on front and back of RAM.\n",
    "    '********RAM********'"
   ]
  },
  {
   "cell_type": "code",
   "execution_count": 54,
   "id": "60f1dd0d",
   "metadata": {},
   "outputs": [],
   "source": [
    "s5=\"RAM\""
   ]
  },
  {
   "cell_type": "code",
   "execution_count": 56,
   "id": "3a36d797",
   "metadata": {},
   "outputs": [
    {
     "data": {
      "text/plain": [
       "'********RAM********'"
      ]
     },
     "execution_count": 56,
     "metadata": {},
     "output_type": "execute_result"
    }
   ],
   "source": [
    "s5.center(19,\"*\")"
   ]
  },
  {
   "cell_type": "markdown",
   "id": "6b22b5e0",
   "metadata": {},
   "source": [
    "Q11: Write your own definition of compiler and interpretor without copy paste form internet in your own language "
   ]
  },
  {
   "cell_type": "markdown",
   "id": "64a5e4dc",
   "metadata": {},
   "source": [
    "Compiler: it is a program that translates the code written by person into a language recoginised by computer.\n",
    "    it translate the whole code at once. The code execution is fast as compared to interpreter.\n",
    "Interpreter: it is also a program that translates the code written by person in a language recoginised by computer,\n",
    "    but the difference is that it translates the each code line one by one, hence the code execution is slow, but \n",
    "    advantage is that it stops at that line where code is incorrect."
   ]
  },
  {
   "cell_type": "markdown",
   "id": "86a8eb3e",
   "metadata": {},
   "source": [
    "Q12: Python is a interpreted or compiled language give a clear ans with your understanding"
   ]
  },
  {
   "cell_type": "markdown",
   "id": "d6174085",
   "metadata": {},
   "source": [
    "Python is an interpreted language, because an interpreter is used to translate the code into machine language then\n",
    "it is processed by computer."
   ]
  },
  {
   "cell_type": "markdown",
   "id": "dc4401f5",
   "metadata": {},
   "source": [
    "Q13: Try to write a usecase of python with your understanding ."
   ]
  },
  {
   "cell_type": "code",
   "execution_count": null,
   "id": "9e935593",
   "metadata": {},
   "outputs": [],
   "source": [
    "Take example of a data taken from wikipedia in form of string, python can be used to process \n",
    "that data before it can be used to derive meaning ful insights.\n",
    "suppose the string contains many punctuation marks that can be removed, foreign language character \n",
    "can be removed, duplicates can be removed,etc\n",
    "So python can be used in cleaning of Raw data.\n"
   ]
  }
 ],
 "metadata": {
  "kernelspec": {
   "display_name": "Python 3 (ipykernel)",
   "language": "python",
   "name": "python3"
  },
  "language_info": {
   "codemirror_mode": {
    "name": "ipython",
    "version": 3
   },
   "file_extension": ".py",
   "mimetype": "text/x-python",
   "name": "python",
   "nbconvert_exporter": "python",
   "pygments_lexer": "ipython3",
   "version": "3.9.12"
  }
 },
 "nbformat": 4,
 "nbformat_minor": 5
}
